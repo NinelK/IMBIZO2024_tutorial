{
 "cells": [
  {
   "cell_type": "markdown",
   "metadata": {
    "editable": true,
    "id": "9S_38ayWhm5W",
    "slideshow": {
     "slide_type": ""
    },
    "tags": []
   },
   "source": [
    "# **Tutorial:** Dynamical systems in neuroscience"
   ]
  },
  {
   "cell_type": "markdown",
   "metadata": {
    "editable": true,
    "id": "5lSgytL2f3OV",
    "slideshow": {
     "slide_type": "skip"
    },
    "tags": []
   },
   "source": [
    "## Introduction\n",
    "\n",
    "Dynamical systems are systems that **evolve** in time. These can be physical systems, economic systems, neurons, neural networks or the whole brain. No matter what the system is, the universal dynamical system framework can help us understand its time-dependent behavior."
   ]
  },
  {
   "cell_type": "markdown",
   "metadata": {
    "editable": true,
    "slideshow": {
     "slide_type": "skip"
    },
    "tags": []
   },
   "source": [
    "When modelling dynamics, we can represent time in two different ways: *discrete* or *continuous*. In both cases, we can write down the evolution of the system as a function of its previous `state' $\\mathbf{x}$ and external inputs that the system receives $\\mathbf{u}$:\n",
    "\n",
    "Discrete time systems               |           Continuous time systems\n",
    "------------------------------------|-------------------------------------\n",
    " $\\mathbf{x}_{t+1} = F_d(\\mathbf{x}_t,\\mathbf{u}_t)$           |    $\\frac{d\\mathbf{x}(t)}{dt} = F_c(\\mathbf{x}(t),\\mathbf{u}(t))$\n",
    " \n",
    "*Notation:* The variables in **bold** here correspond to vectors, e.g. $\\mathbf{x} = (x_1,x_2,\\ldots,x_n)^T$.\n",
    "\n",
    "Here, the state $\\mathbf{x}$ can, for instance, correspont to neural firing. In discrete case, $\\mathbf{x}_t$ would be the number of spikes emmited within one time bin, while $\\mathbf{x}(t)$ could be a function which is only non-zero at spike times.\n",
    "External inputs $\\mathbf{u}$ in this case would correspond to the inputs from other neurons."
   ]
  },
  {
   "cell_type": "markdown",
   "metadata": {
    "editable": true,
    "slideshow": {
     "slide_type": "skip"
    },
    "tags": []
   },
   "source": [
    "The key part of the dynamical systems framework is the **evolution function** $F$. Whether continuous $F_c$ or discrete $F_d$, it can tell us a lot about the system:\n",
    "> The power of the dynamical systems approach to neuroscience, as well as to many other sciences, is that we can tell something, or many things, about a system without knowing all the details that govern the system evolution. We do not even use equations to do that! Some may even wonder why we call it a mathematical theory.        *Eugene Izhikevich [1]*\n",
    "\n",
    "Therefore, the main goal of the tutorial is to learn how to tell something about the dynamical system knowing $F$."
   ]
  },
  {
   "cell_type": "markdown",
   "metadata": {
    "editable": true,
    "id": "5e6LtQ4p-B8U",
    "slideshow": {
     "slide_type": "slide"
    },
    "tags": []
   },
   "source": [
    "## Setups"
   ]
  },
  {
   "cell_type": "code",
   "execution_count": null,
   "metadata": {
    "editable": true,
    "id": "qH1B5GBH9969",
    "slideshow": {
     "slide_type": ""
    },
    "tags": []
   },
   "outputs": [],
   "source": [
    "import matplotlib.pyplot as plt\n",
    "import numpy as np\n",
    "import ipywidgets as widgets       # interactive display\n",
    "from matplotlib import rcParams\n",
    "from scipy.linalg import expm\n",
    "from scipy.optimize import minimize\n",
    "from matplotlib import cm\n",
    "cmap = cm.get_cmap(\"RdYlGn\")\n",
    "rcParams.update({'font.size': 18})\n",
    "import warnings\n",
    "warnings.filterwarnings(\"ignore\")"
   ]
  },
  {
   "cell_type": "markdown",
   "metadata": {
    "editable": true,
    "id": "N_XDFK9Xe9Sj",
    "slideshow": {
     "slide_type": "slide"
    },
    "tags": []
   },
   "source": [
    "# Part 1: Autonomous linear dynamical systems (LDS)"
   ]
  },
  {
   "cell_type": "markdown",
   "metadata": {
    "editable": true,
    "id": "1-CiIYrZ9wCc",
    "slideshow": {
     "slide_type": ""
    },
    "tags": []
   },
   "source": [
    "Sometimes, we can assume that the system does not receive any external inputs and evolves in time on its own ( $u(t)=0$ ). Such dynamical systems are called **autonomous**. Autonomous systems are common in physics, but also surprisingly applicable to some biological neural networks, as we will see in the last part of the tutorial. Lack of external inputs greatly simplifies the analysis of the dynamics $F$, so let us assume **no** external inputs for now.\n",
    "\n",
    "As a warmup, let us start with a 1D autonomous continuous-time dynamical system:\n",
    "\n",
    "$$\\frac{dx}{dt} = \\dot x = a x; \\qquad x(0) = x_0 \\tag{1} $$\n",
    "\n",
    "We are looking at a so-called *initial value problem* here: we know the state of the system $x_0$ at $t=0$, but we want to make a forecast into the future and find $x(t)$ for $t>0$."
   ]
  },
  {
   "cell_type": "markdown",
   "metadata": {
    "editable": true,
    "id": "5ONwZE8bH5jr",
    "slideshow": {
     "slide_type": "subslide"
    },
    "tags": []
   },
   "source": [
    "## Solving a 1D linear dynamics equation\n",
    "Let us solve equation (1) both numerically and analytically.\n",
    "\n",
    "For analytical solution, let us reorder the variables and integrate both sides of the equation just on paper:\n",
    "\n",
    "$$\\int_{x_0}^{x_t} \\frac{dx}{x} = \\int_{0}^t a dt \\tag{2a}$$\n",
    "\n",
    "For numerical integration, we will use the *forward Euler* scheme:\n",
    "\n",
    "$$\\frac{dx}{dt} \\approx \\frac{\\Delta x}{\\Delta t} = \\frac{x_{n+1} - x_n}{\\Delta t} \\tag{2b}$$\n",
    "\n",
    "We can then write down an analytical solution at any time point $t$ based on (2a), and also get a numerical approximation of the same integral by applying the update rule $x_{n+1} \\rightarrow x_n$ based on (2b) in a for-loop:"
   ]
  },
  {
   "cell_type": "markdown",
   "metadata": {
    "editable": true,
    "id": "uOakw9zb3Rbd",
    "slideshow": {
     "slide_type": "slide"
    },
    "tags": []
   },
   "source": [
    "### **Exercise 1:** Analytical vs numerical solutions\n",
    "Complete the missing lines in the code below. Does analytical solution match the numerical solution? "
   ]
  },
  {
   "cell_type": "code",
   "execution_count": null,
   "metadata": {
    "colab": {
     "base_uri": "https://localhost:8080/",
     "height": 391,
     "referenced_widgets": [
      "0d1c8d5110954d769ab8b622b6043671",
      "d593cdb684a14459a87234dd302af4f5",
      "515c4413dfa04ab980eca7d14234fb39",
      "3bbfa1f4655e4402b15a2856dccd2b6d",
      "95fa22b4bcc144a98b99f4e3276660f0",
      "ee537d4f32f44b2fb8849f35c8492540",
      "a578f7e811e64d6fbf87b6241928f3cc",
      "9207d4e810c945ad9572c25959ad156a",
      "0fe0f5f85f624044b760515425eaa517",
      "a10689ceed5d46528b915335d82b4cd1",
      "d233ff4e48114711903764b525e7bbbb",
      "dd9a2393b26a454896b42187bba6fc95",
      "0c4808d53df7407188a7ebb897e8a036"
     ]
    },
    "editable": true,
    "id": "dwtnAtUPNkyv",
    "outputId": "e8aa9a7d-af35-4b7d-b2be-49d7ddc3ebef",
    "slideshow": {
     "slide_type": ""
    },
    "tags": []
   },
   "outputs": [],
   "source": [
    "def analytical_1D_solution(x0,a,t):\n",
    "  ''' Finds a solution of x' = ax, for x(t), given x(0) = x0 '''\n",
    "  xt = ...\n",
    "  return xt\n",
    "\n",
    "def numerical_1D_solution(x0,a,t,dt=0.001):\n",
    "  ''' Integrates x' = ax using a forward Euler scheme, given x(0) = x0;\n",
    "  Returns x(t) '''\n",
    "  N = ... # number of integration steps \n",
    "  xn = x0 # current value of x_n\n",
    "  for n in range(N):\n",
    "    x_n_plus_1 = ... #2write a discretized update rule following (1-2) \n",
    "    xn = x_n_plus_1  \n",
    "  return xn"
   ]
  },
  {
   "cell_type": "code",
   "execution_count": null,
   "metadata": {
    "colab": {
     "base_uri": "https://localhost:8080/",
     "height": 391,
     "referenced_widgets": [
      "0d1c8d5110954d769ab8b622b6043671",
      "d593cdb684a14459a87234dd302af4f5",
      "515c4413dfa04ab980eca7d14234fb39",
      "3bbfa1f4655e4402b15a2856dccd2b6d",
      "95fa22b4bcc144a98b99f4e3276660f0",
      "ee537d4f32f44b2fb8849f35c8492540",
      "a578f7e811e64d6fbf87b6241928f3cc",
      "9207d4e810c945ad9572c25959ad156a",
      "0fe0f5f85f624044b760515425eaa517",
      "a10689ceed5d46528b915335d82b4cd1",
      "d233ff4e48114711903764b525e7bbbb",
      "dd9a2393b26a454896b42187bba6fc95",
      "0c4808d53df7407188a7ebb897e8a036"
     ]
    },
    "editable": true,
    "id": "dwtnAtUPNkyv",
    "outputId": "e8aa9a7d-af35-4b7d-b2be-49d7ddc3ebef",
    "slideshow": {
     "slide_type": "subslide"
    },
    "tags": []
   },
   "outputs": [],
   "source": [
    "T = 2 # total duration\n",
    "n_plot = 10 # how many points to plot\n",
    "\n",
    "@widgets.interact\n",
    "def plot_1D_solutions(x0 = 1., \n",
    "                      a = widgets.FloatSlider(min=-2., max=2., step=1, value=1),\n",
    "                      dt = widgets.FloatLogSlider(min=-3, max=-1, value=.01)):\n",
    "  a = a if type(a)==float else a.value\n",
    "  dt = dt if type(dt)==float else dt.value\n",
    "  plt.figure()\n",
    "  time = np.linspace(0,T,n_plot)\n",
    "  plt.plot(time, [analytical_1D_solution(x0,a,t) for t in time],label='Analytical solution')\n",
    "  plt.plot(time, [numerical_1D_solution(x0,a,t,dt) for t in time],label='Numerical solution')\n",
    "  plt.xlim([0,T])\n",
    "  plt.ylim([-5,5])\n",
    "  plt.axhline(0,c='k',linestyle=':')\n",
    "  plt.xlabel('time')\n",
    "  plt.ylabel('state x')\n",
    "  plt.legend()\n",
    "  plt.show()\n",
    "  plt.close()"
   ]
  },
  {
   "cell_type": "markdown",
   "metadata": {
    "editable": true,
    "id": "CcskjbCC2Re3",
    "slideshow": {
     "slide_type": "fragment"
    },
    "tags": []
   },
   "source": [
    "#### **Think!**\n",
    "When do the solutions agree? Disagree? Why?\n"
   ]
  },
  {
   "cell_type": "markdown",
   "metadata": {
    "editable": true,
    "id": "gTQkWaVg2WFa",
    "slideshow": {
     "slide_type": "notes"
    },
    "tags": []
   },
   "source": [
    "**Answer:** analytical and computational solutions are in agreement if the integration step $dt$ is sufficiently small. If it is large, then forward Euler scheme turns into a poor approximation of the derivative."
   ]
  },
  {
   "cell_type": "markdown",
   "metadata": {
    "editable": true,
    "id": "LL7--Zxr1ad3",
    "slideshow": {
     "slide_type": "fragment"
    },
    "tags": []
   },
   "source": [
    "#### **Think!**\n",
    "\n",
    "How many qualitatively different solutions have you found? What are they?\n"
   ]
  },
  {
   "cell_type": "markdown",
   "metadata": {
    "editable": true,
    "id": "ooqzaVKT2pZL",
    "slideshow": {
     "slide_type": "notes"
    },
    "tags": []
   },
   "source": [
    "**Answer:** there are 3 qualitatively different solutions: a 1-dimensional LDS can either converge to zero ($a<0$), stay constant ($a=0$) or exponentially explode ($a>0$)."
   ]
  },
  {
   "cell_type": "markdown",
   "metadata": {
    "editable": true,
    "id": "240PYpGQF9XH",
    "slideshow": {
     "slide_type": "fragment"
    },
    "tags": []
   },
   "source": [
    "### **Take home message**\n",
    "\n",
    "$a$ determines how the amplitude of the solution changes (decays, amplifies or stays constant)\n",
    "<!-- In a 1D linear autonomous dynamical system with a single parameter $a$:\n",
    "1. Real part of $a$ determines how the amplitude of the solution changes (decays, amplifies or stays constant)\n",
    "2. Imaginary part of $a$ determines the frequency of oscillations -->"
   ]
  },
  {
   "cell_type": "markdown",
   "metadata": {
    "editable": true,
    "id": "42ptqWjfHdKH",
    "slideshow": {
     "slide_type": "slide"
    },
    "tags": []
   },
   "source": [
    "## Auxilary variables and phase portraits\n",
    "\n",
    "In Exercise 1 we have observed a 1D system can exponentially grow, decay, or stay the same. But we know that many systems in neuroscience do neither. They often oscillate!\n",
    "\n",
    "To get started with oscillations, let us consider another simple system that oscillates: a pendulum!"
   ]
  },
  {
   "cell_type": "markdown",
   "metadata": {
    "editable": false,
    "id": "42ptqWjfHdKH",
    "slideshow": {
     "slide_type": "subslide"
    },
    "tags": []
   },
   "source": [
    "<img src='https://upload.wikimedia.org/wikipedia/commons/thumb/8/83/Mathematical_pendulum.svg/950px-Mathematical_pendulum.svg.png' width=200px align='right'>\n",
    "\n",
    "The dynamics of the pendulum can be derived from first principles (Newton's laws of mechanics):\n",
    "\n",
    "$$\\ddot \\theta = - g \\sin(\\theta) \\approx -g \\theta$$\n",
    "\n",
    "which turns into a linear system if the oscillations are small ($\\theta \\ll 1$). We can further simplify the system by assuming $g=1$.\n",
    "\n",
    "This equation, however, contains a higher order derivative ($\\ddot \\theta$). How can we get rid of it?"
   ]
  },
  {
   "cell_type": "markdown",
   "metadata": {
    "editable": false,
    "id": "42ptqWjfHdKH",
    "slideshow": {
     "slide_type": "subslide"
    },
    "tags": []
   },
   "source": [
    "We can introduce an additional auxilary variable $\\omega = \\dot \\theta$, then:\n",
    "$$\\ddot \\theta = \\dot \\omega = -\\theta$$\n",
    "\n",
    "Now we have two equations that resemble (1), which we can combine into a single vector-valued equation for a state $\\mathbf{x} = [~\\theta,~\\omega~]^T$:\n",
    "\n",
    "$${\\begin{bmatrix}\n",
    "    \\dot \\theta \\\\\n",
    "    \\dot \\omega\n",
    "\\end{bmatrix}} = \\begin{bmatrix}\n",
    "    0 & 1 \\\\\n",
    "    -1 & 0\n",
    "\\end{bmatrix} \\begin{bmatrix}\n",
    "    \\theta \\\\\n",
    "    \\omega\n",
    "\\end{bmatrix} $$"
   ]
  },
  {
   "cell_type": "markdown",
   "metadata": {
    "editable": false,
    "id": "42ptqWjfHdKH",
    "slideshow": {
     "slide_type": "fragment"
    },
    "tags": []
   },
   "source": [
    "or simply:\n",
    "\n",
    "$$\\mathbf{\\dot x} = A \\mathbf{x} \\tag{3}$$\n",
    "\n",
    "Looks similar to the 1D system in (1). Then how does it cause oscillations? 🤔 Let's find out."
   ]
  },
  {
   "cell_type": "markdown",
   "metadata": {
    "editable": true,
    "slideshow": {
     "slide_type": "slide"
    },
    "tags": []
   },
   "source": [
    "## Solving a 2D linear dynamics equation"
   ]
  },
  {
   "cell_type": "markdown",
   "metadata": {
    "editable": true,
    "slideshow": {
     "slide_type": "fragment"
    },
    "tags": []
   },
   "source": [
    "### **Exercise 2:** Solve 2D linear dynamics equation of a pendulum numerically\n",
    "\n",
    "Fill in the missing line of code below to numerically integrate the eq. (3).\n",
    "\n",
    "*Hint: for matrix multiplication in python you can use @ sign*\n",
    "\n",
    "*Note:* the analytical solution of eq. (3) is given to you in the code. It involves matrix exponential. If you don't know what it is -- no worries, it is not important for this tutorial."
   ]
  },
  {
   "cell_type": "code",
   "execution_count": null,
   "metadata": {
    "editable": true,
    "slideshow": {
     "slide_type": "fragment"
    },
    "tags": []
   },
   "outputs": [],
   "source": [
    "def analytical_2D_solution(x0,A,t):\n",
    "  ''' Finds a solution of x' = Ax, for x(t), given x(0) = x0 '''\n",
    "  xt = expm(A*t) @ x0 # this solution includes matrix exponential (https://en.wikipedia.org/wiki/Matrix_exponential)\n",
    "  return xt\n",
    "\n",
    "def numerical_2D_solution(x0,A,t,dt=0.01):\n",
    "  ''' Integrates x' = Ax using a forward Euler scheme, given x(0) = x0;\n",
    "  Returns x(t) '''\n",
    "  N = ... # number of integration steps \n",
    "  xn = x0 # current value of x_n\n",
    "  for n in range(N):\n",
    "    x_n_plus_1 = ... # write a discretized update rule following (1-2) \n",
    "    xn = x_n_plus_1  \n",
    "  return xn\n",
    "\n",
    "T = 10 # total duration\n",
    "n_plot = 100 # how many points to plot\n",
    "\n",
    "A = np.array([[0, 1], \n",
    "              [-1, 0]]) # pendulum dynamics"
   ]
  },
  {
   "cell_type": "code",
   "execution_count": null,
   "metadata": {
    "editable": true,
    "slideshow": {
     "slide_type": "subslide"
    },
    "tags": []
   },
   "outputs": [],
   "source": [
    "@widgets.interact\n",
    "def plot_2D_solutions(phi0 = (-1,1,0.1),\n",
    "                      omega0 = (-1,1,0.1)):\n",
    "  x0 = np.array([phi0, omega0])\n",
    "  fig, axes = plt.subplots(1,3,figsize=(12,2),gridspec_kw={'width_ratios': [2, 1, 2]})\n",
    "  time = np.linspace(0,T,n_plot)\n",
    "  analytical_traj = np.array([analytical_2D_solution(x0,A,t) for t in time])\n",
    "  numerical_traj = np.array([numerical_2D_solution(x0,A,t) for t in time])\n",
    "  \n",
    "  axes[1].plot(*numerical_traj.T,c='k')\n",
    "  axes[1].plot(*analytical_traj.T,c='C1',linestyle=':')\n",
    "  axes[1].set_xlabel(r\"$\\theta$\")\n",
    "  axes[1].set_ylabel(r\"$\\omega = \\dot\\theta$\")\n",
    "  axes[1].set_xlim([-1.2,1.2])\n",
    "  for ax in axes:\n",
    "    ax.set_ylim([-1.2,1.2])\n",
    "\n",
    "  axes[0].plot(numerical_traj[:,0],c='k')\n",
    "  axes[0].plot(analytical_traj[:,0],c='C1',linestyle=':')\n",
    "  axes[0].set_xlabel(r\"time\")\n",
    "  axes[0].set_ylabel(r\"$\\theta$\")\n",
    "\n",
    "  axes[2].plot(numerical_traj[:,1],c='k',label='Numerical solution')\n",
    "  axes[2].plot(analytical_traj[:,1],c='C1',linestyle=':',label='Analytical solution')\n",
    "  axes[2].set_xlabel(r\"time\")\n",
    "  axes[2].set_ylabel(r\"$\\omega = \\dot\\theta$\")\n",
    "  axes[2].legend(loc=(1.2,0))\n",
    "\n",
    "  plt.subplots_adjust(left=None, bottom=.2, right=None, top=None, wspace=0.4, hspace=0.)\n",
    "\n",
    "  plt.show()\n",
    "  plt.close()"
   ]
  },
  {
   "cell_type": "markdown",
   "metadata": {
    "editable": true,
    "slideshow": {
     "slide_type": "notes"
    },
    "tags": []
   },
   "source": [
    "The plot in the middle is called a *phase portrait* in mechanics: you can see why if you change the angular velocity $\\omega$ and see how left/right plots change. This portrait exists in a *phase space* $[\\theta, \\omega]$.\n",
    "\n",
    "In physics, we can derive the dynamics equations from first principles, so we know that these two variables: position $\\theta$ and angular velocity $\\omega$, fully describe the **state** of the pendulum. Knowing the state, we know what happens next, because the system is **deterministic** (no noise in eq. (1) or (3)).\n",
    "Therefore, in a more general context, a minimal set of variables that describe the state of the system form a **state space**. \n",
    "\n",
    "<!-- However, in a more general context, the components of $x$ that describe the dynamics of the system can be anything! For instance, $x_1, x_2, \\ldots, x_n$ can correspond to activities of neurons in a neural network.    -->\n"
   ]
  },
  {
   "cell_type": "markdown",
   "metadata": {
    "editable": false,
    "id": "mv0UtLxzS8Uk",
    "slideshow": {
     "slide_type": "slide"
    },
    "tags": []
   },
   "source": [
    "## From particular to general: visualizing dynamics with phase portraits"
   ]
  },
  {
   "cell_type": "markdown",
   "metadata": {
    "editable": false,
    "id": "eILlepzLTDd2",
    "slideshow": {
     "slide_type": "notes"
    },
    "tags": []
   },
   "source": [
    "We have learned that if we know the state of the the system at any time point $t_0$, we can predict what happes next. We already integrated the dynamics eq. (3) given certain initial conditions and visualized some trajectories for a pendulum. But can we summarize and visualize all the possible states and transitions between them?"
   ]
  },
  {
   "cell_type": "markdown",
   "metadata": {
    "editable": false,
    "id": "eILlepzLTDd2",
    "slideshow": {
     "slide_type": "subslide"
    },
    "tags": []
   },
   "source": [
    "### **Exercise 3:**  visualize the equation (3) using stream plots. \n",
    "For every state, equation (3) defines the derivative (i.e. where the system goes next), which we can visualize with arrows:"
   ]
  },
  {
   "cell_type": "code",
   "execution_count": null,
   "metadata": {
    "colab": {
     "base_uri": "https://localhost:8080/",
     "height": 248
    },
    "editable": true,
    "id": "yfeWdEMsVcks",
    "outputId": "b6edfbfd-8528-4082-c1fe-9c08c8976050",
    "scrolled": true,
    "slideshow": {
     "slide_type": "fragment"
    },
    "tags": []
   },
   "outputs": [],
   "source": [
    "# Plotting phase portraits\n",
    "def plot_phase_portrait(A,n = 10, xlabel=r'$x_1$', ylabel=r'$x_2$', Alabel='A'):\n",
    "  '''\n",
    "    A: matrix 2x2\n",
    "    n: number of points in the n x n grid\n",
    "  '''\n",
    "  plt.figure(figsize=(3,3))\n",
    "  x1 = np.linspace(-1, 1, n) # a 1D grid\n",
    "  x = np.array(np.meshgrid(x1, x1)).reshape((2,-1)) # a 2D flattened grid\n",
    "  # calculate the time-derivative of the state x in the line below\n",
    "  # the output shape should be [2 x n^2]\n",
    "  x_dot = ... \n",
    "  x_dot = x_dot.reshape((2,n,n))\n",
    "  plt.streamplot(x1,x1,*x_dot,color=np.linalg.norm(x_dot,axis=0),cmap='coolwarm',density=0.5)\n",
    "  plt.xlabel(xlabel)\n",
    "  plt.ylabel(ylabel);\n",
    "  plt.text(1.2,0,f'{Alabel} = ')\n",
    "  plt.text(1.7,-.15,f'{A[0,0]:.1f}, {A[0,1]:.1f} \\n{A[1,0]:.1f}, {A[1,1]:.1f}')\n",
    "  plt.xlim([-1,1])\n",
    "  plt.ylim([-1,1])\n",
    "  plt.clim(vmin=0,vmax=1)\n",
    "  plt.show()\n",
    "  plt.close()\n",
    "\n",
    "A = np.array([[0, 1], \n",
    "              [-1, 0]]) # pendulum dynamics\n",
    "plot_phase_portrait(A, xlabel=r'$\\theta$', ylabel=r'$\\omega = \\dot\\theta$')"
   ]
  },
  {
   "cell_type": "markdown",
   "metadata": {
    "editable": false,
    "id": "b7dTSLXUYUDc",
    "slideshow": {
     "slide_type": "notes"
    },
    "tags": []
   },
   "source": [
    "Following these streamlines in a figure above from some initial point $x_0$ step-by-step corresponds to integrating $\\int_{t_0}^{t} \\dot x(t) dt$ that we did in the previous exercise!\n",
    "\n",
    "Color here shows how fast the state evolves: cooler colors mean slower, warmer colors -- faster!\n",
    "(darkest blue: $|\\mathbf{\\dot x}| = 0$, brightest red: $|\\mathbf{\\dot x}| = 1$)\n",
    "\n",
    "Like in Izhekevich quote, we don't even need to write equation to tell how the system behaves 🤯"
   ]
  },
  {
   "cell_type": "markdown",
   "metadata": {
    "editable": true,
    "id": "x6iOBU-6f_dz",
    "slideshow": {
     "slide_type": "slide"
    },
    "tags": []
   },
   "source": [
    "## Analysing two-dimensional linear dynamics"
   ]
  },
  {
   "cell_type": "markdown",
   "metadata": {
    "editable": false,
    "id": "dwgf8dhygGZS",
    "slideshow": {
     "slide_type": "fragment"
    },
    "tags": []
   },
   "source": [
    "### Change of basis\n",
    "The pendulum example above is, perhaps, the simplest linear dynamical system in physics. Its phase portrait is symmetrical!\n",
    "\n",
    "But for other dynamical systems, with other matrices $A$, this might not be the case:"
   ]
  },
  {
   "cell_type": "code",
   "execution_count": null,
   "metadata": {
    "colab": {
     "base_uri": "https://localhost:8080/",
     "height": 248
    },
    "editable": false,
    "id": "if2U5CDUaj9x",
    "outputId": "e3624efe-09d3-4eee-93be-d0f1993f414c",
    "slideshow": {
     "slide_type": "fragment"
    },
    "tags": []
   },
   "outputs": [],
   "source": [
    "np.random.seed(2)\n",
    "A = np.random.randn(2,2) # pick some values from N(0,1) for each component\n",
    "\n",
    "plot_phase_portrait(A)\n"
   ]
  },
  {
   "cell_type": "markdown",
   "metadata": {
    "editable": false,
    "id": "vDZ9Dj6LQ6fK",
    "slideshow": {
     "slide_type": "notes"
    },
    "tags": []
   },
   "source": [
    "Looks very complicated! All elements in $A$ are non-zero, so each derivative $\\dot x_i$ depends on both $x_1$ and $x_1$. Can we make it better? Can we somehow split a 2D system into a combination of two 1D systems?"
   ]
  },
  {
   "cell_type": "markdown",
   "metadata": {
    "editable": false,
    "id": "vDZ9Dj6LQ6fK",
    "slideshow": {
     "slide_type": "subslide"
    },
    "tags": []
   },
   "source": [
    "We are now considering an abstract linear dynamical system, so the components $x_1$ and $x_2$ do not mean much... Can we stretch and rotate this space such that in these new coordinates $(\\hat x_1, \\hat x_2)$  the derivatives $d{\\hat x_i}/dt$ only depend on the respective component $x_i$ ? Or, in other words, can we change the basis to make the matrix $A$ diagonal?\n",
    "\n",
    "$$\\begin{bmatrix}\n",
    "\\frac{d\\hat x_1}{dt} \\\\\n",
    "\\frac{d\\hat x_2}{dt}\n",
    "\\end{bmatrix} = \\begin{bmatrix}\n",
    "a_1 & 0 \\\\\n",
    "0 & a_2\n",
    "\\end{bmatrix} \\begin{bmatrix}\n",
    "\\hat x_1 \\\\\n",
    "\\hat x_2\n",
    "\\end{bmatrix} = \\begin{bmatrix}\n",
    "a_1 \\hat x_1 \\\\\n",
    "a_2 \\hat x_2\n",
    "\\end{bmatrix}\n",
    "$$"
   ]
  },
  {
   "cell_type": "markdown",
   "metadata": {
    "editable": true,
    "id": "VzGbCtBQR9PC",
    "slideshow": {
     "slide_type": "subslide"
    },
    "tags": []
   },
   "source": [
    "What we are doing above corresponds to this transformation:\n",
    "$$S \\mathbf{\\dot x} = SA\\mathbf{x} = SA\\underbrace{(S^{-1}S)}_{I}\\mathbf{x} = (SAS^{-1})S\\mathbf{x} \\tag{4}$$\n",
    "or, in other words, we make the following change of coordinates (i.e. change of the basis):\n",
    "$$\\hat{\\mathbf{x}} = S\\mathbf{x} ~$$\n",
    "$$\\hat A = SAS^{-1}$$"
   ]
  },
  {
   "cell_type": "markdown",
   "metadata": {
    "editable": false,
    "slideshow": {
     "slide_type": "notes"
    },
    "tags": []
   },
   "source": [
    "Matrix $S$ here transforms old coordinates $\\mathbf{x}$ into new coordinates $\\hat{\\mathbf{x}}$. Geometrically, multiplying a matrix $S$ by a vector $\\mathbf{x}$ corresponds to stretching and rotating the coordinates. Let us see how these transformations change the dynamics and the matrix $A$ (which we represent using a phase portrait of $\\hat{\\mathbf{x}}=A\\mathbf{x}$ and as a matrix $\\hat A$): "
   ]
  },
  {
   "cell_type": "code",
   "execution_count": null,
   "metadata": {
    "colab": {
     "base_uri": "https://localhost:8080/",
     "height": 318,
     "referenced_widgets": [
      "5648a797aed342589f78a681cc5af1fe",
      "d85bdb8255814653ab5dc757e5f43c0d",
      "c7c22d334abe427ebee910c70a4c123b",
      "8a6fce326db949f88e7b55c3f3487f70",
      "68b62ef50e60483289484e22efa4ce28",
      "a9d84608039e47ee953546d5bf11d5b3",
      "7a8cdc67d07f4a2a9d8c845ab2a507a7",
      "fedf1d603b544099b2b99251723e58f4",
      "a4a3c0f2f6654ef7964a0f798a5347df",
      "0b41dd7e2b93493c929a680835a267c6"
     ]
    },
    "editable": true,
    "id": "JM-JOpEvQ5OI",
    "outputId": "b39f5118-015f-4943-b352-ab9b4520e6cc",
    "slideshow": {
     "slide_type": "subslide"
    },
    "tags": []
   },
   "outputs": [],
   "source": [
    "S = np.eye(2)\n",
    "@widgets.interact\n",
    "def rotate_and_scale(stretch=widgets.FloatLogSlider(min=-1, max=+1, value=1.,description='stretch ↕'),\n",
    "                     rotate=widgets.FloatSlider(min=-90, max=+90, step=5 ,description='rotate ⤾')):\n",
    "  global S\n",
    "  a = rotate * np.pi / 180\n",
    "  S =  np.array([[np.cos(a),np.sin(a)],[-np.sin(a),np.cos(a)]]) @ np.array([[stretch,0],[0,1]])\n",
    "  plot_phase_portrait(S @ A @ np.linalg.inv(S),\n",
    "                      xlabel=r'$\\hat{x_1}$', ylabel=r'$\\hat{x_2}$', Alabel=r'$\\hat{A}$');\n"
   ]
  },
  {
   "cell_type": "markdown",
   "metadata": {
    "editable": false,
    "id": "zxcPu65CU_4P",
    "slideshow": {
     "slide_type": "fragment"
    },
    "tags": []
   },
   "source": [
    "#### Try and Think!\n",
    "Did you manage to align these *special* directions in the phase portrait above with the new axes? How does the new, transformed matrix $\\hat{A} = SAS^{-1}$ look like?"
   ]
  },
  {
   "cell_type": "markdown",
   "metadata": {
    "editable": true,
    "slideshow": {
     "slide_type": "slide"
    },
    "tags": []
   },
   "source": [
    "### Eigenvector basis\n",
    "\n",
    "What we did above by rotating and stretching our phase space is the transformation of matrix $A$ into its *canonical form*. Everything is simpler in this form! The eigenvalues remain the same under stretching and rotation:\n",
    "\n",
    "$$\\hat{A}\\mathbf{\\hat{x}} = SA\\mathbf{x} = S\\lambda x = \\lambda \\mathbf{\\hat{x}}$$\n",
    "\n",
    "\n"
   ]
  },
  {
   "cell_type": "markdown",
   "metadata": {
    "editable": true,
    "id": "Xl23_KkGV3_b",
    "jp-MarkdownHeadingCollapsed": true,
    "slideshow": {
     "slide_type": "skip"
    },
    "tags": []
   },
   "source": [
    "#### Eigenvectors and eigenvalues (math summary from Chris's tutorial)"
   ]
  },
  {
   "cell_type": "markdown",
   "metadata": {
    "editable": true,
    "slideshow": {
     "slide_type": ""
    },
    "tags": []
   },
   "source": [
    "What we did above in fact corresponds to the eigendecomposition.\n",
    "For more info check Chris's tutorial [Appendix](https://colab.research.google.com/drive/1AH5_d_uJTnJMUANGt9XIIkkg8n2Tur4s).\n",
    "\n",
    "The key points that we need from this Appendix:\n",
    "\n",
    "Eigendecomposition of a matrix is a type of decomposition that involves decomposing a **square** ($n \\times n$) matrix into a **set** of *eigenvectors* and *eigenvalues*.\n",
    "\n",
    "A vector $\\rm{x}$ is an eigenvector of a matrix $A$ if it satisfies the following equation.\n",
    "\n",
    "$$A\\rm{x} = \\lambda \\rm{x} \\tag{E.1}$$\n",
    "\n",
    "This is called the eigenvalue equation, where $A$ is the parent square matrix that we are decomposing, $x$ is the eigenvector of the matrix, and $\\lambda$ is the lowercase Greek letter lambda and represents the eigenvalue scalar.\n",
    "\n",
    "This can also be rearranged into\n",
    "\n",
    "$$(A-\\lambda I)\\rm{x} = 0 \\tag{E.2}$$\n",
    "\n",
    "Where $I$ is the square identity matrix (1s in its main diagonal and 0s in every other entry) with the same dimensions as $A$. \n",
    "\n",
    "In order to determine the all eigenvectors of a matrix, you must first determine the eigenvalues. \n",
    "\n",
    "Non-trivial solutions exist only if the matrix ($A-\\lambda I$) is singular which means $\\det(A-\\lambda I) = 0$. Where $\\det(M)$ or $|M|$ is the [determinant](https://en.wikipedia.org/wiki/Determinant) of the matrix.\n",
    "\n",
    "Therefore eigenvalues of $A$ are roots of the [characteristic polynomial](https://en.wikipedia.org/wiki/Characteristic_polynomial)\n",
    "\n",
    "$$p(\\lambda) = \\det(A-\\lambda I) \\tag{E.3}$$"
   ]
  },
  {
   "cell_type": "markdown",
   "metadata": {
    "editable": true,
    "id": "-GmfP_LeEJO9",
    "slideshow": {
     "slide_type": "subslide"
    },
    "tags": []
   },
   "source": [
    "#### Think!\n",
    "\n",
    "What is the order of the characteristic polynomial for a 2D matrix $A$? How many roots will it have? \n",
    "\n",
    "*(check the summary above if you forgot what characteristic polynomial is)*"
   ]
  },
  {
   "cell_type": "markdown",
   "metadata": {
    "editable": true,
    "slideshow": {
     "slide_type": "fragment"
    },
    "tags": []
   },
   "source": [
    "#### Think!\n",
    "\n",
    "Could you tell what are the eigenvalues of $\\hat{A}$ without writing anything down?"
   ]
  },
  {
   "cell_type": "markdown",
   "metadata": {
    "editable": true,
    "slideshow": {
     "slide_type": "fragment"
    },
    "tags": []
   },
   "source": [
    "Now, check your guess by calculating the eigenvalues:"
   ]
  },
  {
   "cell_type": "code",
   "execution_count": null,
   "metadata": {
    "editable": true,
    "slideshow": {
     "slide_type": "fragment"
    },
    "tags": []
   },
   "outputs": [],
   "source": [
    "A_hat = S @ A @ np.linalg.inv(S)\n",
    "print('Eigenvalues of A    :', np.linalg.eig(A)[0])\n",
    "print('Eigenvalues of A_hat:', np.linalg.eig(A_hat)[0])"
   ]
  },
  {
   "cell_type": "markdown",
   "metadata": {
    "editable": true,
    "id": "6E6RWp7dtY6b",
    "slideshow": {
     "slide_type": "subslide"
    },
    "tags": []
   },
   "source": [
    "#### Real eigenvalues"
   ]
  },
  {
   "cell_type": "markdown",
   "metadata": {
    "editable": true,
    "id": "5OeSIGu0equz",
    "slideshow": {
     "slide_type": "notes"
    },
    "tags": []
   },
   "source": [
    "Now let us experiment with the eigenvalues and understand what they *mean* in the dynamical system:"
   ]
  },
  {
   "cell_type": "code",
   "execution_count": null,
   "metadata": {
    "colab": {
     "base_uri": "https://localhost:8080/",
     "height": 312,
     "referenced_widgets": [
      "6660cc73736e4729a8e112e781f04ed9",
      "cb5ef1821f47464fb19926f6ef19b1c5",
      "465f52dfa753475488ded7f1c3ffb0b9",
      "05bf6f397356466583a124970cf33f0a",
      "bcaabba3a76143fea99a45be489862d0",
      "f6a29122d2dd48a4b42c353bf78b439d",
      "6b1e848cf5214f289ee017e0214e8dc9",
      "d8fbf868d4ef4f1aa3b416a9ff2f29d6",
      "bd83cf53ebb848dc8caa66e77c52be7c",
      "97e717ca46254199a1760d6971aebebe"
     ]
    },
    "editable": true,
    "id": "Z8CeIjn5Z2KN",
    "outputId": "85239da0-9078-4e9e-a23f-f2a1afd6d708",
    "slideshow": {
     "slide_type": "fragment"
    },
    "tags": []
   },
   "outputs": [],
   "source": [
    "@widgets.interact\n",
    "def rotate_and_scale(lambda_1=widgets.FloatSlider(min=-1, max=+1, description='λ1'),\n",
    "                     lambda_2=widgets.FloatSlider(min=-1, max=+1, description='λ2')):\n",
    "  lambda_1 = lambda_1 if type(lambda_1)==float else lambda_1.value\n",
    "  lambda_2 = lambda_2 if type(lambda_2)==float else lambda_2.value\n",
    "  if lambda_1==0 and lambda_2==0:\n",
    "    lambda_1 = -1e-10\n",
    "  A_12 = np.array([[lambda_1, 0],\n",
    "                [0, lambda_2]])\n",
    "  plot_phase_portrait(A_12)\n"
   ]
  },
  {
   "cell_type": "markdown",
   "metadata": {
    "editable": true,
    "id": "jurO9-jFnwus",
    "slideshow": {
     "slide_type": "notes"
    },
    "tags": []
   },
   "source": [
    "Indeed, in a canonical form, the 2D system with two real eigenvalues splits into two independent 1D dynamical systems:\n",
    "$\\dot x_i = \\lambda_i x_i, i \\in \\{0,1\\}.$ So, each eigenvalue here changes the dynamics along its eigenvector the same way as the parameter $a$ in Example 1."
   ]
  },
  {
   "cell_type": "markdown",
   "metadata": {
    "editable": true,
    "id": "CWSBrtaMtXkk",
    "slideshow": {
     "slide_type": "subslide"
    },
    "tags": []
   },
   "source": [
    "#### Complex eigenvalues"
   ]
  },
  {
   "cell_type": "markdown",
   "metadata": {
    "editable": true,
    "id": "jUG_eBfrxgzn",
    "slideshow": {
     "slide_type": "notes"
    },
    "tags": []
   },
   "source": [
    "From a characteristic polynomial, we know that the eigenvalues can be complex (as $\\lambda = \\lambda_{real} + i \\lambda_{imag}$). We also found that eigenvalues connect high-dimensional systems (e.g. 2D) with some lower-dimensional (e.g. 1D) dynamic modes. Let us go back to a 1D system and try to make a coefficient $a$ complex."
   ]
  },
  {
   "cell_type": "markdown",
   "metadata": {
    "editable": true,
    "id": "osgyZ9Nj0_LQ",
    "slideshow": {
     "slide_type": "fragment"
    },
    "tags": []
   },
   "source": [
    "#### What if $a$ is complex-valued?"
   ]
  },
  {
   "cell_type": "markdown",
   "metadata": {
    "editable": true,
    "id": "Xcd8cBTmCHPB",
    "slideshow": {
     "slide_type": "fragment"
    },
    "tags": []
   },
   "source": [
    "In the exercise 1 we found that analytical solution is:\n",
    "$$x(t) = x_0 e^{at} $$\n",
    "but what if $a$ is complex?\n",
    "\n",
    "Let us substitute $a$ with $a_{real} + i a_{imag}$, then:"
   ]
  },
  {
   "cell_type": "markdown",
   "metadata": {
    "editable": true,
    "id": "Xcd8cBTmCHPB",
    "slideshow": {
     "slide_type": "fragment"
    },
    "tags": []
   },
   "source": [
    "$$x(t) = x_0 e^{a_{real}t} e^{i a_{imag} t} $$"
   ]
  },
  {
   "cell_type": "markdown",
   "metadata": {
    "editable": true,
    "id": "Xcd8cBTmCHPB",
    "slideshow": {
     "slide_type": "fragment"
    },
    "tags": []
   },
   "source": [
    "This new solution is a product of the solution that we have seen previously and a new term $e^{i a_{imag} t}$."
   ]
  },
  {
   "cell_type": "markdown",
   "metadata": {
    "editable": true,
    "id": "3zzMK8fmEjJH",
    "slideshow": {
     "slide_type": "fragment"
    },
    "tags": []
   },
   "source": [
    " Let us recall that $e^{i a_{imag} t} = \\cos(a_{imag} t) + i\\sin(a_{imag} t)$ (*Euler's formula*)."
   ]
  },
  {
   "cell_type": "markdown",
   "metadata": {
    "editable": true,
    "id": "3zzMK8fmEjJH",
    "slideshow": {
     "slide_type": "fragment"
    },
    "tags": []
   },
   "source": [
    " So the whole solution looks like:\n",
    " $$x(t) = \\underbrace{x_0 e^{a_{real} t} \\cos(a_{imag}t)}_\\mathrm{real~part} + \\underbrace{i x_0 e^{a_{real} t} \\sin(a_{imag}t)}_\\mathrm{imaginary~part}$$"
   ]
  },
  {
   "cell_type": "markdown",
   "metadata": {
    "editable": true,
    "id": "Xcd8cBTmCHPB",
    "slideshow": {
     "slide_type": "subslide"
    },
    "tags": []
   },
   "source": [
    "Let us generate some trajectories and see what happens:"
   ]
  },
  {
   "cell_type": "code",
   "execution_count": null,
   "metadata": {
    "colab": {
     "base_uri": "https://localhost:8080/",
     "height": 391,
     "referenced_widgets": [
      "a8dcb0808fd34218ada9626368448399",
      "197fc4afe96b4012a14d79312fe3eec7",
      "2210f34f6f7940d7b0dc90370bb0f04c",
      "eca71e3132e543708d2500049571d066",
      "58338cd1b1a64c4ca5a238264ac0c8ea",
      "bffc059c9ad44b59a2fe4aed07b4a24f",
      "931262ce33e0456aa76692529d783cdd",
      "a265a9ae79c34f25b033e8a23be0e5f0",
      "7be52a01ccbe47bfae0276571e93bf1c",
      "fa3c97f1e7174690aae9475214042671",
      "1bbd364ad7d143e6b5938e65456ce8bf",
      "715f2ecc64cf4239b794c4e3d108dba7",
      "6dfd4b45622f4298a7998bc7e8c76130"
     ]
    },
    "editable": true,
    "id": "-OCLpgAhA2od",
    "outputId": "e05611df-a1f5-4ef8-a95b-862722169468",
    "slideshow": {
     "slide_type": "fragment"
    },
    "tags": []
   },
   "outputs": [],
   "source": [
    "T = 10\n",
    "n_plot = 100\n",
    "@widgets.interact\n",
    "def plot_1D_solutions(x0 = 1., \n",
    "                      a_real = widgets.FloatSlider(min=-1., max=1., step=.1, value=0),\n",
    "                      a_imag = widgets.FloatSlider(min=-5, max=5, step=.1, value=0)):\n",
    "  a_real = a_real if type(a_real)==float else a_real.value\n",
    "  a_imag = a_imag if type(a_imag)==float else a_imag.value\n",
    "  a = complex(a_real,a_imag)\n",
    "  plt.figure()\n",
    "  time = np.linspace(0,T,n_plot)\n",
    "  plt.plot(time, [analytical_1D_solution(x0,a,t).real for t in time],label='Solution (real part)')\n",
    "  plt.plot(time, [analytical_1D_solution(x0,a,t).imag for t in time],label='Solution (imag part)')\n",
    "  plt.xlim([0,T])\n",
    "  plt.ylim([-5,5])\n",
    "  plt.axhline(0,c='k',linestyle=':')\n",
    "  plt.xlabel('time')\n",
    "  plt.ylabel('state x')\n",
    "  plt.legend(loc='lower left')\n",
    "  plt.show()\n",
    "  plt.close()\n"
   ]
  },
  {
   "cell_type": "markdown",
   "metadata": {
    "editable": true,
    "id": "1cdUYs1PFjOs",
    "slideshow": {
     "slide_type": "subslide"
    },
    "tags": []
   },
   "source": [
    "Let us return to the pendulum. What are the eigenvalues and eigenvectors for that system?"
   ]
  },
  {
   "cell_type": "code",
   "execution_count": null,
   "metadata": {
    "colab": {
     "base_uri": "https://localhost:8080/"
    },
    "editable": true,
    "id": "KKXWSV7hj-LJ",
    "outputId": "8a6301be-d179-4d5e-a40e-1d2a789d88bc",
    "slideshow": {
     "slide_type": "fragment"
    },
    "tags": []
   },
   "outputs": [],
   "source": [
    "A = np.array([[0, 1], \n",
    "              [-1, 0]])\n",
    "np.linalg.eig(A)"
   ]
  },
  {
   "cell_type": "markdown",
   "metadata": {
    "editable": true,
    "id": "rdw28x8xDkfQ",
    "slideshow": {
     "slide_type": "subslide"
    },
    "tags": []
   },
   "source": [
    "#### Exercise 4: What is the frequency of oscillations, based on these eigenvalues?"
   ]
  },
  {
   "cell_type": "markdown",
   "metadata": {
    "editable": true,
    "id": "SGXnn2WUjgag",
    "slideshow": {
     "slide_type": "subslide"
    },
    "tags": []
   },
   "source": [
    "#### Zero eigenvalues\n",
    "\n",
    "So far, we only looked at a full rank matrices $A$: such matrices that have all non-zero eigenvalues. What if one of them is actually zero?"
   ]
  },
  {
   "cell_type": "code",
   "execution_count": null,
   "metadata": {
    "colab": {
     "base_uri": "https://localhost:8080/",
     "height": 312,
     "referenced_widgets": [
      "225863f7e6d540f8b83d3df77e3bfa26",
      "b64c80e9d34f4602a99a125f98d5148e",
      "169a1616828e4c7a8656c57d484ea911",
      "8a5033be98b8490cb0da4ee2fe5fdb96",
      "1659ee96e9ec4c02aee37ab3137aa3a5",
      "13e2c86a8c614f8ea18d7fe5da443539",
      "a6a8e616a76842e882ddf2add33a5a34",
      "56fafbbb9be54ce9b1b7f1d7515956e7",
      "97c7ec92043f46f4b46d4c86587b8321",
      "f9ab89ec710f4fad96eca86fc9a25354"
     ]
    },
    "editable": true,
    "id": "kJWsZ2Tc6Z85",
    "outputId": "0ad22b42-bf81-43ef-a141-cdee722380b0",
    "slideshow": {
     "slide_type": "fragment"
    },
    "tags": []
   },
   "outputs": [],
   "source": [
    "@widgets.interact\n",
    "def rotate_and_scale(lambda_1=widgets.FloatSlider(min=-1, max=+1, description='λ1'),\n",
    "                     lambda_2=widgets.FloatSlider(min=-1, max=+1, description='λ2')):\n",
    "  lambda_1 = lambda_1 if type(lambda_1)==float else lambda_1.value\n",
    "  lambda_2 = lambda_2 if type(lambda_2)==float else lambda_2.value\n",
    "  if lambda_1==0 and lambda_2==0:\n",
    "    lambda_1 = -1e-10\n",
    "  A_12 = np.array([[lambda_1, 0],\n",
    "                [0, lambda_2]])\n",
    "  plot_phase_portrait(A_12)"
   ]
  },
  {
   "cell_type": "markdown",
   "metadata": {
    "editable": true,
    "id": "zvQxaNLLbeXb",
    "slideshow": {
     "slide_type": "slide"
    },
    "tags": []
   },
   "source": [
    "## Fixed points and stability\n",
    "\n",
    "**Fixed points** are the points that remain unchanged in time, meaning that the time derivative $\\mathbf{\\dot x}=\\mathbf{0}$ there. There is only one such point in the linear systems which we considered above, which is $\\mathbf{x}=\\mathbf{0}$.\n",
    "\n",
    "Fixed points can be stable and unstable. Stable means that once the state gets near the fixed point it will only get closer to it in the future (*more precisely it is called assymptotic stability*). Unstable means the opposite: the state only gets further away. The system can also be marginally stable, if it is neither stable nor unstable. \n",
    "\n",
    "A set of stable fixed points of a dynamical system is also called an **attractor**, while a set of unstable points -- a **repeller**."
   ]
  },
  {
   "cell_type": "markdown",
   "metadata": {
    "editable": true,
    "slideshow": {
     "slide_type": "subslide"
    },
    "tags": []
   },
   "source": [
    "### **Exercise 5:** Stability in 2D\n",
    "If matrix $A$ has two eigenvalues: $\\lambda_1$ and $\\lambda_2$, what are the conditions for being 1) stable? 2) unstable?"
   ]
  },
  {
   "cell_type": "markdown",
   "metadata": {
    "editable": true,
    "id": "DO5ql9-vtk0H",
    "slideshow": {
     "slide_type": "subslide"
    },
    "tags": []
   },
   "source": [
    "## Overview of all 2D linear dynamical systems\n",
    "\n",
    "We have explored DS with real-valued, complex and zero eigenvalues. And that is all possible dynamics one can get in 2D with a linear DS!\n",
    "\n",
    "We can summarize all dynamic regimes in a single plot:\n",
    "\n",
    "![Classification of Phase Portraits](https://drive.google.com/uc?export=view&id=1zvbMnqnSFiss3GF_yfUo83NxOD_WXZtK)\n",
    "\n",
    "here $\\Delta = (\\lambda_1 - \\lambda_2)^2$ sets the boundary between real-valued and complex-valued eigenvalues (you can also derive it from a characteristic polynomial)"
   ]
  },
  {
   "cell_type": "markdown",
   "metadata": {
    "editable": true,
    "slideshow": {
     "slide_type": "slide"
    },
    "tags": []
   },
   "source": [
    "### Final ingridient: adding external input"
   ]
  },
  {
   "cell_type": "markdown",
   "metadata": {
    "editable": true,
    "slideshow": {
     "slide_type": ""
    },
    "tags": []
   },
   "source": [
    "So far, we have considered only **autonomous** dynamical systems, the ones that evolve on their own. Now we will interact with this system by changing its state with an external input $\\mathbf{u}(t)$:\n",
    "\n",
    "$$\\mathbf{\\dot x} = A \\mathbf{x} + \\mathbf{u}(t) \\tag{5}$$\n",
    "\n",
    "Let us consider a pendulum. For a pendulum, vector $\\mathbf{u}$ is 2D and contains a change to the angle $\\theta$ and angular velocity $\\omega$."
   ]
  },
  {
   "cell_type": "markdown",
   "metadata": {
    "editable": true,
    "slideshow": {
     "slide_type": "subslide"
    },
    "tags": []
   },
   "source": [
    "### Exercise 6. Apply external input to a pendulum\n",
    "\n",
    "Let us again simulate a pendulum for 10 time units. At time=5, kick the pendulum, abruptly changing its velocity by +50 units (over 1 time step):  "
   ]
  },
  {
   "cell_type": "code",
   "execution_count": null,
   "metadata": {
    "editable": true,
    "slideshow": {
     "slide_type": ""
    },
    "tags": []
   },
   "outputs": [],
   "source": [
    "T = 10 # total duration\n",
    "dt = 0.01 # discretisation step\n",
    "n_plot = 100 # how many points to plot\n",
    "\n",
    "A = np.array([[0, 1], \n",
    "              [-1, 0]]) # pendulum dynamics\n",
    "\n",
    "n_plot = int(T//dt)\n",
    "time = np.linspace(0,T,n_plot)\n",
    "\n",
    "# initialize a sequence of inputs [time, state dimensions] with zeros\n",
    "u = np.zeros((n_plot,2)) \n",
    "\n",
    "# Perturbation 1: add a single 'kick', a perturbation at time = 5 (out of 10)\n",
    "u[...] = ...\n",
    "\n",
    "# Perturbation 2: keep swinging the pendulum very fast (use sin/cos function)\n",
    "# u[...] = ...\n",
    "\n",
    "fig, ax = plt.subplots(2,1, figsize=(4,4))\n",
    "R = np.max(np.abs(u))*1.1 # plotting range\n",
    "for i,label in enumerate([''r\"$\\theta$\",r\"$\\omega$\"]):\n",
    "    ax[i].plot(time,u[:,i])\n",
    "    ax[i].set_xlabel('time')\n",
    "    ax[i].set_ylabel(label)\n",
    "    ax[i].set_ylim([-R,R])\n",
    "plt.tight_layout()"
   ]
  },
  {
   "cell_type": "code",
   "execution_count": null,
   "metadata": {
    "editable": true,
    "slideshow": {
     "slide_type": "subslide"
    },
    "tags": []
   },
   "outputs": [],
   "source": [
    "def numerical_2D_solution_with_input(x0,A,u,t,dt=0.01):\n",
    "  ''' Integrates x' = Ax + u_t using a forward Euler scheme, given x(0) = x0;\n",
    "  u = u_t is a vector of inputs\n",
    "  Returns x(t) '''\n",
    "  assert len(u) > t, 'Input sequence provided is not long enough' \n",
    "  assert len(u[0]) == 2, 'Input is not 2D'\n",
    "  N = int(t//dt) \n",
    "  xn = x0 # current value of x_n\n",
    "  for n in range(N):\n",
    "    x_n_plus_1 = xn + (A @ xn)*dt + ... # add input \n",
    "    xn = x_n_plus_1  \n",
    "  return xn\n",
    "\n",
    "def plot_perturbed_oscillations(u, phi0 = -0.7, omega0 = -0.1, dt = dt):\n",
    "  '''\n",
    "  This function takes a sequence of inputs into dynamical system\n",
    "  and plots the 2D trajectory for a perturbed oscillator\n",
    "  '''\n",
    "  x0 = np.array([phi0, omega0])\n",
    "  fig, axes = plt.subplots(1,3,figsize=(12,2),gridspec_kw={'width_ratios': [2, 1, 2]})\n",
    "  time = np.linspace(0,T,n_plot)\n",
    "  numerical_traj = np.array([numerical_2D_solution_with_input(x0,A,u,t,dt=dt) for t in time])\n",
    "  \n",
    "  axes[1].plot(*numerical_traj.T,c='k')\n",
    "  axes[1].set_xlabel(r\"$\\theta$\")\n",
    "  axes[1].set_ylabel(r\"$\\omega = \\dot\\theta$\")\n",
    "  R = np.max(np.abs(numerical_traj))*1.1\n",
    "  axes[1].set_xlim([-R,R])\n",
    "  for ax in axes:\n",
    "    ax.set_ylim([-R,R])\n",
    "\n",
    "  axes[0].plot(numerical_traj[:,0],c='k')\n",
    "  axes[0].set_xlabel(r\"time\")\n",
    "  axes[0].set_ylabel(r\"$\\theta$\")\n",
    "\n",
    "  axes[2].plot(numerical_traj[:,1],c='k')\n",
    "  axes[2].set_xlabel(r\"time\")\n",
    "  axes[2].set_ylabel(r\"$\\omega = \\dot\\theta$\")\n",
    "  # axes[2].legend(loc=(1.2,0))\n",
    "\n",
    "  plt.subplots_adjust(left=None, bottom=.2, right=None, top=None, wspace=0.4, hspace=0.)\n",
    "\n",
    "plot_perturbed_oscillations(u, dt=dt)"
   ]
  },
  {
   "cell_type": "markdown",
   "metadata": {
    "editable": true,
    "slideshow": {
     "slide_type": "notes"
    },
    "tags": []
   },
   "source": [
    "As we see, external input can change the state of the system in addition to the system's dynamics. \n",
    "\n",
    "This is how dynamical systems receive information from outside! E.g. we can model a brain area as a dynamical system, and input into this area from senses and other brain areas would be described as input $\\mathbf{u}$.\n",
    "\n",
    "Let us next discuss two major approaches to modelling populations of neurons as dynamical systems."
   ]
  },
  {
   "cell_type": "markdown",
   "metadata": {
    "editable": true,
    "slideshow": {
     "slide_type": "slide"
    },
    "tags": []
   },
   "source": [
    "## Modeling neural populations: Network dynamics vs. latent dynamics"
   ]
  },
  {
   "cell_type": "markdown",
   "metadata": {
    "editable": true,
    "slideshow": {
     "slide_type": ""
    },
    "tags": []
   },
   "source": [
    "There are two ways to model the dynamics of a neural network: either by modelling the direct interactions between individual neurons, or by summarizing the dynamic modes in neural population activity in a *latent dynamics model* (latent meaning hidden, unobserved) [5].\n",
    "\n",
    "![Fully observed models vs. models of latent dynamics](figures/Population_dynamics.jpeg)\n",
    "\n",
    "In a latent dynamics model, a latent state $\\mathbf{z}$ evolves in time:\n",
    "$$\\mathbf{\\dot z} = A \\mathbf{z} \\tag{5}$$\n",
    "and neural log-firing rates $\\mathbf{y}(t)$ is a linear combination of the latent time-dependent variables $z_1(t), ..., z_n(t)$, which are often also called *factors*:\n",
    "$$\\log \\mathbf{y}(t) = C \\mathbf{z}(t) \\tag{6}$$\n",
    "(log firing rates can be negative or positive, while the firing rate is strictly non-negative due to exponentiation)"
   ]
  },
  {
   "cell_type": "markdown",
   "metadata": {
    "editable": true,
    "slideshow": {
     "slide_type": "fragment"
    },
    "tags": []
   },
   "source": [
    "And the observed spike counts can be assumed to be Poisson distributed:\n",
    "$$\\mathbf{s}(t) \\sim \\mathrm{Poisson}(\\mathbf{y}(t)) \\tag{7}$$\n",
    "\n",
    "The above model (6-7) is called in *observation* model, since it connects latent dynamics to observed neural spiking activity $\\mathbf{s}(t)$. \n",
    "The latent dynamics model is a simplification of the full network dynamics, but it can still capture the main dynamic modes of the network.\n",
    "Typically, the number of dimensions in the latent space $\\mathrm{dim}~\\mathbf{z}$ is much smaller than the number of neurons in the network $N$. Therefore, latent dynamics models also belong to the class of *dimensionality reduction* methods."
   ]
  },
  {
   "cell_type": "markdown",
   "metadata": {
    "editable": true,
    "slideshow": {
     "slide_type": "subslide"
    },
    "tags": []
   },
   "source": [
    "Suppose a network of $N=25$ neurons was following rotational dynamics, which, as we know, can be described by a 2D latent dynamics model:"
   ]
  },
  {
   "cell_type": "code",
   "execution_count": null,
   "metadata": {
    "editable": true,
    "slideshow": {
     "slide_type": "fragment"
    },
    "tags": []
   },
   "outputs": [],
   "source": [
    "A = np.array([[0, 1], \n",
    "              [-1, 0]]) # pendulum dynamics"
   ]
  },
  {
   "cell_type": "markdown",
   "metadata": {
    "editable": true,
    "slideshow": {
     "slide_type": "fragment"
    },
    "tags": []
   },
   "source": [
    "Let us then assume that movements left/right start from the following initial conditions:\n",
    "$$\\mathrm{IC}_{left} \\propto \\mathcal{N} \\left ( \\begin{bmatrix}\n",
    "-1 \\\\\n",
    "0\n",
    "\\end{bmatrix} , \\varepsilon I\\right )$$\n",
    "\n",
    "$$\\mathrm{IC}_{right} \\propto \\mathcal{N} \\left ( \\begin{bmatrix}\n",
    "+1 \\\\\n",
    "0\n",
    "\\end{bmatrix} , \\varepsilon I\\right )$$\n",
    "\n",
    "where $\\varepsilon$ is a small number (jitter), and $\\mathcal{N}(\\mu, \\Sigma)$ is a multivariate Gaussian distribution with mean $\\mu$ and covariance $\\Sigma$. So, there is a bit of a jitter about the initial conditions from trial to trial."
   ]
  },
  {
   "cell_type": "code",
   "execution_count": null,
   "metadata": {
    "editable": true,
    "slideshow": {
     "slide_type": "fragment"
    },
    "tags": []
   },
   "outputs": [],
   "source": [
    "np.random.seed(0)\n",
    "n = 10 # number of initial conditions (each, left and right)\n",
    "jit_x, jit_y = .2, .2\n",
    "jit = np.array([[jit_x,jit_y]]).T # amplitude of jitter in initial conditions\n",
    "ICs_left = np.array([[1,0]]).repeat(n,axis=0).T + jit * np.random.randn(2,n)\n",
    "ICs_right = np.array([[-1,0]]).repeat(n,axis=0).T + jit * np.random.randn(2,n)\n",
    "z0 = np.concatenate([ICs_left,ICs_right],axis=1)\n",
    "\n",
    "plt.figure(figsize=(5,5))\n",
    "for z_i in z0.T:\n",
    "    c = cmap((z_i[0]/2.5 + 0.5))\n",
    "    plt.scatter(*z_i.T,marker='o',color='k',s=90)\n",
    "    plt.scatter(*z_i.T,marker='o',color=c,s=50)\n",
    "\n",
    "plt.xlim(-1.8,1.8)\n",
    "plt.ylim(-1.8,1.8)\n",
    "plt.xlabel('factor 1')\n",
    "plt.ylabel('factor 2')"
   ]
  },
  {
   "cell_type": "markdown",
   "metadata": {
    "editable": true,
    "slideshow": {
     "slide_type": "subslide"
    },
    "tags": []
   },
   "source": [
    "Now let us finally solve the latent dynamics model (5) numerically. We will use a function for analytical solution of a dynamical system from Exercise 3:"
   ]
  },
  {
   "cell_type": "code",
   "execution_count": null,
   "metadata": {
    "editable": true,
    "slideshow": {
     "slide_type": "fragment"
    },
    "tags": []
   },
   "outputs": [],
   "source": [
    "z = np.array([analytical_2D_solution(z0,A,t) for t in np.linspace(0,1.8,30)]) # time x latent_dims x trials\n",
    "z = np.einsum('ijk->kij',z) # trials x time x latent_dims\n",
    "fig, ax = plt.subplots(1,2,figsize=(10,5))\n",
    "for z_i in z:\n",
    "    c = cmap((z_i[0,0]/2.5 + 0.5))\n",
    "    ax[0].plot(*z_i.T,c=c)\n",
    "    ax[0].arrow(*z_i[-1],*(z_i[-1]-z_i[-2]),color=c,head_width=.1)\n",
    "    ax[0].scatter(*z_i[0].T,marker='o',color='k',s=90)\n",
    "    ax[0].scatter(*z_i[0].T,marker='o',color=c,s=50)\n",
    "\n",
    "ax[0].set_xlabel('factor 1')\n",
    "ax[0].set_ylabel('factor 2')\n",
    "\n",
    "# insert image in ax[1]\n",
    "ax[1].imshow(plt.imread('figures/Rotational_dynamics.png'))\n",
    "ax[1].axis('off');"
   ]
  },
  {
   "cell_type": "markdown",
   "metadata": {
    "editable": true,
    "slideshow": {
     "slide_type": "fragment"
    },
    "tags": []
   },
   "source": [
    "It looks like a twin sister of Figure 3 from the latent neural population dynamics discovered in the *Churchland et al. 2012* [3] paper!\n",
    "\n",
    "Let us now use this dynamics to generate some neural activity."
   ]
  },
  {
   "cell_type": "markdown",
   "metadata": {
    "editable": true,
    "slideshow": {
     "slide_type": "subslide"
    },
    "tags": []
   },
   "source": [
    "### Exercise 7. Generate spike trains from a latent dynamics model"
   ]
  },
  {
   "cell_type": "code",
   "execution_count": null,
   "metadata": {
    "editable": true,
    "slideshow": {
     "slide_type": "fragment"
    },
    "tags": []
   },
   "outputs": [],
   "source": [
    "N = 25 # number of neurons\n",
    "np.random.seed(0)\n",
    "C = np.random.randn(N,2)*0.8 # neurons x latent_dims"
   ]
  },
  {
   "cell_type": "markdown",
   "metadata": {
    "editable": true,
    "slideshow": {
     "slide_type": "fragment"
    },
    "tags": []
   },
   "source": [
    "Given the latent factors $\\mathbf{z}(t)$ (in a shape of *[trials, time, latent_dims]*) and the matrix $C$, generate firing rates $\\mathbf{y}(t)$ (in a shape of *[trials, time, neurons]*):"
   ]
  },
  {
   "cell_type": "code",
   "execution_count": null,
   "metadata": {
    "editable": true,
    "slideshow": {
     "slide_type": "fragment"
    },
    "tags": []
   },
   "outputs": [],
   "source": [
    "y = ...\n",
    "\n",
    "fig, ax = plt.subplots(1,2,figsize=(8,3))\n",
    "fr_max = y.max()\n",
    "im = ax[0].imshow(y[0].T,vmin=0,vmax=fr_max)\n",
    "ax[1].imshow(y[n].T,vmin=0,vmax=fr_max)\n",
    "ax[0].set_title('Reach left')\n",
    "ax[1].set_title('Reach right')\n",
    "for a in ax:\n",
    "    a.set_ylabel('neurons')\n",
    "    a.set_xlabel('time')\n",
    "    plt.colorbar(im, ax=a, label='Firing rate (Hz)')\n",
    "plt.tight_layout()"
   ]
  },
  {
   "cell_type": "markdown",
   "metadata": {
    "editable": true,
    "slideshow": {
     "slide_type": "notes"
    },
    "tags": []
   },
   "source": [
    "We can see that now different neurons are active at the movement initiation (t=0) compared to the movement termination (later time). This challenges the classical 'representational' paradigm where movement would be responsible for moving left or moving right and supposed to be active throughout the whole trial."
   ]
  },
  {
   "cell_type": "markdown",
   "metadata": {
    "editable": true,
    "slideshow": {
     "slide_type": "subslide"
    },
    "tags": []
   },
   "source": [
    "Now using these firing rates and `np.random.poisson()` function, let us generate spike trains:"
   ]
  },
  {
   "cell_type": "code",
   "execution_count": null,
   "metadata": {
    "editable": true,
    "slideshow": {
     "slide_type": "fragment"
    },
    "tags": []
   },
   "outputs": [],
   "source": [
    "s = ...\n",
    "\n",
    "fig, ax = plt.subplots(1,2,figsize=(8,3))\n",
    "count_max = s.max()\n",
    "im = ax[0].imshow(s[0].T,vmin=0,vmax=count_max)\n",
    "ax[1].imshow(s[n].T,vmin=0,vmax=count_max)\n",
    "ax[0].set_title('Reach left')\n",
    "ax[1].set_title('Reach right')\n",
    "for a in ax:\n",
    "    a.set_ylabel('neurons')\n",
    "    a.set_xlabel('time')\n",
    "    plt.colorbar(im, ax=a, label='Spike count')\n",
    "plt.tight_layout()\n"
   ]
  },
  {
   "cell_type": "markdown",
   "metadata": {
    "editable": true,
    "slideshow": {
     "slide_type": "notes"
    },
    "tags": []
   },
   "source": [
    "Inverting a latent dynamics model is a difficult problem called *inference*. Depending on the latent dynamics (linear or nonlinear) and the observation model, the inference can either be analytically tractable (i.e. we can write down an analytical solution) or would require approximate inference methods, which are advanced Machine Learning topics. This can get very technically involved.\n",
    "\n",
    "Yet, understanding the *generative model* (i.e. how the data is generated, or eq. (5)-(7)) is a crucial step in understanding the latent dynamics models and reading a large plast of computational neuroscience papers."
   ]
  },
  {
   "cell_type": "markdown",
   "metadata": {
    "editable": true,
    "id": "qIm6cjLqfaWB",
    "slideshow": {
     "slide_type": "slide"
    },
    "tags": []
   },
   "source": [
    "## Summary\n",
    "\n",
    "In the first part of this tutorial, we learned:\n",
    "\n",
    "1. What linear systems can and can not do\n",
    "2. What fixed points are and how to check their stability\n",
    "3. How to read eigenspectra\n",
    "4. How to incorporate external input\n",
    "5. How latent neural dynamics relates to observed spiking activity\n"
   ]
  },
  {
   "cell_type": "markdown",
   "metadata": {
    "editable": true,
    "id": "_8WO8jlefRx0",
    "slideshow": {
     "slide_type": "slide"
    },
    "tags": []
   },
   "source": [
    "# Part 2: Nonlinear dynamical systems"
   ]
  },
  {
   "cell_type": "markdown",
   "metadata": {
    "editable": true,
    "id": "TnpeAv5pjQr4",
    "slideshow": {
     "slide_type": "subslide"
    },
    "tags": []
   },
   "source": [
    "### Dimensionality reduction on Hodgkin-Huxley model\n",
    "\n",
    "To recap, the set of Hodgkin-Huxley (HH) equations contained the following 4 equations:\n",
    "\n",
    "$$C \\frac{dV}{dt} = -\\bar g_K n^4 (V - V_K) - \\bar g_{Na} m^3 h(V-V_{Na}) - \\bar g_l (V - V_l) + I_{ext}\\tag{4a}$$\n",
    "\n",
    "$$\\frac{dn}{dt} = \\alpha_n(V)(1-n) - \\beta_n(V) n\\tag{4b}$$\n",
    "$$\\frac{dm}{dt} = \\alpha_m(V)(1-m) - \\beta_m(V) m\\tag{4c}$$\n",
    "$$\\frac{dh}{dt} = \\alpha_h(V)(1-h) - \\beta_h(V) h\\tag{4d}$$"
   ]
  },
  {
   "cell_type": "markdown",
   "metadata": {
    "editable": true,
    "id": "TnpeAv5pjQr4",
    "slideshow": {
     "slide_type": "fragment"
    },
    "tags": []
   },
   "source": [
    "The state space of this model is 4D, which is too much for visualization and analyse.\n",
    "However, not all equations here are equally important. \n",
    "\n",
    "![Gate timescales](figures/hh_gates.jpg) \n",
    "\n",
    "**Fig. 1a**  The equilibrium functions for the three variables m,n,h | **Fig. 1b** The voltage dependent time constants"
   ]
  },
  {
   "cell_type": "markdown",
   "metadata": {
    "editable": true,
    "id": "lOUo8icZuhI2",
    "slideshow": {
     "slide_type": "notes"
    },
    "tags": []
   },
   "source": [
    "#### Step 1. Time scale separation between fast ($V$) and very-fast ($m$) variables\n",
    "\n",
    "  First, we can look at the timescales of different equations (Fig. 1a).  We see that sodium channel activation $m$ changes much faster than other gating variables, faster than a single spike ($<$1ms).\n",
    "Therefore, we can assume that equation (4c) always quickly reaches equilibrium $dm/dt=0$, and substitute eq. (4c) with a *quasi-steady state* approximation $m(t) = m_0(V(t))$. Thus, we get rid of a differential equation (4c)."
   ]
  },
  {
   "cell_type": "markdown",
   "metadata": {
    "editable": true,
    "id": "lvj5ekalAw2y",
    "slideshow": {
     "slide_type": "notes"
    },
    "tags": []
   },
   "source": [
    "#### Step 2. Merging two similar slow equations ($n$ and $h$)"
   ]
  },
  {
   "cell_type": "markdown",
   "metadata": {
    "editable": true,
    "id": "lvj5ekalAw2y",
    "slideshow": {
     "slide_type": "notes"
    },
    "tags": []
   },
   "source": [
    "  From Fig.1a we also see that both sodium channel inactivation $h$ and potassium channel gating $n$ change slowly (on a scale of 5-10ms). We can also notice that in Fig.1b $n(V)$ looks roughly like $1-h(V)$ (not exactly, but it is an approximation).\n",
    "So, since these two variables have similar dependencies on both time and voltage, we can substitute them with a single variable $w$ that approximates both gating variables. Thus, we merge eq. (4b) and (4d) into one. "
   ]
  },
  {
   "cell_type": "markdown",
   "metadata": {
    "editable": true,
    "id": "dhCZE54EA9Sc",
    "slideshow": {
     "slide_type": "subslide"
    },
    "tags": []
   },
   "source": [
    "#### Result: 2D FitzHugh-Nagumo (FHN) model\n",
    "\n",
    "Following 2 steps above, we merged 2 **fast** equations and 2 **slow** equations, which results in the following model (see [6] if interested in a rigorous derivation):\n",
    "\n",
    "\\begin{align}\n",
    "\\mathrm{\\mathbf{Fast:}} \\quad\\frac{dV}{dt} &= V(1-V)(V-V_{thr}) - w + i_{ext} \\tag{5a}\\\\\n",
    "\\mathrm{\\mathbf{Slow:}} ~\\quad \\frac{dw}{dt} &= \\epsilon (\\beta V - w) \\tag{5b}\n",
    "\\end{align}\n",
    "\n",
    "here some coefficients like time constants and capacitance of the membrane are typically omitted for simplicity.\n",
    "\n",
    "The two equations are also often called **fast activator** and **slow inhibitor**. Because the first equation describes cell's depolarization and sodium channel opening (activation), while the second equation describes everything that works towards repolarization (potassium currents + sodium channels' inactivation).\n",
    "The parameter responsible for fast/slow timescales separation is $\\epsilon$, which is typically set to $0.01$ (i.e. 5b is 100x slower than 5a).\n",
    "\n",
    "Now that we have a 2D system, we can visualize its phase portrait!"
   ]
  },
  {
   "cell_type": "markdown",
   "metadata": {
    "editable": true,
    "id": "6Ys57PBauhRs",
    "slideshow": {
     "slide_type": "subslide"
    },
    "tags": []
   },
   "source": [
    "### Phase portrait of FHN"
   ]
  },
  {
   "cell_type": "markdown",
   "metadata": {
    "editable": true,
    "slideshow": {
     "slide_type": ""
    },
    "tags": []
   },
   "source": [
    "#### **Exercise 8**: Code up FHN equations"
   ]
  },
  {
   "cell_type": "code",
   "execution_count": null,
   "metadata": {
    "colab": {
     "base_uri": "https://localhost:8080/",
     "height": 453,
     "referenced_widgets": [
      "cd8e8256f6274d04b401acdd7ad41f69",
      "2fb4da1dd8b943b2b690374295585920",
      "f1a7387014174247a3b75be28ae943d1",
      "3f746f4a0dd34463be3bd7e9c1203a15",
      "3f427f86bdf94e77a216553746d34a30",
      "3065fb99cc0f48d6bdc4ddcac528badd",
      "e559abcdf4a5444eb59a2059d8cc229f",
      "0ffc0f152ec14895900e7b0be7573d7e",
      "bc89b6ff6fdb4b13aa51e27994973044",
      "63d6dc4da3184f9d9b1f875392456ab0",
      "074ac37f7bbe41d0a334c8e29c8f8b95",
      "d91ff8de92184531bfa84e1f2ec7379f",
      "7328c5f6f4fc4b3e81516193c6cbfab8"
     ]
    },
    "editable": true,
    "id": "6D5fBETVZ6Ke",
    "outputId": "69f99fe7-8651-42fc-ac32-ea6819902d53",
    "slideshow": {
     "slide_type": "fragment"
    },
    "tags": []
   },
   "outputs": [],
   "source": [
    "# Plotting phase portraits\n",
    "def plot_FHN_phase_portrait(i_ext,V_thr,beta,\n",
    "                            V_null = None, w_null = None,\n",
    "                            V_min = -.5, V_max = 1.2,\n",
    "                            w_min = -.1, w_max = .2,\n",
    "                            eps=0.01,n=30):\n",
    "  '''\n",
    "    Plots a phase portrait for a FitzHugh-Nagumo model (eq. 5)\n",
    "    n: number of points in the n x n grid\n",
    "  '''\n",
    "  plt.figure(figsize=(5,5))\n",
    "  V_grid = np.linspace(V_min,V_max, n) # a 1D activator grid\n",
    "  w_grid = np.linspace(w_min,w_max, n) # a 1D inhibitor grid\n",
    "  x = np.array(np.meshgrid(V_grid, w_grid)).reshape((2,-1)) # a 2D flattened grid\n",
    "  V, w = x\n",
    "  V_dot = ...\n",
    "  w_dot = ...\n",
    "  plt.streamplot(V_grid,w_grid,V_dot.reshape(n,n),w_dot.reshape(n,n),\n",
    "                 color=np.linalg.norm(np.array([V_dot,w_dot]),axis=0).reshape(n,n),\n",
    "                 cmap='coolwarm',density=1.5)\n",
    "  if V_null is not None:\n",
    "    plt.plot(V_grid,V_null(V_grid,V_thr,i_ext),c='k')\n",
    "  if w_null is not None:\n",
    "    plt.plot(V_grid,w_null(V_grid,beta),c='k')\n",
    "  plt.xlabel('fast activator V')\n",
    "  plt.ylabel('slow inhibitor w')\n",
    "  plt.xlim([V_min,V_max])\n",
    "  plt.ylim([w_min,w_max])\n",
    "  plt.clim(vmin=0,vmax=.2)\n",
    "  plt.show()\n",
    "  plt.close()\n",
    "\n",
    "@widgets.interact\n",
    "def interactive_FHN_portrait(i_ext=widgets.FloatSlider(min=-.2, max=.3, value=0), \n",
    "                            V_thr=widgets.FloatSlider(min=0, max=1, value=0.2),\n",
    "                            beta=widgets.FloatSlider(min=0.05, max=.5, value=.4),):\n",
    "  plot_FHN_phase_portrait(i_ext,V_thr,beta)"
   ]
  },
  {
   "cell_type": "markdown",
   "metadata": {
    "editable": true,
    "id": "ObkUx2cci1Ks",
    "slideshow": {
     "slide_type": "notes"
    },
    "tags": []
   },
   "source": [
    "Looks very complicated! Although, if we look at some parts of the phase plane, locally it might resemble some of the patterns of an LDS behavior that we have seen before. (by the way, which ones?)"
   ]
  },
  {
   "cell_type": "markdown",
   "metadata": {
    "editable": true,
    "id": "a8dK0G_bldqw",
    "slideshow": {
     "slide_type": "slide"
    },
    "tags": []
   },
   "source": [
    "### Fixed points, nullclines, stability"
   ]
  },
  {
   "cell_type": "markdown",
   "metadata": {
    "editable": true,
    "id": "HDqho-8NbtED",
    "slideshow": {
     "slide_type": ""
    },
    "tags": []
   },
   "source": [
    "While linear systems had just one fixed point, non-linear systems can have many. Moreover, even the number of fixed points can change depending on the parameters (like $V_{thr}$ or $\\gamma$) 🤯\n",
    "\n",
    "We can find fixed points, by dealing with equations (5a) and (5b) one by one. The set of points where $\\dot V = 0$ is called **$V$-nullcline**. Nullclines divide the phase plane into two parts, based on the sign on the derivative. "
   ]
  },
  {
   "cell_type": "markdown",
   "metadata": {
    "editable": true,
    "id": "HDqho-8NbtED",
    "slideshow": {
     "slide_type": "subslide"
    },
    "tags": []
   },
   "source": [
    "#### Exercise 9: FHN nullclines and fixed points\n",
    "Let us add the nullclines to the phase portrait. We will define them as functions + learn an additional way to define single-expression functions in python: "
   ]
  },
  {
   "cell_type": "code",
   "execution_count": null,
   "metadata": {
    "colab": {
     "base_uri": "https://localhost:8080/",
     "height": 453,
     "referenced_widgets": [
      "c808df64e9bb4835b9a1bcb5d19cad16",
      "3942d2572fdc4f7896290a11b827f38a",
      "af6939ad0d4c4e43b243b1b7f893bb91",
      "25e5763b8e3f449abb6c676c720fcf89",
      "8482dedc1c7f4f479f51aafd9f72ee64",
      "6b1b3f91af0d4db783531865d34e22f4",
      "96e7ba0d7f034757bde486b78c321380",
      "63854d54f22b438aa782f129a6da0e94",
      "59496c72aff54ca28922dd6f1d008ca5",
      "f27ea70d68024be582afaee89f3ac415",
      "e3958701a2ce40f7adcec19ba7f1196b",
      "54fe7ad7460c408fbfe4c9f9670ce675",
      "f198c196ea2e4852be54f28c53bc1a0c"
     ]
    },
    "editable": true,
    "id": "opUPiBLNleoA",
    "outputId": "3d6dfdc5-56f4-4f56-c004-4411fa491fce",
    "slideshow": {
     "slide_type": ""
    },
    "tags": []
   },
   "outputs": [],
   "source": [
    "V_nullcline = None\n",
    "w_nullcline = None\n",
    "@widgets.interact\n",
    "def interactive_FHN_portrait(i_ext=widgets.FloatSlider(min=-.2, max=.3, value=0,step=.01), \n",
    "                            V_thr=widgets.FloatSlider(min=0, max=1, value=0.2),\n",
    "                            beta=widgets.FloatSlider(min=0.05, max=.5, value=.4, step=0.01),):\n",
    "\n",
    "  global V_nullcline, w_nullcline\n",
    "\n",
    "  # There are two ways to define functions in python.\n",
    "  # 1. def name(args): (function)\n",
    "  #       ... some computations\n",
    "  #       return output\n",
    "  # 2. name = lambda args: output (a lambda-function: 1) has one expression for outputs; 2) does not have to have a name)\n",
    "\n",
    "  # write equations for nullclines as a function of V: lambda-way\n",
    "  V_nullcline = lambda ...\n",
    "  w_nullcline = lambda ...\n",
    "\n",
    "  # or write equations for nullclines as a function of V: standard-way\n",
    "  # def V_nullcline(...):\n",
    "  #   ...\n",
    "  # def w_nullcline(...):\n",
    "  #   ...\n",
    "\n",
    "  plot_FHN_phase_portrait(i_ext,V_thr,beta,\n",
    "                          V_null = V_nullcline, w_null = w_nullcline)"
   ]
  },
  {
   "cell_type": "markdown",
   "metadata": {
    "editable": true,
    "id": "AaKY6dFVm2me",
    "slideshow": {
     "slide_type": "fragment"
    },
    "tags": []
   },
   "source": [
    "#### Think!\n",
    "What is the minimal and maximal number of fixed points we can get?"
   ]
  },
  {
   "cell_type": "markdown",
   "metadata": {
    "editable": true,
    "id": "TxZOxSxNHDIS",
    "slideshow": {
     "slide_type": "slide"
    },
    "tags": []
   },
   "source": [
    "### Analysing stability"
   ]
  },
  {
   "cell_type": "markdown",
   "metadata": {
    "editable": true,
    "id": "6ZgOTdli4Gi3",
    "slideshow": {
     "slide_type": ""
    },
    "tags": []
   },
   "source": [
    "\n",
    "#### Local stability"
   ]
  },
  {
   "cell_type": "markdown",
   "metadata": {
    "editable": true,
    "id": "fe-e7EvTHBLQ",
    "slideshow": {
     "slide_type": ""
    },
    "tags": []
   },
   "source": [
    "\n",
    "Suppose the nullclines are intersecting somewhere in the middle, like this:"
   ]
  },
  {
   "cell_type": "code",
   "execution_count": null,
   "metadata": {
    "colab": {
     "base_uri": "https://localhost:8080/",
     "height": 357
    },
    "editable": true,
    "id": "3dx6tecc5i8Q",
    "outputId": "2e612806-1258-4010-d474-0bb9dc8857a8",
    "slideshow": {
     "slide_type": ""
    },
    "tags": []
   },
   "outputs": [],
   "source": [
    "i_ext, V_thr, beta = 0.1, 0.2, 0.4\n",
    "plot_FHN_phase_portrait(i_ext,V_thr,beta,\n",
    "                        V_max=1.3, w_min=0, w_max=.3,\n",
    "                        V_null = V_nullcline, w_null = w_nullcline)"
   ]
  },
  {
   "cell_type": "markdown",
   "metadata": {
    "editable": true,
    "id": "zztPsQ-R-bdg",
    "slideshow": {
     "slide_type": "fragment"
    },
    "tags": []
   },
   "source": [
    "We see that globally, in the whole phase plane, the arrows that indicate the derivative $\\mathbf{\\dot x} = [\\dot V, \\dot w]^T$ change their directions in non-trivial ways, because $\\mathbf{\\dot x} = F(\\mathbf{x})$ is non-linear. "
   ]
  },
  {
   "cell_type": "markdown",
   "metadata": {
    "editable": true,
    "id": "zztPsQ-R-bdg",
    "slideshow": {
     "slide_type": "subslide"
    },
    "tags": []
   },
   "source": [
    "However, we can locally **linearize** the dynamical system:  approximate the the evolution operator $F(.)$ with a linear function:"
   ]
  },
  {
   "cell_type": "markdown",
   "metadata": {
    "editable": true,
    "id": "73DmMKidAP7-",
    "slideshow": {
     "slide_type": "fragment"
    },
    "tags": []
   },
   "source": [
    "$$\\mathbf{\\dot x} = F(\\mathbf{x}) \\approx \\left.\\frac{\\partial \\mathbf{F}}{\\partial \\mathbf{x}}\\right |_{x_0} \\mathbf{x} + \\mathbf{b} = \n",
    "\\begin{bmatrix}\n",
    "    \\frac{\\partial F_V}{\\partial V} & \\frac{\\partial F_V}{\\partial w}\\\\\n",
    "    \\frac{\\partial F_w}{\\partial V} & \\frac{\\partial F_w}{\\partial w}\n",
    "\\end{bmatrix}_{\\mathbf{x}_0}  \\mathbf{x} + \\mathbf{b}$$"
   ]
  },
  {
   "cell_type": "markdown",
   "metadata": {
    "editable": true,
    "id": "Apy3Qm1TJKPq",
    "slideshow": {
     "slide_type": "fragment"
    },
    "tags": []
   },
   "source": [
    "If we linearize about a randomly picked point on the phase plane, we'll get an additional non-zero term $\\mathbf{b}$.\n",
    "\n",
    "But if $x_0$ is a fixed point, then:\n",
    "\n",
    "$$\\mathbf{\\dot x} = \\mathbf{\\dot{(x - x_0)}} = \n",
    "\\begin{bmatrix}\n",
    "    \\frac{\\partial F_V}{\\partial V} & \\frac{\\partial F_V}{\\partial w}\\\\\n",
    "    \\frac{\\partial F_w}{\\partial V} & \\frac{\\partial F_w}{\\partial w}\n",
    "\\end{bmatrix}_{\\mathbf{x}_0}  (\\mathbf{x} -\\mathbf{x_0})$$\n",
    "\n",
    "because for $\\mathbf{x} =\\mathbf{x_0}$ the derivative must be zero. This can be rewritten simply as:\n",
    "$$\\mathbf{\\dot{\\hat x}}= \\mathrm{J} \\mathbf{\\hat x}$$"
   ]
  },
  {
   "cell_type": "markdown",
   "metadata": {
    "editable": true,
    "id": "ZUOo-8foDvr9",
    "slideshow": {
     "slide_type": "fragment"
    },
    "tags": []
   },
   "source": [
    "This matrix $\\mathrm{J}$ is called a **Jacobian** (scary name!). But it only has 4 components, which we can derive analytically (with pen and paper) from eq. 5a-5b:"
   ]
  },
  {
   "cell_type": "markdown",
   "metadata": {
    "editable": true,
    "slideshow": {
     "slide_type": "subslide"
    },
    "tags": []
   },
   "source": [
    "#### **Exercise 10:** Calculating the Jacobian"
   ]
  },
  {
   "cell_type": "code",
   "execution_count": null,
   "metadata": {
    "colab": {
     "base_uri": "https://localhost:8080/"
    },
    "editable": true,
    "id": "IGVDBzxuErWE",
    "outputId": "3e189895-8691-4811-86be-29edc6e1a8f2",
    "slideshow": {
     "slide_type": ""
    },
    "tags": []
   },
   "outputs": [],
   "source": [
    "def find_nullcline_intersection(V_thr,i_ext,beta):\n",
    "  diff = lambda x: np.abs(V_nullcline(x,V_thr,i_ext) - w_nullcline(x,beta))\n",
    "  return minimize(diff,0.4).x[0]\n",
    "\n",
    "\n",
    "eps = 0.01\n",
    "V = find_nullcline_intersection(V_thr,i_ext,beta)\n",
    "print(f'Nullclines intersect at V={V:.3f}')\n",
    "J = np.array([[..., ...],\n",
    "              [..., ...]])               \n",
    "\n",
    "print(\"Eigenvalues of a Jacobian: \",np.linalg.eig(J)[0])"
   ]
  },
  {
   "cell_type": "markdown",
   "metadata": {
    "editable": true,
    "id": "zgeYXh2GC1WF",
    "slideshow": {
     "slide_type": "fragment"
    },
    "tags": []
   },
   "source": [
    "##### **Think!**\n",
    "So, is it stable? (for these hyperparameters)"
   ]
  },
  {
   "cell_type": "markdown",
   "metadata": {
    "editable": true,
    "id": "kndVlnjuHI34",
    "slideshow": {
     "slide_type": "subslide"
    },
    "tags": []
   },
   "source": [
    "#### Global stability"
   ]
  },
  {
   "cell_type": "markdown",
   "metadata": {
    "editable": true,
    "id": "XJ8wfv6aGvO7",
    "slideshow": {
     "slide_type": ""
    },
    "tags": []
   },
   "source": [
    "Now let us take a step back. **Literally.** Let us zoom out on that phase portrait:"
   ]
  },
  {
   "cell_type": "code",
   "execution_count": null,
   "metadata": {
    "colab": {
     "base_uri": "https://localhost:8080/",
     "height": 350
    },
    "editable": true,
    "id": "6D5yzQeSHUuu",
    "outputId": "a9e5bce6-e6c9-4d54-b753-1d26c17c7999",
    "slideshow": {
     "slide_type": ""
    },
    "tags": []
   },
   "outputs": [],
   "source": [
    "i_ext, V_thr, beta = 0.1, 0.2, 0.4\n",
    "plot_FHN_phase_portrait(i_ext,V_thr,beta, eps=.1,\n",
    "                        V_min=-5, V_max=5, w_min=-50, w_max=50,\n",
    "                        V_null = V_nullcline, w_null = w_nullcline)"
   ]
  },
  {
   "cell_type": "markdown",
   "metadata": {
    "editable": true,
    "id": "6s8EKaABJyBM",
    "slideshow": {
     "slide_type": "fragment"
    },
    "tags": []
   },
   "source": [
    "##### **Think!**\n",
    "We see that all of the arrows are point towards the cubic V-nullcline. But why are they horizontal? *(click for answer)*\n"
   ]
  },
  {
   "cell_type": "markdown",
   "metadata": {
    "editable": true,
    "id": "Dekbfp9goUFJ",
    "slideshow": {
     "slide_type": "subslide"
    },
    "tags": []
   },
   "source": [
    "#### **Summarize and Think!**\n",
    "\n",
    "What should happen on intermediate timescale if:\n",
    "1. **locally**: two nullclines have only one intersection which is a *repeller*\n",
    "2. **globally** the states are *attracted* towards (0,0)\n",
    "\n",
    "?\n"
   ]
  },
  {
   "cell_type": "markdown",
   "metadata": {
    "editable": true,
    "slideshow": {
     "slide_type": "fragment"
    },
    "tags": []
   },
   "source": [
    "**Time for blackboard exercise in nullclines, signs of the derivatives and stability!**"
   ]
  },
  {
   "cell_type": "markdown",
   "metadata": {
    "editable": true,
    "id": "Ec8midjSBJUg",
    "slideshow": {
     "slide_type": "slide"
    },
    "tags": []
   },
   "source": [
    "### **Exercise 11:** Make FHN neuron spike periodically"
   ]
  },
  {
   "cell_type": "markdown",
   "metadata": {
    "editable": true,
    "id": "CcTLCvs7nHqU",
    "slideshow": {
     "slide_type": "notes"
    },
    "tags": []
   },
   "source": [
    "With all the knowledge you possess now, you can figure out all possible behaviors of this system with only pen and paper. Let us confirm our analysis and visulize some trajectories starting from random initial conditions:"
   ]
  },
  {
   "cell_type": "code",
   "execution_count": null,
   "metadata": {
    "colab": {
     "base_uri": "https://localhost:8080/",
     "height": 453,
     "referenced_widgets": [
      "5c6b4bfefbed480b8dae6d61950aabff",
      "ec15bc0f68e142ceae681076225da518",
      "0236826fb21b454981f2b4eb933c9bdb",
      "171f8f82e0984263a96c9357f39d47bc",
      "ecf7dd95cec14067b873106d4d825d00",
      "6db1bbe858594c24a6ee50b4cc2632a2",
      "91753104456d4873ae89725ddbbef31b",
      "893d0008d0934cccb12945fdc8aab290",
      "f64501ee39c743f193f253b25a24c1b6",
      "243385e773194e1d994a812bccd25943",
      "28f9d17b77774696ac65484052b33e0c",
      "8b8a3542c3a7454c9259128aeb52e07c",
      "edd8826288e04c51a0b52b22717dddd9"
     ]
    },
    "editable": true,
    "id": "ywfSLU6ipoeC",
    "outputId": "b57b10b2-0149-47a5-ce96-6a133f72b698",
    "slideshow": {
     "slide_type": ""
    },
    "tags": []
   },
   "outputs": [],
   "source": [
    "def plot_FHN_trajectories(i_ext,V_thr,beta,\n",
    "                          N=10, T=20000, dt=.1,eps=0.01,n=30):\n",
    "  '''\n",
    "    Plots trajectories for a FitzHugh-Nagumo model (eq. 5)\n",
    "  '''\n",
    "  fig, ax = plt.subplots(1,2,figsize=(15,5),gridspec_kw={'width_ratios': [1,2]})\n",
    "\n",
    "  # plot trajectories \n",
    "  V_dot = lambda V, w: V*(1-V)*(V-V_thr) - w + i_ext \n",
    "  w_dot = lambda V, w: eps*(beta * V - w) \n",
    "  # generate some initial conditions\n",
    "  V_0 = np.random.randn(N) * .5 + 0.5\n",
    "  w_0 = np.random.randn(N) * .02 + .05\n",
    "  # create an empty array for storing solutions \n",
    "  traject = np.empty((2,T+1,N))\n",
    "  traject[:,0] = np.array([V_0, w_0])\n",
    "  for t in range(T):\n",
    "    traject[:,t+1] = np.clip(\n",
    "                      [traject[0,t] + V_dot(*traject[:,t])*dt,\n",
    "                      traject[1,t] + w_dot(*traject[:,t])*dt],-10,10)\n",
    "  for i in range(N):\n",
    "    ax[0].plot(*traject[...,i],alpha=.3,linewidth=5)\n",
    "    ax[1].plot(traject[0,:,i])\n",
    "\n",
    "  # plot nullclines\n",
    "  global V_nullcline, w_nullcline\n",
    "  V_grid = np.linspace(-.5, 1.2, n) # a 1D activator grid\n",
    "  ax[0].plot(V_grid,V_nullcline(V_grid,V_thr,i_ext),c='k')\n",
    "  ax[0].plot(V_grid,w_nullcline(V_grid,beta),c='k')\n",
    "  \n",
    "  ax[0].set_xlabel('fast activator V')\n",
    "  ax[0].set_ylabel('slow inhibitor w')\n",
    "  ax[1].set_ylabel('fast activator V')\n",
    "  ax[1].set_xlabel('time')\n",
    "  ax[0].set_xlim([-.5,1.2])\n",
    "  ax[1].set_ylim([-.5,1.2])\n",
    "  ax[0].set_ylim([-.1,.2])\n",
    "  plt.show()\n",
    "  plt.close()\n",
    "\n",
    "@widgets.interact\n",
    "def interactive_FHN_trajectories(i_ext=widgets.FloatSlider(min=-.2, max=.3, value=0,step=.01), \n",
    "                            V_thr=widgets.FloatSlider(min=0, max=1, value=0.2),\n",
    "                            beta=widgets.FloatSlider(min=0.05, max=.5, value=.25, step=.01),):\n",
    "  plot_FHN_trajectories(i_ext,V_thr,beta)"
   ]
  },
  {
   "cell_type": "markdown",
   "metadata": {
    "editable": true,
    "id": "T7TKHX_DBPIP",
    "slideshow": {
     "slide_type": "notes"
    },
    "tags": []
   },
   "source": [
    "Yay, we've got action potentials!\n",
    "\n",
    "Not particularly beautiful action potentials (well, it is an approximated, reduced model), but still action potentials!\n",
    "\n",
    "If you don't see anything like action potentials, try stimulating the FHN neuron just a little bit with the external current $i_{ext}$. It makes sense, right? The neuron responds to some inputs.\n",
    "\n"
   ]
  },
  {
   "cell_type": "markdown",
   "metadata": {
    "editable": true,
    "id": "8__UNIH962G2",
    "slideshow": {
     "slide_type": "subslide"
    },
    "tags": []
   },
   "source": [
    "### **Think: linear vs nonlinear oscillations**\n",
    "\n",
    "Now that you've seen a linear oscillator and a non-linear oscillator (limit cycle), what is the key qualitative difference between them? How would the amplitude of oscillations change if you change initial conditions?"
   ]
  },
  {
   "cell_type": "markdown",
   "metadata": {
    "editable": true,
    "id": "32pRn7au6len",
    "slideshow": {
     "slide_type": "slide"
    },
    "tags": []
   },
   "source": [
    "## Summary\n",
    "\n",
    "In the second part of the tutorial, we:\n",
    "1. Learned that nonlinear systems can have not just *one* but *many* fixed points\n",
    "2. Learned how to linearize the dynamical system about a fixed point and check its local stability\n",
    "3. Learned a new type of an attractor: a limit cycle!\n",
    "4. Simulated some action potentials!"
   ]
  },
  {
   "cell_type": "markdown",
   "metadata": {
    "editable": true,
    "id": "kblnhvBQ9GvC",
    "slideshow": {
     "slide_type": "slide"
    },
    "tags": []
   },
   "source": [
    "# References\n",
    "\n",
    "1. Izhikevich, Eugene M. [Dynamical systems in neuroscience.](https://www.izhikevich.org/publications/dsn.pdf) MIT press, 2007.\n",
    "\n",
    "2. Gerstner, Wulfram, et al. [Neuronal dynamics](https://neuronaldynamics.epfl.ch/index.html): From single neurons to networks and models of cognition. Cambridge University Press, 2014.\n",
    "\n",
    "3. Churchland, Mark M., et al. [Neural population dynamics during reaching.](https://www.ncbi.nlm.nih.gov/pmc/articles/PMC3393826/) Nature 487.7405 (2012): 51-56.\n",
    "\n",
    "<!-- ## Other great tutorials: -->\n",
    "4. Linear dynamical systems by Bing Wen Brunton and Alice Schwarze [Neuromatch: W2D2](https://compneuro.neuromatch.io/tutorials/W2D2_LinearSystems/student/W2D2_Tutorial1.html), 2020-now\n",
    "\n",
    "5. Hurwitz, Cole, et al. [Building population models for large-scale neural recordings: Opportunities and pitfalls.](https://pubmed.ncbi.nlm.nih.gov/34411907/) Current opinion in neurobiology 70 (2021): 64-73.\n",
    "\n",
    "6. Rinzel, John. [Excitation dynamics: insights from simplified membrane models.](https://neurophysics.ucsd.edu/courses/physics_171/Rinzel_FedProc_85.pdf) Fed. proc. Vol. 44. No. 15. 1985."
   ]
  }
 ],
 "metadata": {
  "colab": {
   "authorship_tag": "ABX9TyMFQtdNWPBWJro064VDGald",
   "collapsed_sections": [
    "5e6LtQ4p-B8U",
    "240PYpGQF9XH",
    "DO5ql9-vtk0H",
    "udXVsH6B8tfL",
    "WFHVKE6IAVqy",
    "qIm6cjLqfaWB",
    "lOUo8icZuhI2",
    "lvj5ekalAw2y",
    "dhCZE54EA9Sc",
    "32pRn7au6len",
    "H19D2ahHdTkK",
    "jE2TTKmgzwIP",
    "kblnhvBQ9GvC"
   ],
   "include_colab_link": true,
   "name": "DS Tutorial Parts 1-2 SOLUTIONS",
   "provenance": [],
   "toc_visible": true
  },
  "kernelspec": {
   "display_name": "Python 3 (ipykernel)",
   "language": "python",
   "name": "python3"
  },
  "language_info": {
   "codemirror_mode": {
    "name": "ipython",
    "version": 3
   },
   "file_extension": ".py",
   "mimetype": "text/x-python",
   "name": "python",
   "nbconvert_exporter": "python",
   "pygments_lexer": "ipython3",
   "version": "3.10.13"
  },
  "widgets": {
   "application/vnd.jupyter.widget-state+json": {
    "0236826fb21b454981f2b4eb933c9bdb": {
     "model_module": "@jupyter-widgets/controls",
     "model_module_version": "1.5.0",
     "model_name": "FloatSliderModel",
     "state": {
      "_dom_classes": [],
      "_model_module": "@jupyter-widgets/controls",
      "_model_module_version": "1.5.0",
      "_model_name": "FloatSliderModel",
      "_view_count": null,
      "_view_module": "@jupyter-widgets/controls",
      "_view_module_version": "1.5.0",
      "_view_name": "FloatSliderView",
      "continuous_update": true,
      "description": "V_thr",
      "description_tooltip": null,
      "disabled": false,
      "layout": "IPY_MODEL_f64501ee39c743f193f253b25a24c1b6",
      "max": 1,
      "min": 0,
      "orientation": "horizontal",
      "readout": true,
      "readout_format": ".2f",
      "step": 0.1,
      "style": "IPY_MODEL_243385e773194e1d994a812bccd25943",
      "value": 0.2
     }
    },
    "05bf6f397356466583a124970cf33f0a": {
     "model_module": "@jupyter-widgets/output",
     "model_module_version": "1.0.0",
     "model_name": "OutputModel",
     "state": {
      "_dom_classes": [],
      "_model_module": "@jupyter-widgets/output",
      "_model_module_version": "1.0.0",
      "_model_name": "OutputModel",
      "_view_count": null,
      "_view_module": "@jupyter-widgets/output",
      "_view_module_version": "1.0.0",
      "_view_name": "OutputView",
      "layout": "IPY_MODEL_97e717ca46254199a1760d6971aebebe",
      "msg_id": "",
      "outputs": [
       {
        "data": {
         "image/png": "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\n",
         "text/plain": "<Figure size 216x216 with 1 Axes>"
        },
        "metadata": {
         "needs_background": "light"
        },
        "output_type": "display_data"
       }
      ]
     }
    },
    "074ac37f7bbe41d0a334c8e29c8f8b95": {
     "model_module": "@jupyter-widgets/base",
     "model_module_version": "1.2.0",
     "model_name": "LayoutModel",
     "state": {
      "_model_module": "@jupyter-widgets/base",
      "_model_module_version": "1.2.0",
      "_model_name": "LayoutModel",
      "_view_count": null,
      "_view_module": "@jupyter-widgets/base",
      "_view_module_version": "1.2.0",
      "_view_name": "LayoutView",
      "align_content": null,
      "align_items": null,
      "align_self": null,
      "border": null,
      "bottom": null,
      "display": null,
      "flex": null,
      "flex_flow": null,
      "grid_area": null,
      "grid_auto_columns": null,
      "grid_auto_flow": null,
      "grid_auto_rows": null,
      "grid_column": null,
      "grid_gap": null,
      "grid_row": null,
      "grid_template_areas": null,
      "grid_template_columns": null,
      "grid_template_rows": null,
      "height": null,
      "justify_content": null,
      "justify_items": null,
      "left": null,
      "margin": null,
      "max_height": null,
      "max_width": null,
      "min_height": null,
      "min_width": null,
      "object_fit": null,
      "object_position": null,
      "order": null,
      "overflow": null,
      "overflow_x": null,
      "overflow_y": null,
      "padding": null,
      "right": null,
      "top": null,
      "visibility": null,
      "width": null
     }
    },
    "0b41dd7e2b93493c929a680835a267c6": {
     "model_module": "@jupyter-widgets/base",
     "model_module_version": "1.2.0",
     "model_name": "LayoutModel",
     "state": {
      "_model_module": "@jupyter-widgets/base",
      "_model_module_version": "1.2.0",
      "_model_name": "LayoutModel",
      "_view_count": null,
      "_view_module": "@jupyter-widgets/base",
      "_view_module_version": "1.2.0",
      "_view_name": "LayoutView",
      "align_content": null,
      "align_items": null,
      "align_self": null,
      "border": null,
      "bottom": null,
      "display": null,
      "flex": null,
      "flex_flow": null,
      "grid_area": null,
      "grid_auto_columns": null,
      "grid_auto_flow": null,
      "grid_auto_rows": null,
      "grid_column": null,
      "grid_gap": null,
      "grid_row": null,
      "grid_template_areas": null,
      "grid_template_columns": null,
      "grid_template_rows": null,
      "height": null,
      "justify_content": null,
      "justify_items": null,
      "left": null,
      "margin": null,
      "max_height": null,
      "max_width": null,
      "min_height": null,
      "min_width": null,
      "object_fit": null,
      "object_position": null,
      "order": null,
      "overflow": null,
      "overflow_x": null,
      "overflow_y": null,
      "padding": null,
      "right": null,
      "top": null,
      "visibility": null,
      "width": null
     }
    },
    "0c4808d53df7407188a7ebb897e8a036": {
     "model_module": "@jupyter-widgets/base",
     "model_module_version": "1.2.0",
     "model_name": "LayoutModel",
     "state": {
      "_model_module": "@jupyter-widgets/base",
      "_model_module_version": "1.2.0",
      "_model_name": "LayoutModel",
      "_view_count": null,
      "_view_module": "@jupyter-widgets/base",
      "_view_module_version": "1.2.0",
      "_view_name": "LayoutView",
      "align_content": null,
      "align_items": null,
      "align_self": null,
      "border": null,
      "bottom": null,
      "display": null,
      "flex": null,
      "flex_flow": null,
      "grid_area": null,
      "grid_auto_columns": null,
      "grid_auto_flow": null,
      "grid_auto_rows": null,
      "grid_column": null,
      "grid_gap": null,
      "grid_row": null,
      "grid_template_areas": null,
      "grid_template_columns": null,
      "grid_template_rows": null,
      "height": null,
      "justify_content": null,
      "justify_items": null,
      "left": null,
      "margin": null,
      "max_height": null,
      "max_width": null,
      "min_height": null,
      "min_width": null,
      "object_fit": null,
      "object_position": null,
      "order": null,
      "overflow": null,
      "overflow_x": null,
      "overflow_y": null,
      "padding": null,
      "right": null,
      "top": null,
      "visibility": null,
      "width": null
     }
    },
    "0d1c8d5110954d769ab8b622b6043671": {
     "model_module": "@jupyter-widgets/controls",
     "model_module_version": "1.5.0",
     "model_name": "VBoxModel",
     "state": {
      "_dom_classes": [
       "widget-interact"
      ],
      "_model_module": "@jupyter-widgets/controls",
      "_model_module_version": "1.5.0",
      "_model_name": "VBoxModel",
      "_view_count": null,
      "_view_module": "@jupyter-widgets/controls",
      "_view_module_version": "1.5.0",
      "_view_name": "VBoxView",
      "box_style": "",
      "children": [
       "IPY_MODEL_d593cdb684a14459a87234dd302af4f5",
       "IPY_MODEL_515c4413dfa04ab980eca7d14234fb39",
       "IPY_MODEL_3bbfa1f4655e4402b15a2856dccd2b6d",
       "IPY_MODEL_95fa22b4bcc144a98b99f4e3276660f0"
      ],
      "layout": "IPY_MODEL_ee537d4f32f44b2fb8849f35c8492540"
     }
    },
    "0fe0f5f85f624044b760515425eaa517": {
     "model_module": "@jupyter-widgets/base",
     "model_module_version": "1.2.0",
     "model_name": "LayoutModel",
     "state": {
      "_model_module": "@jupyter-widgets/base",
      "_model_module_version": "1.2.0",
      "_model_name": "LayoutModel",
      "_view_count": null,
      "_view_module": "@jupyter-widgets/base",
      "_view_module_version": "1.2.0",
      "_view_name": "LayoutView",
      "align_content": null,
      "align_items": null,
      "align_self": null,
      "border": null,
      "bottom": null,
      "display": null,
      "flex": null,
      "flex_flow": null,
      "grid_area": null,
      "grid_auto_columns": null,
      "grid_auto_flow": null,
      "grid_auto_rows": null,
      "grid_column": null,
      "grid_gap": null,
      "grid_row": null,
      "grid_template_areas": null,
      "grid_template_columns": null,
      "grid_template_rows": null,
      "height": null,
      "justify_content": null,
      "justify_items": null,
      "left": null,
      "margin": null,
      "max_height": null,
      "max_width": null,
      "min_height": null,
      "min_width": null,
      "object_fit": null,
      "object_position": null,
      "order": null,
      "overflow": null,
      "overflow_x": null,
      "overflow_y": null,
      "padding": null,
      "right": null,
      "top": null,
      "visibility": null,
      "width": null
     }
    },
    "0ffc0f152ec14895900e7b0be7573d7e": {
     "model_module": "@jupyter-widgets/controls",
     "model_module_version": "1.5.0",
     "model_name": "SliderStyleModel",
     "state": {
      "_model_module": "@jupyter-widgets/controls",
      "_model_module_version": "1.5.0",
      "_model_name": "SliderStyleModel",
      "_view_count": null,
      "_view_module": "@jupyter-widgets/base",
      "_view_module_version": "1.2.0",
      "_view_name": "StyleView",
      "description_width": "",
      "handle_color": null
     }
    },
    "13e2c86a8c614f8ea18d7fe5da443539": {
     "model_module": "@jupyter-widgets/base",
     "model_module_version": "1.2.0",
     "model_name": "LayoutModel",
     "state": {
      "_model_module": "@jupyter-widgets/base",
      "_model_module_version": "1.2.0",
      "_model_name": "LayoutModel",
      "_view_count": null,
      "_view_module": "@jupyter-widgets/base",
      "_view_module_version": "1.2.0",
      "_view_name": "LayoutView",
      "align_content": null,
      "align_items": null,
      "align_self": null,
      "border": null,
      "bottom": null,
      "display": null,
      "flex": null,
      "flex_flow": null,
      "grid_area": null,
      "grid_auto_columns": null,
      "grid_auto_flow": null,
      "grid_auto_rows": null,
      "grid_column": null,
      "grid_gap": null,
      "grid_row": null,
      "grid_template_areas": null,
      "grid_template_columns": null,
      "grid_template_rows": null,
      "height": null,
      "justify_content": null,
      "justify_items": null,
      "left": null,
      "margin": null,
      "max_height": null,
      "max_width": null,
      "min_height": null,
      "min_width": null,
      "object_fit": null,
      "object_position": null,
      "order": null,
      "overflow": null,
      "overflow_x": null,
      "overflow_y": null,
      "padding": null,
      "right": null,
      "top": null,
      "visibility": null,
      "width": null
     }
    },
    "1659ee96e9ec4c02aee37ab3137aa3a5": {
     "model_module": "@jupyter-widgets/base",
     "model_module_version": "1.2.0",
     "model_name": "LayoutModel",
     "state": {
      "_model_module": "@jupyter-widgets/base",
      "_model_module_version": "1.2.0",
      "_model_name": "LayoutModel",
      "_view_count": null,
      "_view_module": "@jupyter-widgets/base",
      "_view_module_version": "1.2.0",
      "_view_name": "LayoutView",
      "align_content": null,
      "align_items": null,
      "align_self": null,
      "border": null,
      "bottom": null,
      "display": null,
      "flex": null,
      "flex_flow": null,
      "grid_area": null,
      "grid_auto_columns": null,
      "grid_auto_flow": null,
      "grid_auto_rows": null,
      "grid_column": null,
      "grid_gap": null,
      "grid_row": null,
      "grid_template_areas": null,
      "grid_template_columns": null,
      "grid_template_rows": null,
      "height": null,
      "justify_content": null,
      "justify_items": null,
      "left": null,
      "margin": null,
      "max_height": null,
      "max_width": null,
      "min_height": null,
      "min_width": null,
      "object_fit": null,
      "object_position": null,
      "order": null,
      "overflow": null,
      "overflow_x": null,
      "overflow_y": null,
      "padding": null,
      "right": null,
      "top": null,
      "visibility": null,
      "width": null
     }
    },
    "169a1616828e4c7a8656c57d484ea911": {
     "model_module": "@jupyter-widgets/controls",
     "model_module_version": "1.5.0",
     "model_name": "FloatSliderModel",
     "state": {
      "_dom_classes": [],
      "_model_module": "@jupyter-widgets/controls",
      "_model_module_version": "1.5.0",
      "_model_name": "FloatSliderModel",
      "_view_count": null,
      "_view_module": "@jupyter-widgets/controls",
      "_view_module_version": "1.5.0",
      "_view_name": "FloatSliderView",
      "continuous_update": true,
      "description": "λ2",
      "description_tooltip": null,
      "disabled": false,
      "layout": "IPY_MODEL_56fafbbb9be54ce9b1b7f1d7515956e7",
      "max": 1,
      "min": -1,
      "orientation": "horizontal",
      "readout": true,
      "readout_format": ".2f",
      "step": 0.1,
      "style": "IPY_MODEL_97c7ec92043f46f4b46d4c86587b8321",
      "value": 0
     }
    },
    "171f8f82e0984263a96c9357f39d47bc": {
     "model_module": "@jupyter-widgets/controls",
     "model_module_version": "1.5.0",
     "model_name": "FloatSliderModel",
     "state": {
      "_dom_classes": [],
      "_model_module": "@jupyter-widgets/controls",
      "_model_module_version": "1.5.0",
      "_model_name": "FloatSliderModel",
      "_view_count": null,
      "_view_module": "@jupyter-widgets/controls",
      "_view_module_version": "1.5.0",
      "_view_name": "FloatSliderView",
      "continuous_update": true,
      "description": "beta",
      "description_tooltip": null,
      "disabled": false,
      "layout": "IPY_MODEL_28f9d17b77774696ac65484052b33e0c",
      "max": 0.5,
      "min": 0.05,
      "orientation": "horizontal",
      "readout": true,
      "readout_format": ".2f",
      "step": 0.01,
      "style": "IPY_MODEL_8b8a3542c3a7454c9259128aeb52e07c",
      "value": 0.25
     }
    },
    "197fc4afe96b4012a14d79312fe3eec7": {
     "model_module": "@jupyter-widgets/controls",
     "model_module_version": "1.5.0",
     "model_name": "FloatSliderModel",
     "state": {
      "_dom_classes": [],
      "_model_module": "@jupyter-widgets/controls",
      "_model_module_version": "1.5.0",
      "_model_name": "FloatSliderModel",
      "_view_count": null,
      "_view_module": "@jupyter-widgets/controls",
      "_view_module_version": "1.5.0",
      "_view_name": "FloatSliderView",
      "continuous_update": true,
      "description": "x0",
      "description_tooltip": null,
      "disabled": false,
      "layout": "IPY_MODEL_931262ce33e0456aa76692529d783cdd",
      "max": 3,
      "min": -1,
      "orientation": "horizontal",
      "readout": true,
      "readout_format": ".2f",
      "step": 0.1,
      "style": "IPY_MODEL_a265a9ae79c34f25b033e8a23be0e5f0",
      "value": 1
     }
    },
    "1b6977a787634751bca8ee491cb35b5b": {
     "model_module": "@jupyter-widgets/base",
     "model_module_version": "1.2.0",
     "model_name": "LayoutModel",
     "state": {
      "_model_module": "@jupyter-widgets/base",
      "_model_module_version": "1.2.0",
      "_model_name": "LayoutModel",
      "_view_count": null,
      "_view_module": "@jupyter-widgets/base",
      "_view_module_version": "1.2.0",
      "_view_name": "LayoutView",
      "align_content": null,
      "align_items": null,
      "align_self": null,
      "border": null,
      "bottom": null,
      "display": null,
      "flex": null,
      "flex_flow": null,
      "grid_area": null,
      "grid_auto_columns": null,
      "grid_auto_flow": null,
      "grid_auto_rows": null,
      "grid_column": null,
      "grid_gap": null,
      "grid_row": null,
      "grid_template_areas": null,
      "grid_template_columns": null,
      "grid_template_rows": null,
      "height": null,
      "justify_content": null,
      "justify_items": null,
      "left": null,
      "margin": null,
      "max_height": null,
      "max_width": null,
      "min_height": null,
      "min_width": null,
      "object_fit": null,
      "object_position": null,
      "order": null,
      "overflow": null,
      "overflow_x": null,
      "overflow_y": null,
      "padding": null,
      "right": null,
      "top": null,
      "visibility": null,
      "width": null
     }
    },
    "1bbd364ad7d143e6b5938e65456ce8bf": {
     "model_module": "@jupyter-widgets/base",
     "model_module_version": "1.2.0",
     "model_name": "LayoutModel",
     "state": {
      "_model_module": "@jupyter-widgets/base",
      "_model_module_version": "1.2.0",
      "_model_name": "LayoutModel",
      "_view_count": null,
      "_view_module": "@jupyter-widgets/base",
      "_view_module_version": "1.2.0",
      "_view_name": "LayoutView",
      "align_content": null,
      "align_items": null,
      "align_self": null,
      "border": null,
      "bottom": null,
      "display": null,
      "flex": null,
      "flex_flow": null,
      "grid_area": null,
      "grid_auto_columns": null,
      "grid_auto_flow": null,
      "grid_auto_rows": null,
      "grid_column": null,
      "grid_gap": null,
      "grid_row": null,
      "grid_template_areas": null,
      "grid_template_columns": null,
      "grid_template_rows": null,
      "height": null,
      "justify_content": null,
      "justify_items": null,
      "left": null,
      "margin": null,
      "max_height": null,
      "max_width": null,
      "min_height": null,
      "min_width": null,
      "object_fit": null,
      "object_position": null,
      "order": null,
      "overflow": null,
      "overflow_x": null,
      "overflow_y": null,
      "padding": null,
      "right": null,
      "top": null,
      "visibility": null,
      "width": null
     }
    },
    "2210f34f6f7940d7b0dc90370bb0f04c": {
     "model_module": "@jupyter-widgets/controls",
     "model_module_version": "1.5.0",
     "model_name": "FloatSliderModel",
     "state": {
      "_dom_classes": [],
      "_model_module": "@jupyter-widgets/controls",
      "_model_module_version": "1.5.0",
      "_model_name": "FloatSliderModel",
      "_view_count": null,
      "_view_module": "@jupyter-widgets/controls",
      "_view_module_version": "1.5.0",
      "_view_name": "FloatSliderView",
      "continuous_update": true,
      "description": "a_real",
      "description_tooltip": null,
      "disabled": false,
      "layout": "IPY_MODEL_7be52a01ccbe47bfae0276571e93bf1c",
      "max": 1,
      "min": -1,
      "orientation": "horizontal",
      "readout": true,
      "readout_format": ".2f",
      "step": 0.1,
      "style": "IPY_MODEL_fa3c97f1e7174690aae9475214042671",
      "value": 0
     }
    },
    "225863f7e6d540f8b83d3df77e3bfa26": {
     "model_module": "@jupyter-widgets/controls",
     "model_module_version": "1.5.0",
     "model_name": "VBoxModel",
     "state": {
      "_dom_classes": [
       "widget-interact"
      ],
      "_model_module": "@jupyter-widgets/controls",
      "_model_module_version": "1.5.0",
      "_model_name": "VBoxModel",
      "_view_count": null,
      "_view_module": "@jupyter-widgets/controls",
      "_view_module_version": "1.5.0",
      "_view_name": "VBoxView",
      "box_style": "",
      "children": [
       "IPY_MODEL_b64c80e9d34f4602a99a125f98d5148e",
       "IPY_MODEL_169a1616828e4c7a8656c57d484ea911",
       "IPY_MODEL_8a5033be98b8490cb0da4ee2fe5fdb96"
      ],
      "layout": "IPY_MODEL_1659ee96e9ec4c02aee37ab3137aa3a5"
     }
    },
    "243385e773194e1d994a812bccd25943": {
     "model_module": "@jupyter-widgets/controls",
     "model_module_version": "1.5.0",
     "model_name": "SliderStyleModel",
     "state": {
      "_model_module": "@jupyter-widgets/controls",
      "_model_module_version": "1.5.0",
      "_model_name": "SliderStyleModel",
      "_view_count": null,
      "_view_module": "@jupyter-widgets/base",
      "_view_module_version": "1.2.0",
      "_view_name": "StyleView",
      "description_width": "",
      "handle_color": null
     }
    },
    "25e5763b8e3f449abb6c676c720fcf89": {
     "model_module": "@jupyter-widgets/controls",
     "model_module_version": "1.5.0",
     "model_name": "FloatSliderModel",
     "state": {
      "_dom_classes": [],
      "_model_module": "@jupyter-widgets/controls",
      "_model_module_version": "1.5.0",
      "_model_name": "FloatSliderModel",
      "_view_count": null,
      "_view_module": "@jupyter-widgets/controls",
      "_view_module_version": "1.5.0",
      "_view_name": "FloatSliderView",
      "continuous_update": true,
      "description": "beta",
      "description_tooltip": null,
      "disabled": false,
      "layout": "IPY_MODEL_e3958701a2ce40f7adcec19ba7f1196b",
      "max": 0.5,
      "min": 0.05,
      "orientation": "horizontal",
      "readout": true,
      "readout_format": ".2f",
      "step": 0.01,
      "style": "IPY_MODEL_54fe7ad7460c408fbfe4c9f9670ce675",
      "value": 0.4
     }
    },
    "28767e47e9c144e38fde692c9d8afda3": {
     "model_module": "@jupyter-widgets/controls",
     "model_module_version": "1.5.0",
     "model_name": "VBoxModel",
     "state": {
      "_dom_classes": [
       "widget-interact"
      ],
      "_model_module": "@jupyter-widgets/controls",
      "_model_module_version": "1.5.0",
      "_model_name": "VBoxModel",
      "_view_count": null,
      "_view_module": "@jupyter-widgets/controls",
      "_view_module_version": "1.5.0",
      "_view_name": "VBoxView",
      "box_style": "",
      "children": [
       "IPY_MODEL_dbc66a10616e4a4a9bbbdf13a046300e",
       "IPY_MODEL_32a08affb37446ca99dbb4b410318da5",
       "IPY_MODEL_bb0a454652c049b4a3feec9cfecac731"
      ],
      "layout": "IPY_MODEL_1b6977a787634751bca8ee491cb35b5b"
     }
    },
    "28f9d17b77774696ac65484052b33e0c": {
     "model_module": "@jupyter-widgets/base",
     "model_module_version": "1.2.0",
     "model_name": "LayoutModel",
     "state": {
      "_model_module": "@jupyter-widgets/base",
      "_model_module_version": "1.2.0",
      "_model_name": "LayoutModel",
      "_view_count": null,
      "_view_module": "@jupyter-widgets/base",
      "_view_module_version": "1.2.0",
      "_view_name": "LayoutView",
      "align_content": null,
      "align_items": null,
      "align_self": null,
      "border": null,
      "bottom": null,
      "display": null,
      "flex": null,
      "flex_flow": null,
      "grid_area": null,
      "grid_auto_columns": null,
      "grid_auto_flow": null,
      "grid_auto_rows": null,
      "grid_column": null,
      "grid_gap": null,
      "grid_row": null,
      "grid_template_areas": null,
      "grid_template_columns": null,
      "grid_template_rows": null,
      "height": null,
      "justify_content": null,
      "justify_items": null,
      "left": null,
      "margin": null,
      "max_height": null,
      "max_width": null,
      "min_height": null,
      "min_width": null,
      "object_fit": null,
      "object_position": null,
      "order": null,
      "overflow": null,
      "overflow_x": null,
      "overflow_y": null,
      "padding": null,
      "right": null,
      "top": null,
      "visibility": null,
      "width": null
     }
    },
    "2fb4da1dd8b943b2b690374295585920": {
     "model_module": "@jupyter-widgets/controls",
     "model_module_version": "1.5.0",
     "model_name": "FloatSliderModel",
     "state": {
      "_dom_classes": [],
      "_model_module": "@jupyter-widgets/controls",
      "_model_module_version": "1.5.0",
      "_model_name": "FloatSliderModel",
      "_view_count": null,
      "_view_module": "@jupyter-widgets/controls",
      "_view_module_version": "1.5.0",
      "_view_name": "FloatSliderView",
      "continuous_update": true,
      "description": "i_ext",
      "description_tooltip": null,
      "disabled": false,
      "layout": "IPY_MODEL_e559abcdf4a5444eb59a2059d8cc229f",
      "max": 0.3,
      "min": -0.2,
      "orientation": "horizontal",
      "readout": true,
      "readout_format": ".2f",
      "step": 0.1,
      "style": "IPY_MODEL_0ffc0f152ec14895900e7b0be7573d7e",
      "value": 0
     }
    },
    "3065fb99cc0f48d6bdc4ddcac528badd": {
     "model_module": "@jupyter-widgets/base",
     "model_module_version": "1.2.0",
     "model_name": "LayoutModel",
     "state": {
      "_model_module": "@jupyter-widgets/base",
      "_model_module_version": "1.2.0",
      "_model_name": "LayoutModel",
      "_view_count": null,
      "_view_module": "@jupyter-widgets/base",
      "_view_module_version": "1.2.0",
      "_view_name": "LayoutView",
      "align_content": null,
      "align_items": null,
      "align_self": null,
      "border": null,
      "bottom": null,
      "display": null,
      "flex": null,
      "flex_flow": null,
      "grid_area": null,
      "grid_auto_columns": null,
      "grid_auto_flow": null,
      "grid_auto_rows": null,
      "grid_column": null,
      "grid_gap": null,
      "grid_row": null,
      "grid_template_areas": null,
      "grid_template_columns": null,
      "grid_template_rows": null,
      "height": null,
      "justify_content": null,
      "justify_items": null,
      "left": null,
      "margin": null,
      "max_height": null,
      "max_width": null,
      "min_height": null,
      "min_width": null,
      "object_fit": null,
      "object_position": null,
      "order": null,
      "overflow": null,
      "overflow_x": null,
      "overflow_y": null,
      "padding": null,
      "right": null,
      "top": null,
      "visibility": null,
      "width": null
     }
    },
    "32a08affb37446ca99dbb4b410318da5": {
     "model_module": "@jupyter-widgets/controls",
     "model_module_version": "1.5.0",
     "model_name": "FloatSliderModel",
     "state": {
      "_dom_classes": [],
      "_model_module": "@jupyter-widgets/controls",
      "_model_module_version": "1.5.0",
      "_model_name": "FloatSliderModel",
      "_view_count": null,
      "_view_module": "@jupyter-widgets/controls",
      "_view_module_version": "1.5.0",
      "_view_name": "FloatSliderView",
      "continuous_update": true,
      "description": "omega0",
      "description_tooltip": null,
      "disabled": false,
      "layout": "IPY_MODEL_a5f7bee6e22e413598a9123293535925",
      "max": 1,
      "min": -1,
      "orientation": "horizontal",
      "readout": true,
      "readout_format": ".2f",
      "step": 0.1,
      "style": "IPY_MODEL_571d773ea86844ee9153369c459ca87d",
      "value": 0.2
     }
    },
    "3942d2572fdc4f7896290a11b827f38a": {
     "model_module": "@jupyter-widgets/controls",
     "model_module_version": "1.5.0",
     "model_name": "FloatSliderModel",
     "state": {
      "_dom_classes": [],
      "_model_module": "@jupyter-widgets/controls",
      "_model_module_version": "1.5.0",
      "_model_name": "FloatSliderModel",
      "_view_count": null,
      "_view_module": "@jupyter-widgets/controls",
      "_view_module_version": "1.5.0",
      "_view_name": "FloatSliderView",
      "continuous_update": true,
      "description": "i_ext",
      "description_tooltip": null,
      "disabled": false,
      "layout": "IPY_MODEL_96e7ba0d7f034757bde486b78c321380",
      "max": 0.3,
      "min": -0.2,
      "orientation": "horizontal",
      "readout": true,
      "readout_format": ".2f",
      "step": 0.01,
      "style": "IPY_MODEL_63854d54f22b438aa782f129a6da0e94",
      "value": 0
     }
    },
    "3bbfa1f4655e4402b15a2856dccd2b6d": {
     "model_module": "@jupyter-widgets/controls",
     "model_module_version": "1.5.0",
     "model_name": "FloatLogSliderModel",
     "state": {
      "_dom_classes": [],
      "_model_module": "@jupyter-widgets/controls",
      "_model_module_version": "1.5.0",
      "_model_name": "FloatLogSliderModel",
      "_view_count": null,
      "_view_module": "@jupyter-widgets/controls",
      "_view_module_version": "1.5.0",
      "_view_name": "FloatLogSliderView",
      "base": 10,
      "continuous_update": true,
      "description": "dt",
      "description_tooltip": null,
      "disabled": false,
      "layout": "IPY_MODEL_d233ff4e48114711903764b525e7bbbb",
      "max": -1,
      "min": -3,
      "orientation": "horizontal",
      "readout": true,
      "readout_format": ".3g",
      "step": 0.1,
      "style": "IPY_MODEL_dd9a2393b26a454896b42187bba6fc95",
      "value": 0.01
     }
    },
    "3f427f86bdf94e77a216553746d34a30": {
     "model_module": "@jupyter-widgets/output",
     "model_module_version": "1.0.0",
     "model_name": "OutputModel",
     "state": {
      "_dom_classes": [],
      "_model_module": "@jupyter-widgets/output",
      "_model_module_version": "1.0.0",
      "_model_name": "OutputModel",
      "_view_count": null,
      "_view_module": "@jupyter-widgets/output",
      "_view_module_version": "1.0.0",
      "_view_name": "OutputView",
      "layout": "IPY_MODEL_7328c5f6f4fc4b3e81516193c6cbfab8",
      "msg_id": "",
      "outputs": [
       {
        "data": {
         "image/png": "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\n",
         "text/plain": "<Figure size 360x360 with 1 Axes>"
        },
        "metadata": {
         "needs_background": "light"
        },
        "output_type": "display_data"
       }
      ]
     }
    },
    "3f746f4a0dd34463be3bd7e9c1203a15": {
     "model_module": "@jupyter-widgets/controls",
     "model_module_version": "1.5.0",
     "model_name": "FloatSliderModel",
     "state": {
      "_dom_classes": [],
      "_model_module": "@jupyter-widgets/controls",
      "_model_module_version": "1.5.0",
      "_model_name": "FloatSliderModel",
      "_view_count": null,
      "_view_module": "@jupyter-widgets/controls",
      "_view_module_version": "1.5.0",
      "_view_name": "FloatSliderView",
      "continuous_update": true,
      "description": "beta",
      "description_tooltip": null,
      "disabled": false,
      "layout": "IPY_MODEL_074ac37f7bbe41d0a334c8e29c8f8b95",
      "max": 0.5,
      "min": 0.05,
      "orientation": "horizontal",
      "readout": true,
      "readout_format": ".2f",
      "step": 0.1,
      "style": "IPY_MODEL_d91ff8de92184531bfa84e1f2ec7379f",
      "value": 0.4
     }
    },
    "465f52dfa753475488ded7f1c3ffb0b9": {
     "model_module": "@jupyter-widgets/controls",
     "model_module_version": "1.5.0",
     "model_name": "FloatSliderModel",
     "state": {
      "_dom_classes": [],
      "_model_module": "@jupyter-widgets/controls",
      "_model_module_version": "1.5.0",
      "_model_name": "FloatSliderModel",
      "_view_count": null,
      "_view_module": "@jupyter-widgets/controls",
      "_view_module_version": "1.5.0",
      "_view_name": "FloatSliderView",
      "continuous_update": true,
      "description": "λ2",
      "description_tooltip": null,
      "disabled": false,
      "layout": "IPY_MODEL_d8fbf868d4ef4f1aa3b416a9ff2f29d6",
      "max": 1,
      "min": -1,
      "orientation": "horizontal",
      "readout": true,
      "readout_format": ".2f",
      "step": 0.1,
      "style": "IPY_MODEL_bd83cf53ebb848dc8caa66e77c52be7c",
      "value": 0
     }
    },
    "515c4413dfa04ab980eca7d14234fb39": {
     "model_module": "@jupyter-widgets/controls",
     "model_module_version": "1.5.0",
     "model_name": "FloatSliderModel",
     "state": {
      "_dom_classes": [],
      "_model_module": "@jupyter-widgets/controls",
      "_model_module_version": "1.5.0",
      "_model_name": "FloatSliderModel",
      "_view_count": null,
      "_view_module": "@jupyter-widgets/controls",
      "_view_module_version": "1.5.0",
      "_view_name": "FloatSliderView",
      "continuous_update": true,
      "description": "a",
      "description_tooltip": null,
      "disabled": false,
      "layout": "IPY_MODEL_0fe0f5f85f624044b760515425eaa517",
      "max": 2,
      "min": -2,
      "orientation": "horizontal",
      "readout": true,
      "readout_format": ".2f",
      "step": 1,
      "style": "IPY_MODEL_a10689ceed5d46528b915335d82b4cd1",
      "value": 1
     }
    },
    "54fe7ad7460c408fbfe4c9f9670ce675": {
     "model_module": "@jupyter-widgets/controls",
     "model_module_version": "1.5.0",
     "model_name": "SliderStyleModel",
     "state": {
      "_model_module": "@jupyter-widgets/controls",
      "_model_module_version": "1.5.0",
      "_model_name": "SliderStyleModel",
      "_view_count": null,
      "_view_module": "@jupyter-widgets/base",
      "_view_module_version": "1.2.0",
      "_view_name": "StyleView",
      "description_width": "",
      "handle_color": null
     }
    },
    "5648a797aed342589f78a681cc5af1fe": {
     "model_module": "@jupyter-widgets/controls",
     "model_module_version": "1.5.0",
     "model_name": "VBoxModel",
     "state": {
      "_dom_classes": [
       "widget-interact"
      ],
      "_model_module": "@jupyter-widgets/controls",
      "_model_module_version": "1.5.0",
      "_model_name": "VBoxModel",
      "_view_count": null,
      "_view_module": "@jupyter-widgets/controls",
      "_view_module_version": "1.5.0",
      "_view_name": "VBoxView",
      "box_style": "",
      "children": [
       "IPY_MODEL_d85bdb8255814653ab5dc757e5f43c0d",
       "IPY_MODEL_c7c22d334abe427ebee910c70a4c123b",
       "IPY_MODEL_8a6fce326db949f88e7b55c3f3487f70"
      ],
      "layout": "IPY_MODEL_68b62ef50e60483289484e22efa4ce28"
     }
    },
    "56fafbbb9be54ce9b1b7f1d7515956e7": {
     "model_module": "@jupyter-widgets/base",
     "model_module_version": "1.2.0",
     "model_name": "LayoutModel",
     "state": {
      "_model_module": "@jupyter-widgets/base",
      "_model_module_version": "1.2.0",
      "_model_name": "LayoutModel",
      "_view_count": null,
      "_view_module": "@jupyter-widgets/base",
      "_view_module_version": "1.2.0",
      "_view_name": "LayoutView",
      "align_content": null,
      "align_items": null,
      "align_self": null,
      "border": null,
      "bottom": null,
      "display": null,
      "flex": null,
      "flex_flow": null,
      "grid_area": null,
      "grid_auto_columns": null,
      "grid_auto_flow": null,
      "grid_auto_rows": null,
      "grid_column": null,
      "grid_gap": null,
      "grid_row": null,
      "grid_template_areas": null,
      "grid_template_columns": null,
      "grid_template_rows": null,
      "height": null,
      "justify_content": null,
      "justify_items": null,
      "left": null,
      "margin": null,
      "max_height": null,
      "max_width": null,
      "min_height": null,
      "min_width": null,
      "object_fit": null,
      "object_position": null,
      "order": null,
      "overflow": null,
      "overflow_x": null,
      "overflow_y": null,
      "padding": null,
      "right": null,
      "top": null,
      "visibility": null,
      "width": null
     }
    },
    "571d773ea86844ee9153369c459ca87d": {
     "model_module": "@jupyter-widgets/controls",
     "model_module_version": "1.5.0",
     "model_name": "SliderStyleModel",
     "state": {
      "_model_module": "@jupyter-widgets/controls",
      "_model_module_version": "1.5.0",
      "_model_name": "SliderStyleModel",
      "_view_count": null,
      "_view_module": "@jupyter-widgets/base",
      "_view_module_version": "1.2.0",
      "_view_name": "StyleView",
      "description_width": "",
      "handle_color": null
     }
    },
    "58338cd1b1a64c4ca5a238264ac0c8ea": {
     "model_module": "@jupyter-widgets/output",
     "model_module_version": "1.0.0",
     "model_name": "OutputModel",
     "state": {
      "_dom_classes": [],
      "_model_module": "@jupyter-widgets/output",
      "_model_module_version": "1.0.0",
      "_model_name": "OutputModel",
      "_view_count": null,
      "_view_module": "@jupyter-widgets/output",
      "_view_module_version": "1.0.0",
      "_view_name": "OutputView",
      "layout": "IPY_MODEL_6dfd4b45622f4298a7998bc7e8c76130",
      "msg_id": "",
      "outputs": [
       {
        "data": {
         "image/png": "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\n",
         "text/plain": "<Figure size 432x288 with 1 Axes>"
        },
        "metadata": {
         "needs_background": "light"
        },
        "output_type": "display_data"
       }
      ]
     }
    },
    "59496c72aff54ca28922dd6f1d008ca5": {
     "model_module": "@jupyter-widgets/base",
     "model_module_version": "1.2.0",
     "model_name": "LayoutModel",
     "state": {
      "_model_module": "@jupyter-widgets/base",
      "_model_module_version": "1.2.0",
      "_model_name": "LayoutModel",
      "_view_count": null,
      "_view_module": "@jupyter-widgets/base",
      "_view_module_version": "1.2.0",
      "_view_name": "LayoutView",
      "align_content": null,
      "align_items": null,
      "align_self": null,
      "border": null,
      "bottom": null,
      "display": null,
      "flex": null,
      "flex_flow": null,
      "grid_area": null,
      "grid_auto_columns": null,
      "grid_auto_flow": null,
      "grid_auto_rows": null,
      "grid_column": null,
      "grid_gap": null,
      "grid_row": null,
      "grid_template_areas": null,
      "grid_template_columns": null,
      "grid_template_rows": null,
      "height": null,
      "justify_content": null,
      "justify_items": null,
      "left": null,
      "margin": null,
      "max_height": null,
      "max_width": null,
      "min_height": null,
      "min_width": null,
      "object_fit": null,
      "object_position": null,
      "order": null,
      "overflow": null,
      "overflow_x": null,
      "overflow_y": null,
      "padding": null,
      "right": null,
      "top": null,
      "visibility": null,
      "width": null
     }
    },
    "5c6b4bfefbed480b8dae6d61950aabff": {
     "model_module": "@jupyter-widgets/controls",
     "model_module_version": "1.5.0",
     "model_name": "VBoxModel",
     "state": {
      "_dom_classes": [
       "widget-interact"
      ],
      "_model_module": "@jupyter-widgets/controls",
      "_model_module_version": "1.5.0",
      "_model_name": "VBoxModel",
      "_view_count": null,
      "_view_module": "@jupyter-widgets/controls",
      "_view_module_version": "1.5.0",
      "_view_name": "VBoxView",
      "box_style": "",
      "children": [
       "IPY_MODEL_ec15bc0f68e142ceae681076225da518",
       "IPY_MODEL_0236826fb21b454981f2b4eb933c9bdb",
       "IPY_MODEL_171f8f82e0984263a96c9357f39d47bc",
       "IPY_MODEL_ecf7dd95cec14067b873106d4d825d00"
      ],
      "layout": "IPY_MODEL_6db1bbe858594c24a6ee50b4cc2632a2"
     }
    },
    "63854d54f22b438aa782f129a6da0e94": {
     "model_module": "@jupyter-widgets/controls",
     "model_module_version": "1.5.0",
     "model_name": "SliderStyleModel",
     "state": {
      "_model_module": "@jupyter-widgets/controls",
      "_model_module_version": "1.5.0",
      "_model_name": "SliderStyleModel",
      "_view_count": null,
      "_view_module": "@jupyter-widgets/base",
      "_view_module_version": "1.2.0",
      "_view_name": "StyleView",
      "description_width": "",
      "handle_color": null
     }
    },
    "63d6dc4da3184f9d9b1f875392456ab0": {
     "model_module": "@jupyter-widgets/controls",
     "model_module_version": "1.5.0",
     "model_name": "SliderStyleModel",
     "state": {
      "_model_module": "@jupyter-widgets/controls",
      "_model_module_version": "1.5.0",
      "_model_name": "SliderStyleModel",
      "_view_count": null,
      "_view_module": "@jupyter-widgets/base",
      "_view_module_version": "1.2.0",
      "_view_name": "StyleView",
      "description_width": "",
      "handle_color": null
     }
    },
    "6660cc73736e4729a8e112e781f04ed9": {
     "model_module": "@jupyter-widgets/controls",
     "model_module_version": "1.5.0",
     "model_name": "VBoxModel",
     "state": {
      "_dom_classes": [
       "widget-interact"
      ],
      "_model_module": "@jupyter-widgets/controls",
      "_model_module_version": "1.5.0",
      "_model_name": "VBoxModel",
      "_view_count": null,
      "_view_module": "@jupyter-widgets/controls",
      "_view_module_version": "1.5.0",
      "_view_name": "VBoxView",
      "box_style": "",
      "children": [
       "IPY_MODEL_cb5ef1821f47464fb19926f6ef19b1c5",
       "IPY_MODEL_465f52dfa753475488ded7f1c3ffb0b9",
       "IPY_MODEL_05bf6f397356466583a124970cf33f0a"
      ],
      "layout": "IPY_MODEL_bcaabba3a76143fea99a45be489862d0"
     }
    },
    "68b62ef50e60483289484e22efa4ce28": {
     "model_module": "@jupyter-widgets/base",
     "model_module_version": "1.2.0",
     "model_name": "LayoutModel",
     "state": {
      "_model_module": "@jupyter-widgets/base",
      "_model_module_version": "1.2.0",
      "_model_name": "LayoutModel",
      "_view_count": null,
      "_view_module": "@jupyter-widgets/base",
      "_view_module_version": "1.2.0",
      "_view_name": "LayoutView",
      "align_content": null,
      "align_items": null,
      "align_self": null,
      "border": null,
      "bottom": null,
      "display": null,
      "flex": null,
      "flex_flow": null,
      "grid_area": null,
      "grid_auto_columns": null,
      "grid_auto_flow": null,
      "grid_auto_rows": null,
      "grid_column": null,
      "grid_gap": null,
      "grid_row": null,
      "grid_template_areas": null,
      "grid_template_columns": null,
      "grid_template_rows": null,
      "height": null,
      "justify_content": null,
      "justify_items": null,
      "left": null,
      "margin": null,
      "max_height": null,
      "max_width": null,
      "min_height": null,
      "min_width": null,
      "object_fit": null,
      "object_position": null,
      "order": null,
      "overflow": null,
      "overflow_x": null,
      "overflow_y": null,
      "padding": null,
      "right": null,
      "top": null,
      "visibility": null,
      "width": null
     }
    },
    "6b1b3f91af0d4db783531865d34e22f4": {
     "model_module": "@jupyter-widgets/base",
     "model_module_version": "1.2.0",
     "model_name": "LayoutModel",
     "state": {
      "_model_module": "@jupyter-widgets/base",
      "_model_module_version": "1.2.0",
      "_model_name": "LayoutModel",
      "_view_count": null,
      "_view_module": "@jupyter-widgets/base",
      "_view_module_version": "1.2.0",
      "_view_name": "LayoutView",
      "align_content": null,
      "align_items": null,
      "align_self": null,
      "border": null,
      "bottom": null,
      "display": null,
      "flex": null,
      "flex_flow": null,
      "grid_area": null,
      "grid_auto_columns": null,
      "grid_auto_flow": null,
      "grid_auto_rows": null,
      "grid_column": null,
      "grid_gap": null,
      "grid_row": null,
      "grid_template_areas": null,
      "grid_template_columns": null,
      "grid_template_rows": null,
      "height": null,
      "justify_content": null,
      "justify_items": null,
      "left": null,
      "margin": null,
      "max_height": null,
      "max_width": null,
      "min_height": null,
      "min_width": null,
      "object_fit": null,
      "object_position": null,
      "order": null,
      "overflow": null,
      "overflow_x": null,
      "overflow_y": null,
      "padding": null,
      "right": null,
      "top": null,
      "visibility": null,
      "width": null
     }
    },
    "6b1e848cf5214f289ee017e0214e8dc9": {
     "model_module": "@jupyter-widgets/controls",
     "model_module_version": "1.5.0",
     "model_name": "SliderStyleModel",
     "state": {
      "_model_module": "@jupyter-widgets/controls",
      "_model_module_version": "1.5.0",
      "_model_name": "SliderStyleModel",
      "_view_count": null,
      "_view_module": "@jupyter-widgets/base",
      "_view_module_version": "1.2.0",
      "_view_name": "StyleView",
      "description_width": "",
      "handle_color": null
     }
    },
    "6db1bbe858594c24a6ee50b4cc2632a2": {
     "model_module": "@jupyter-widgets/base",
     "model_module_version": "1.2.0",
     "model_name": "LayoutModel",
     "state": {
      "_model_module": "@jupyter-widgets/base",
      "_model_module_version": "1.2.0",
      "_model_name": "LayoutModel",
      "_view_count": null,
      "_view_module": "@jupyter-widgets/base",
      "_view_module_version": "1.2.0",
      "_view_name": "LayoutView",
      "align_content": null,
      "align_items": null,
      "align_self": null,
      "border": null,
      "bottom": null,
      "display": null,
      "flex": null,
      "flex_flow": null,
      "grid_area": null,
      "grid_auto_columns": null,
      "grid_auto_flow": null,
      "grid_auto_rows": null,
      "grid_column": null,
      "grid_gap": null,
      "grid_row": null,
      "grid_template_areas": null,
      "grid_template_columns": null,
      "grid_template_rows": null,
      "height": null,
      "justify_content": null,
      "justify_items": null,
      "left": null,
      "margin": null,
      "max_height": null,
      "max_width": null,
      "min_height": null,
      "min_width": null,
      "object_fit": null,
      "object_position": null,
      "order": null,
      "overflow": null,
      "overflow_x": null,
      "overflow_y": null,
      "padding": null,
      "right": null,
      "top": null,
      "visibility": null,
      "width": null
     }
    },
    "6dfd4b45622f4298a7998bc7e8c76130": {
     "model_module": "@jupyter-widgets/base",
     "model_module_version": "1.2.0",
     "model_name": "LayoutModel",
     "state": {
      "_model_module": "@jupyter-widgets/base",
      "_model_module_version": "1.2.0",
      "_model_name": "LayoutModel",
      "_view_count": null,
      "_view_module": "@jupyter-widgets/base",
      "_view_module_version": "1.2.0",
      "_view_name": "LayoutView",
      "align_content": null,
      "align_items": null,
      "align_self": null,
      "border": null,
      "bottom": null,
      "display": null,
      "flex": null,
      "flex_flow": null,
      "grid_area": null,
      "grid_auto_columns": null,
      "grid_auto_flow": null,
      "grid_auto_rows": null,
      "grid_column": null,
      "grid_gap": null,
      "grid_row": null,
      "grid_template_areas": null,
      "grid_template_columns": null,
      "grid_template_rows": null,
      "height": null,
      "justify_content": null,
      "justify_items": null,
      "left": null,
      "margin": null,
      "max_height": null,
      "max_width": null,
      "min_height": null,
      "min_width": null,
      "object_fit": null,
      "object_position": null,
      "order": null,
      "overflow": null,
      "overflow_x": null,
      "overflow_y": null,
      "padding": null,
      "right": null,
      "top": null,
      "visibility": null,
      "width": null
     }
    },
    "715f2ecc64cf4239b794c4e3d108dba7": {
     "model_module": "@jupyter-widgets/controls",
     "model_module_version": "1.5.0",
     "model_name": "SliderStyleModel",
     "state": {
      "_model_module": "@jupyter-widgets/controls",
      "_model_module_version": "1.5.0",
      "_model_name": "SliderStyleModel",
      "_view_count": null,
      "_view_module": "@jupyter-widgets/base",
      "_view_module_version": "1.2.0",
      "_view_name": "StyleView",
      "description_width": "",
      "handle_color": null
     }
    },
    "7328c5f6f4fc4b3e81516193c6cbfab8": {
     "model_module": "@jupyter-widgets/base",
     "model_module_version": "1.2.0",
     "model_name": "LayoutModel",
     "state": {
      "_model_module": "@jupyter-widgets/base",
      "_model_module_version": "1.2.0",
      "_model_name": "LayoutModel",
      "_view_count": null,
      "_view_module": "@jupyter-widgets/base",
      "_view_module_version": "1.2.0",
      "_view_name": "LayoutView",
      "align_content": null,
      "align_items": null,
      "align_self": null,
      "border": null,
      "bottom": null,
      "display": null,
      "flex": null,
      "flex_flow": null,
      "grid_area": null,
      "grid_auto_columns": null,
      "grid_auto_flow": null,
      "grid_auto_rows": null,
      "grid_column": null,
      "grid_gap": null,
      "grid_row": null,
      "grid_template_areas": null,
      "grid_template_columns": null,
      "grid_template_rows": null,
      "height": null,
      "justify_content": null,
      "justify_items": null,
      "left": null,
      "margin": null,
      "max_height": null,
      "max_width": null,
      "min_height": null,
      "min_width": null,
      "object_fit": null,
      "object_position": null,
      "order": null,
      "overflow": null,
      "overflow_x": null,
      "overflow_y": null,
      "padding": null,
      "right": null,
      "top": null,
      "visibility": null,
      "width": null
     }
    },
    "7a8cdc67d07f4a2a9d8c845ab2a507a7": {
     "model_module": "@jupyter-widgets/controls",
     "model_module_version": "1.5.0",
     "model_name": "SliderStyleModel",
     "state": {
      "_model_module": "@jupyter-widgets/controls",
      "_model_module_version": "1.5.0",
      "_model_name": "SliderStyleModel",
      "_view_count": null,
      "_view_module": "@jupyter-widgets/base",
      "_view_module_version": "1.2.0",
      "_view_name": "StyleView",
      "description_width": "",
      "handle_color": null
     }
    },
    "7be52a01ccbe47bfae0276571e93bf1c": {
     "model_module": "@jupyter-widgets/base",
     "model_module_version": "1.2.0",
     "model_name": "LayoutModel",
     "state": {
      "_model_module": "@jupyter-widgets/base",
      "_model_module_version": "1.2.0",
      "_model_name": "LayoutModel",
      "_view_count": null,
      "_view_module": "@jupyter-widgets/base",
      "_view_module_version": "1.2.0",
      "_view_name": "LayoutView",
      "align_content": null,
      "align_items": null,
      "align_self": null,
      "border": null,
      "bottom": null,
      "display": null,
      "flex": null,
      "flex_flow": null,
      "grid_area": null,
      "grid_auto_columns": null,
      "grid_auto_flow": null,
      "grid_auto_rows": null,
      "grid_column": null,
      "grid_gap": null,
      "grid_row": null,
      "grid_template_areas": null,
      "grid_template_columns": null,
      "grid_template_rows": null,
      "height": null,
      "justify_content": null,
      "justify_items": null,
      "left": null,
      "margin": null,
      "max_height": null,
      "max_width": null,
      "min_height": null,
      "min_width": null,
      "object_fit": null,
      "object_position": null,
      "order": null,
      "overflow": null,
      "overflow_x": null,
      "overflow_y": null,
      "padding": null,
      "right": null,
      "top": null,
      "visibility": null,
      "width": null
     }
    },
    "8482dedc1c7f4f479f51aafd9f72ee64": {
     "model_module": "@jupyter-widgets/output",
     "model_module_version": "1.0.0",
     "model_name": "OutputModel",
     "state": {
      "_dom_classes": [],
      "_model_module": "@jupyter-widgets/output",
      "_model_module_version": "1.0.0",
      "_model_name": "OutputModel",
      "_view_count": null,
      "_view_module": "@jupyter-widgets/output",
      "_view_module_version": "1.0.0",
      "_view_name": "OutputView",
      "layout": "IPY_MODEL_f198c196ea2e4852be54f28c53bc1a0c",
      "msg_id": "",
      "outputs": [
       {
        "data": {
         "image/png": "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\n",
         "text/plain": "<Figure size 360x360 with 1 Axes>"
        },
        "metadata": {
         "needs_background": "light"
        },
        "output_type": "display_data"
       }
      ]
     }
    },
    "893d0008d0934cccb12945fdc8aab290": {
     "model_module": "@jupyter-widgets/controls",
     "model_module_version": "1.5.0",
     "model_name": "SliderStyleModel",
     "state": {
      "_model_module": "@jupyter-widgets/controls",
      "_model_module_version": "1.5.0",
      "_model_name": "SliderStyleModel",
      "_view_count": null,
      "_view_module": "@jupyter-widgets/base",
      "_view_module_version": "1.2.0",
      "_view_name": "StyleView",
      "description_width": "",
      "handle_color": null
     }
    },
    "8a5033be98b8490cb0da4ee2fe5fdb96": {
     "model_module": "@jupyter-widgets/output",
     "model_module_version": "1.0.0",
     "model_name": "OutputModel",
     "state": {
      "_dom_classes": [],
      "_model_module": "@jupyter-widgets/output",
      "_model_module_version": "1.0.0",
      "_model_name": "OutputModel",
      "_view_count": null,
      "_view_module": "@jupyter-widgets/output",
      "_view_module_version": "1.0.0",
      "_view_name": "OutputView",
      "layout": "IPY_MODEL_f9ab89ec710f4fad96eca86fc9a25354",
      "msg_id": "",
      "outputs": [
       {
        "data": {
         "image/png": "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\n",
         "text/plain": "<Figure size 216x216 with 1 Axes>"
        },
        "metadata": {
         "needs_background": "light"
        },
        "output_type": "display_data"
       }
      ]
     }
    },
    "8a6fce326db949f88e7b55c3f3487f70": {
     "model_module": "@jupyter-widgets/output",
     "model_module_version": "1.0.0",
     "model_name": "OutputModel",
     "state": {
      "_dom_classes": [],
      "_model_module": "@jupyter-widgets/output",
      "_model_module_version": "1.0.0",
      "_model_name": "OutputModel",
      "_view_count": null,
      "_view_module": "@jupyter-widgets/output",
      "_view_module_version": "1.0.0",
      "_view_name": "OutputView",
      "layout": "IPY_MODEL_0b41dd7e2b93493c929a680835a267c6",
      "msg_id": "",
      "outputs": [
       {
        "data": {
         "image/png": "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\n",
         "text/plain": "<Figure size 216x216 with 1 Axes>"
        },
        "metadata": {
         "needs_background": "light"
        },
        "output_type": "display_data"
       }
      ]
     }
    },
    "8b8a3542c3a7454c9259128aeb52e07c": {
     "model_module": "@jupyter-widgets/controls",
     "model_module_version": "1.5.0",
     "model_name": "SliderStyleModel",
     "state": {
      "_model_module": "@jupyter-widgets/controls",
      "_model_module_version": "1.5.0",
      "_model_name": "SliderStyleModel",
      "_view_count": null,
      "_view_module": "@jupyter-widgets/base",
      "_view_module_version": "1.2.0",
      "_view_name": "StyleView",
      "description_width": "",
      "handle_color": null
     }
    },
    "91753104456d4873ae89725ddbbef31b": {
     "model_module": "@jupyter-widgets/base",
     "model_module_version": "1.2.0",
     "model_name": "LayoutModel",
     "state": {
      "_model_module": "@jupyter-widgets/base",
      "_model_module_version": "1.2.0",
      "_model_name": "LayoutModel",
      "_view_count": null,
      "_view_module": "@jupyter-widgets/base",
      "_view_module_version": "1.2.0",
      "_view_name": "LayoutView",
      "align_content": null,
      "align_items": null,
      "align_self": null,
      "border": null,
      "bottom": null,
      "display": null,
      "flex": null,
      "flex_flow": null,
      "grid_area": null,
      "grid_auto_columns": null,
      "grid_auto_flow": null,
      "grid_auto_rows": null,
      "grid_column": null,
      "grid_gap": null,
      "grid_row": null,
      "grid_template_areas": null,
      "grid_template_columns": null,
      "grid_template_rows": null,
      "height": null,
      "justify_content": null,
      "justify_items": null,
      "left": null,
      "margin": null,
      "max_height": null,
      "max_width": null,
      "min_height": null,
      "min_width": null,
      "object_fit": null,
      "object_position": null,
      "order": null,
      "overflow": null,
      "overflow_x": null,
      "overflow_y": null,
      "padding": null,
      "right": null,
      "top": null,
      "visibility": null,
      "width": null
     }
    },
    "9207d4e810c945ad9572c25959ad156a": {
     "model_module": "@jupyter-widgets/controls",
     "model_module_version": "1.5.0",
     "model_name": "SliderStyleModel",
     "state": {
      "_model_module": "@jupyter-widgets/controls",
      "_model_module_version": "1.5.0",
      "_model_name": "SliderStyleModel",
      "_view_count": null,
      "_view_module": "@jupyter-widgets/base",
      "_view_module_version": "1.2.0",
      "_view_name": "StyleView",
      "description_width": "",
      "handle_color": null
     }
    },
    "931262ce33e0456aa76692529d783cdd": {
     "model_module": "@jupyter-widgets/base",
     "model_module_version": "1.2.0",
     "model_name": "LayoutModel",
     "state": {
      "_model_module": "@jupyter-widgets/base",
      "_model_module_version": "1.2.0",
      "_model_name": "LayoutModel",
      "_view_count": null,
      "_view_module": "@jupyter-widgets/base",
      "_view_module_version": "1.2.0",
      "_view_name": "LayoutView",
      "align_content": null,
      "align_items": null,
      "align_self": null,
      "border": null,
      "bottom": null,
      "display": null,
      "flex": null,
      "flex_flow": null,
      "grid_area": null,
      "grid_auto_columns": null,
      "grid_auto_flow": null,
      "grid_auto_rows": null,
      "grid_column": null,
      "grid_gap": null,
      "grid_row": null,
      "grid_template_areas": null,
      "grid_template_columns": null,
      "grid_template_rows": null,
      "height": null,
      "justify_content": null,
      "justify_items": null,
      "left": null,
      "margin": null,
      "max_height": null,
      "max_width": null,
      "min_height": null,
      "min_width": null,
      "object_fit": null,
      "object_position": null,
      "order": null,
      "overflow": null,
      "overflow_x": null,
      "overflow_y": null,
      "padding": null,
      "right": null,
      "top": null,
      "visibility": null,
      "width": null
     }
    },
    "95fa22b4bcc144a98b99f4e3276660f0": {
     "model_module": "@jupyter-widgets/output",
     "model_module_version": "1.0.0",
     "model_name": "OutputModel",
     "state": {
      "_dom_classes": [],
      "_model_module": "@jupyter-widgets/output",
      "_model_module_version": "1.0.0",
      "_model_name": "OutputModel",
      "_view_count": null,
      "_view_module": "@jupyter-widgets/output",
      "_view_module_version": "1.0.0",
      "_view_name": "OutputView",
      "layout": "IPY_MODEL_0c4808d53df7407188a7ebb897e8a036",
      "msg_id": "",
      "outputs": [
       {
        "data": {
         "image/png": "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\n",
         "text/plain": "<Figure size 432x288 with 1 Axes>"
        },
        "metadata": {
         "needs_background": "light"
        },
        "output_type": "display_data"
       }
      ]
     }
    },
    "96e7ba0d7f034757bde486b78c321380": {
     "model_module": "@jupyter-widgets/base",
     "model_module_version": "1.2.0",
     "model_name": "LayoutModel",
     "state": {
      "_model_module": "@jupyter-widgets/base",
      "_model_module_version": "1.2.0",
      "_model_name": "LayoutModel",
      "_view_count": null,
      "_view_module": "@jupyter-widgets/base",
      "_view_module_version": "1.2.0",
      "_view_name": "LayoutView",
      "align_content": null,
      "align_items": null,
      "align_self": null,
      "border": null,
      "bottom": null,
      "display": null,
      "flex": null,
      "flex_flow": null,
      "grid_area": null,
      "grid_auto_columns": null,
      "grid_auto_flow": null,
      "grid_auto_rows": null,
      "grid_column": null,
      "grid_gap": null,
      "grid_row": null,
      "grid_template_areas": null,
      "grid_template_columns": null,
      "grid_template_rows": null,
      "height": null,
      "justify_content": null,
      "justify_items": null,
      "left": null,
      "margin": null,
      "max_height": null,
      "max_width": null,
      "min_height": null,
      "min_width": null,
      "object_fit": null,
      "object_position": null,
      "order": null,
      "overflow": null,
      "overflow_x": null,
      "overflow_y": null,
      "padding": null,
      "right": null,
      "top": null,
      "visibility": null,
      "width": null
     }
    },
    "97c7ec92043f46f4b46d4c86587b8321": {
     "model_module": "@jupyter-widgets/controls",
     "model_module_version": "1.5.0",
     "model_name": "SliderStyleModel",
     "state": {
      "_model_module": "@jupyter-widgets/controls",
      "_model_module_version": "1.5.0",
      "_model_name": "SliderStyleModel",
      "_view_count": null,
      "_view_module": "@jupyter-widgets/base",
      "_view_module_version": "1.2.0",
      "_view_name": "StyleView",
      "description_width": "",
      "handle_color": null
     }
    },
    "97e717ca46254199a1760d6971aebebe": {
     "model_module": "@jupyter-widgets/base",
     "model_module_version": "1.2.0",
     "model_name": "LayoutModel",
     "state": {
      "_model_module": "@jupyter-widgets/base",
      "_model_module_version": "1.2.0",
      "_model_name": "LayoutModel",
      "_view_count": null,
      "_view_module": "@jupyter-widgets/base",
      "_view_module_version": "1.2.0",
      "_view_name": "LayoutView",
      "align_content": null,
      "align_items": null,
      "align_self": null,
      "border": null,
      "bottom": null,
      "display": null,
      "flex": null,
      "flex_flow": null,
      "grid_area": null,
      "grid_auto_columns": null,
      "grid_auto_flow": null,
      "grid_auto_rows": null,
      "grid_column": null,
      "grid_gap": null,
      "grid_row": null,
      "grid_template_areas": null,
      "grid_template_columns": null,
      "grid_template_rows": null,
      "height": null,
      "justify_content": null,
      "justify_items": null,
      "left": null,
      "margin": null,
      "max_height": null,
      "max_width": null,
      "min_height": null,
      "min_width": null,
      "object_fit": null,
      "object_position": null,
      "order": null,
      "overflow": null,
      "overflow_x": null,
      "overflow_y": null,
      "padding": null,
      "right": null,
      "top": null,
      "visibility": null,
      "width": null
     }
    },
    "a10689ceed5d46528b915335d82b4cd1": {
     "model_module": "@jupyter-widgets/controls",
     "model_module_version": "1.5.0",
     "model_name": "SliderStyleModel",
     "state": {
      "_model_module": "@jupyter-widgets/controls",
      "_model_module_version": "1.5.0",
      "_model_name": "SliderStyleModel",
      "_view_count": null,
      "_view_module": "@jupyter-widgets/base",
      "_view_module_version": "1.2.0",
      "_view_name": "StyleView",
      "description_width": "",
      "handle_color": null
     }
    },
    "a265a9ae79c34f25b033e8a23be0e5f0": {
     "model_module": "@jupyter-widgets/controls",
     "model_module_version": "1.5.0",
     "model_name": "SliderStyleModel",
     "state": {
      "_model_module": "@jupyter-widgets/controls",
      "_model_module_version": "1.5.0",
      "_model_name": "SliderStyleModel",
      "_view_count": null,
      "_view_module": "@jupyter-widgets/base",
      "_view_module_version": "1.2.0",
      "_view_name": "StyleView",
      "description_width": "",
      "handle_color": null
     }
    },
    "a4a3c0f2f6654ef7964a0f798a5347df": {
     "model_module": "@jupyter-widgets/controls",
     "model_module_version": "1.5.0",
     "model_name": "SliderStyleModel",
     "state": {
      "_model_module": "@jupyter-widgets/controls",
      "_model_module_version": "1.5.0",
      "_model_name": "SliderStyleModel",
      "_view_count": null,
      "_view_module": "@jupyter-widgets/base",
      "_view_module_version": "1.2.0",
      "_view_name": "StyleView",
      "description_width": "",
      "handle_color": null
     }
    },
    "a578f7e811e64d6fbf87b6241928f3cc": {
     "model_module": "@jupyter-widgets/base",
     "model_module_version": "1.2.0",
     "model_name": "LayoutModel",
     "state": {
      "_model_module": "@jupyter-widgets/base",
      "_model_module_version": "1.2.0",
      "_model_name": "LayoutModel",
      "_view_count": null,
      "_view_module": "@jupyter-widgets/base",
      "_view_module_version": "1.2.0",
      "_view_name": "LayoutView",
      "align_content": null,
      "align_items": null,
      "align_self": null,
      "border": null,
      "bottom": null,
      "display": null,
      "flex": null,
      "flex_flow": null,
      "grid_area": null,
      "grid_auto_columns": null,
      "grid_auto_flow": null,
      "grid_auto_rows": null,
      "grid_column": null,
      "grid_gap": null,
      "grid_row": null,
      "grid_template_areas": null,
      "grid_template_columns": null,
      "grid_template_rows": null,
      "height": null,
      "justify_content": null,
      "justify_items": null,
      "left": null,
      "margin": null,
      "max_height": null,
      "max_width": null,
      "min_height": null,
      "min_width": null,
      "object_fit": null,
      "object_position": null,
      "order": null,
      "overflow": null,
      "overflow_x": null,
      "overflow_y": null,
      "padding": null,
      "right": null,
      "top": null,
      "visibility": null,
      "width": null
     }
    },
    "a5b3311270ae4a848e70b24c6a23ca4f": {
     "model_module": "@jupyter-widgets/base",
     "model_module_version": "1.2.0",
     "model_name": "LayoutModel",
     "state": {
      "_model_module": "@jupyter-widgets/base",
      "_model_module_version": "1.2.0",
      "_model_name": "LayoutModel",
      "_view_count": null,
      "_view_module": "@jupyter-widgets/base",
      "_view_module_version": "1.2.0",
      "_view_name": "LayoutView",
      "align_content": null,
      "align_items": null,
      "align_self": null,
      "border": null,
      "bottom": null,
      "display": null,
      "flex": null,
      "flex_flow": null,
      "grid_area": null,
      "grid_auto_columns": null,
      "grid_auto_flow": null,
      "grid_auto_rows": null,
      "grid_column": null,
      "grid_gap": null,
      "grid_row": null,
      "grid_template_areas": null,
      "grid_template_columns": null,
      "grid_template_rows": null,
      "height": null,
      "justify_content": null,
      "justify_items": null,
      "left": null,
      "margin": null,
      "max_height": null,
      "max_width": null,
      "min_height": null,
      "min_width": null,
      "object_fit": null,
      "object_position": null,
      "order": null,
      "overflow": null,
      "overflow_x": null,
      "overflow_y": null,
      "padding": null,
      "right": null,
      "top": null,
      "visibility": null,
      "width": null
     }
    },
    "a5f7bee6e22e413598a9123293535925": {
     "model_module": "@jupyter-widgets/base",
     "model_module_version": "1.2.0",
     "model_name": "LayoutModel",
     "state": {
      "_model_module": "@jupyter-widgets/base",
      "_model_module_version": "1.2.0",
      "_model_name": "LayoutModel",
      "_view_count": null,
      "_view_module": "@jupyter-widgets/base",
      "_view_module_version": "1.2.0",
      "_view_name": "LayoutView",
      "align_content": null,
      "align_items": null,
      "align_self": null,
      "border": null,
      "bottom": null,
      "display": null,
      "flex": null,
      "flex_flow": null,
      "grid_area": null,
      "grid_auto_columns": null,
      "grid_auto_flow": null,
      "grid_auto_rows": null,
      "grid_column": null,
      "grid_gap": null,
      "grid_row": null,
      "grid_template_areas": null,
      "grid_template_columns": null,
      "grid_template_rows": null,
      "height": null,
      "justify_content": null,
      "justify_items": null,
      "left": null,
      "margin": null,
      "max_height": null,
      "max_width": null,
      "min_height": null,
      "min_width": null,
      "object_fit": null,
      "object_position": null,
      "order": null,
      "overflow": null,
      "overflow_x": null,
      "overflow_y": null,
      "padding": null,
      "right": null,
      "top": null,
      "visibility": null,
      "width": null
     }
    },
    "a6a8e616a76842e882ddf2add33a5a34": {
     "model_module": "@jupyter-widgets/controls",
     "model_module_version": "1.5.0",
     "model_name": "SliderStyleModel",
     "state": {
      "_model_module": "@jupyter-widgets/controls",
      "_model_module_version": "1.5.0",
      "_model_name": "SliderStyleModel",
      "_view_count": null,
      "_view_module": "@jupyter-widgets/base",
      "_view_module_version": "1.2.0",
      "_view_name": "StyleView",
      "description_width": "",
      "handle_color": null
     }
    },
    "a741fc2d34f9436db543f28534273635": {
     "model_module": "@jupyter-widgets/controls",
     "model_module_version": "1.5.0",
     "model_name": "SliderStyleModel",
     "state": {
      "_model_module": "@jupyter-widgets/controls",
      "_model_module_version": "1.5.0",
      "_model_name": "SliderStyleModel",
      "_view_count": null,
      "_view_module": "@jupyter-widgets/base",
      "_view_module_version": "1.2.0",
      "_view_name": "StyleView",
      "description_width": "",
      "handle_color": null
     }
    },
    "a8dcb0808fd34218ada9626368448399": {
     "model_module": "@jupyter-widgets/controls",
     "model_module_version": "1.5.0",
     "model_name": "VBoxModel",
     "state": {
      "_dom_classes": [
       "widget-interact"
      ],
      "_model_module": "@jupyter-widgets/controls",
      "_model_module_version": "1.5.0",
      "_model_name": "VBoxModel",
      "_view_count": null,
      "_view_module": "@jupyter-widgets/controls",
      "_view_module_version": "1.5.0",
      "_view_name": "VBoxView",
      "box_style": "",
      "children": [
       "IPY_MODEL_197fc4afe96b4012a14d79312fe3eec7",
       "IPY_MODEL_2210f34f6f7940d7b0dc90370bb0f04c",
       "IPY_MODEL_eca71e3132e543708d2500049571d066",
       "IPY_MODEL_58338cd1b1a64c4ca5a238264ac0c8ea"
      ],
      "layout": "IPY_MODEL_bffc059c9ad44b59a2fe4aed07b4a24f"
     }
    },
    "a9d84608039e47ee953546d5bf11d5b3": {
     "model_module": "@jupyter-widgets/base",
     "model_module_version": "1.2.0",
     "model_name": "LayoutModel",
     "state": {
      "_model_module": "@jupyter-widgets/base",
      "_model_module_version": "1.2.0",
      "_model_name": "LayoutModel",
      "_view_count": null,
      "_view_module": "@jupyter-widgets/base",
      "_view_module_version": "1.2.0",
      "_view_name": "LayoutView",
      "align_content": null,
      "align_items": null,
      "align_self": null,
      "border": null,
      "bottom": null,
      "display": null,
      "flex": null,
      "flex_flow": null,
      "grid_area": null,
      "grid_auto_columns": null,
      "grid_auto_flow": null,
      "grid_auto_rows": null,
      "grid_column": null,
      "grid_gap": null,
      "grid_row": null,
      "grid_template_areas": null,
      "grid_template_columns": null,
      "grid_template_rows": null,
      "height": null,
      "justify_content": null,
      "justify_items": null,
      "left": null,
      "margin": null,
      "max_height": null,
      "max_width": null,
      "min_height": null,
      "min_width": null,
      "object_fit": null,
      "object_position": null,
      "order": null,
      "overflow": null,
      "overflow_x": null,
      "overflow_y": null,
      "padding": null,
      "right": null,
      "top": null,
      "visibility": null,
      "width": null
     }
    },
    "af6939ad0d4c4e43b243b1b7f893bb91": {
     "model_module": "@jupyter-widgets/controls",
     "model_module_version": "1.5.0",
     "model_name": "FloatSliderModel",
     "state": {
      "_dom_classes": [],
      "_model_module": "@jupyter-widgets/controls",
      "_model_module_version": "1.5.0",
      "_model_name": "FloatSliderModel",
      "_view_count": null,
      "_view_module": "@jupyter-widgets/controls",
      "_view_module_version": "1.5.0",
      "_view_name": "FloatSliderView",
      "continuous_update": true,
      "description": "V_thr",
      "description_tooltip": null,
      "disabled": false,
      "layout": "IPY_MODEL_59496c72aff54ca28922dd6f1d008ca5",
      "max": 1,
      "min": 0,
      "orientation": "horizontal",
      "readout": true,
      "readout_format": ".2f",
      "step": 0.1,
      "style": "IPY_MODEL_f27ea70d68024be582afaee89f3ac415",
      "value": 0.2
     }
    },
    "b081d40545e4489d9934a7ec09780000": {
     "model_module": "@jupyter-widgets/base",
     "model_module_version": "1.2.0",
     "model_name": "LayoutModel",
     "state": {
      "_model_module": "@jupyter-widgets/base",
      "_model_module_version": "1.2.0",
      "_model_name": "LayoutModel",
      "_view_count": null,
      "_view_module": "@jupyter-widgets/base",
      "_view_module_version": "1.2.0",
      "_view_name": "LayoutView",
      "align_content": null,
      "align_items": null,
      "align_self": null,
      "border": null,
      "bottom": null,
      "display": null,
      "flex": null,
      "flex_flow": null,
      "grid_area": null,
      "grid_auto_columns": null,
      "grid_auto_flow": null,
      "grid_auto_rows": null,
      "grid_column": null,
      "grid_gap": null,
      "grid_row": null,
      "grid_template_areas": null,
      "grid_template_columns": null,
      "grid_template_rows": null,
      "height": null,
      "justify_content": null,
      "justify_items": null,
      "left": null,
      "margin": null,
      "max_height": null,
      "max_width": null,
      "min_height": null,
      "min_width": null,
      "object_fit": null,
      "object_position": null,
      "order": null,
      "overflow": null,
      "overflow_x": null,
      "overflow_y": null,
      "padding": null,
      "right": null,
      "top": null,
      "visibility": null,
      "width": null
     }
    },
    "b64c80e9d34f4602a99a125f98d5148e": {
     "model_module": "@jupyter-widgets/controls",
     "model_module_version": "1.5.0",
     "model_name": "FloatSliderModel",
     "state": {
      "_dom_classes": [],
      "_model_module": "@jupyter-widgets/controls",
      "_model_module_version": "1.5.0",
      "_model_name": "FloatSliderModel",
      "_view_count": null,
      "_view_module": "@jupyter-widgets/controls",
      "_view_module_version": "1.5.0",
      "_view_name": "FloatSliderView",
      "continuous_update": true,
      "description": "λ1",
      "description_tooltip": null,
      "disabled": false,
      "layout": "IPY_MODEL_13e2c86a8c614f8ea18d7fe5da443539",
      "max": 1,
      "min": -1,
      "orientation": "horizontal",
      "readout": true,
      "readout_format": ".2f",
      "step": 0.1,
      "style": "IPY_MODEL_a6a8e616a76842e882ddf2add33a5a34",
      "value": 0
     }
    },
    "bb0a454652c049b4a3feec9cfecac731": {
     "model_module": "@jupyter-widgets/output",
     "model_module_version": "1.0.0",
     "model_name": "OutputModel",
     "state": {
      "_dom_classes": [],
      "_model_module": "@jupyter-widgets/output",
      "_model_module_version": "1.0.0",
      "_model_name": "OutputModel",
      "_view_count": null,
      "_view_module": "@jupyter-widgets/output",
      "_view_module_version": "1.0.0",
      "_view_name": "OutputView",
      "layout": "IPY_MODEL_b081d40545e4489d9934a7ec09780000",
      "msg_id": "",
      "outputs": [
       {
        "data": {
         "image/png": "iVBORw0KGgoAAAANSUhEUgAAA/cAAACfCAYAAAC8ySllAAAABHNCSVQICAgIfAhkiAAAAAlwSFlzAAALEgAACxIB0t1+/AAAADh0RVh0U29mdHdhcmUAbWF0cGxvdGxpYiB2ZXJzaW9uMy4yLjIsIGh0dHA6Ly9tYXRwbG90bGliLm9yZy+WH4yJAAAgAElEQVR4nOzdeVxN+f8H8Nen276nIpUKqSjSSqEy9uxCNLJTjLEka5b4MsZW9mWMfc+uJutYs4eascYoJUr7vt/P74/kZylCdbv1fj4ePca995zzeZ/uZz6d9zmfhXHOQQghhBBCCCGEEPElIeoACCGEEEIIIYQQ8mMouSeEEEIIIYQQQsQcJfeEEEIIIYQQQoiYo+SeEEIIIYQQQggRc5TcE0IIIYQQQgghYo6Se0IIIYQQQgghRMxJijoAUdLQ0OAGBgaiDoMQsXf37t1EzrmmqOOojqidqf6o/paN6i8hFYPaGUJIVajVyb2BgQFCQ0NFHQYhYo8x9lLUMVRX1M5Uf1R/y0b1l5CKQe0MIaQqiG23fMbYLMbYIcbYC8YYZ4xFiTomQkjNQu0MEWdUfwkhhJDaRZyf3P8GIBnAPQCqIo6FEFIzUTtDxBnVX0IIIaQWEefkvjHn/AUAMMYeAFAUcTyEkJqH2hkizqj+EkIIIbWI2HbLL7lgIYSQykLtDBFnVH8JIYSQ2kVsk3tCCCGEEEIIIYQUo+SeEEIIIYQQQggRc7UuuWeMjWWMhTLGQhMSEkQdDiGkBqJ2hogzqr+EEEKIeKp1yT3n/A/OuTXn3FpTU1PU4RBCaiBqZ4g4o/pLCCGEiKdal9wTQgghhBBCCCE1DSX3hBBCCCGEEEKImKPknhBCCCGEEEIIEXOSog7gezHG3AHov3upCUCaMTbn3euXnPPdoomMEFJTUDtDxBnVX0IIIaR2EdvkHsAoAI6fvPe/d/+9DIAuWgghP4raGSLOqP4SQgghtYjYJveccydRx0AIqdmonSHijOovIYQQUrvQmHtCCCGEEEIIIUTMUXJPCCGEEEIIIYSIOUruCSGEEEIIIYQQMUfJPSGEEEIIIYQQIuYouSeEEEIIIYQQQsQcJfeEEEIIIYQQQoiYo+SeEEIIIYQQQggRc5TcE0IIIYQQQgghYo6Se0IIIYQQQgghRMxRck8IIYQQQgghhIg5SVEHQAip3RhjigDMAKgAyADwgnMeJ9qoCCkfqr+EEEIIqS4ouSeEiARjTAbAKgDDAUh/8lkcgL8BHAQQzDnnVR4gIV9A9ZcQQggh1Q0l94QQUVkBwAPAGQCXAOQD0AIwDYAsgCEAfgbwhDE2kXP+t4jiJKQ0VH8JIYQQUq1Qck8IqTSMMQkUJzngnO/65GNXANs456M/2F4dxcnRAAAv3v13HIAzjLFpnHP/KgmcEFD9JYQQQoh4oQn1CCGVSQrADgDbS/lMDsCNsnbknEdxzpcDMAbgD2AFY6xTZQRJSBmo/hJCCCFEbFByTwipTPkA2gP4qZTPQt999kWc8wLO+TQAJwD4VGx4hHwR1V9CCCGEiA3qlk9IOWRnZyM9PR25ubmQkpKCoqIilJWVwRgTdWjV2ruJxC6X8fHvAE4xxu6Ws7tyMIqfgBJSJaj+EkIIIUScUHL/HTjniImJwcO71yHz9DjuJcniUZIEBHlpGFQ3AqEFhshQNYVeA11YGqjCqHVXKKuoijpsUk5RUVE4f+4sou5dRPjDJ7j+MBo56clY2UUWgU8Lcep5ISQYMKWtEiK5LhQb2cDGxgYdOnSAiYkJJfzlxDk/wxibhuLuyoMBrAEQ8oVdHAFkV0lwBHl5ebh08SKunQ9CyL1HeP78OcY0SUR8RiE23RNCU1MTfS3roV7j5jB16I1OnTpBRUVF1GFXGaq/pDrIysrC1SuX8eTqSTx+HomQh6/wNj4Ov9nnIPhZAU5GCKGmpoZf7RSQJG8IhUa2aN26Ndq0aQMNDQ1Rh08IIaSCUXJfTmlpaTh9IgA6YX7YdycJG0MSoCwDpM1UxplbRTgXqQZdNWmYd0vCkdA3+ONGIAxVOZ5MUMSwGTl4KNkCfXt0Qb+uTjBp1ZESwGomIiICQfs24+KpEwi6/R/kpYD0mcrY01gbuqYD0ahBfQwr3IwWXXqgj4wVhKmv4Jm9GmteyGDJ2bM4GbALqt1kMS2qDkx+Ggw3NzdYWlqK+rSqPc75SsZYOIDVAHYBKATAAYxnjNmgeN1wZQBdADi8245UosjISPj7+2PXrl041LMAP0lK4HRmU7Rv3x4D9e4iW0IRyh1/wtu3bzFX/QRuxbxA3wF7ICsri9EDnTFy8hxYWFiI+jSqBNVfIgqpqak4vX8Trv0djD8Cb6GwIB+pM5RwUkoRCcat4ejoCBfNQDS0MINpkRUyUhIxX3M/Vj94Bu8VV8CEhfijpxyu5hrBpMPPcHNzg46OjqhPixBCSAVgtXn5XWtrax4aGlrm50VFRbh/aDkunv0LPntuoaCgAKGeKnjImiLTzB0tW7ZEUz1NqGo3ApMQfLRvYWEh4iIfI/n6LlyI4jh09gbqJd/BUVc5DDqvCaveHhgxYgTdORehoqIinDxxAmvXrcPFixcRM0UR/+WpI8xoCjp37gyToidg2i2BOg0/35lzICsBkJIDZJQQezsQaqc9Mf9RY6w+ehP15ArRt01T2LhOwyC3nyElJVX1J1iF3nVNtv6B/RmAriiegdwJgN4nm2QD+BPANM55wfeWIwpfa2eqi/T0dKyf/wuUIo7A+3wRXPr3x7TOemhmagpp6yGl7xT/CAUcuPksCUEHd2Ch6mFMP5+L1w16YdWqVWKTMFD9LZu41N/a4N7du1i1ejUOHTqEOyMEyBTK4JDCcHTp0gUOOgWQrWcMaBh+viPnQGY8ICGFHAl5PLwaiGbXf8XcO2rwC34KDQUJjO3RCg7D56Fzly708KGS/Gg7Qwgh5UHJ/RcuWhYuXAi7Z0uhriiF3bIjMHDgQLRq1QoSEt83D2Hii3A8P7oEM07E4ErIdXjayMG5XUuYjN2KJsZNv/c0yDcqKirC/v378ezAbLSrk4RRl9Uxbtx4jGnfCOqNLUu/OCoPoRBgDCmpqYjYMhJWmRdguCYDXKUBZsyYgdGjR0NaWrpiT6aaqOiLlndLijUCoAggHcAjznlORR2/KolDcnTz5k24urrCSe0NNvRSRtag46jbrO23HSQ3HTmXV2HzjRTMWroJynJS2PDHVrj0H1A5QVcgqr9lE4f6W9NdvnwZoZsnoL1SJDockMDgn4fg176tYWLZFky90fcdVFgEcI7nkVF4smsqekhcQvONmRDUb45ly5ahc+fOFXsShJJ7QkiVoOT+CxctkZGReHTzHDr1cYO0nGKFlv3gwQPE7xwBmeQncNyRDXd3dyzwnQ99g1KeEpMKcyH4GKbMnId//n2A+T0bYoyDLrR+CYJATrliCyrMB399D6ceJGPx4sVwlr2LNIE6rEf7Y8CAATXuyQhdtJStuidHR/btgL+PJ14zbezdswd2Fk0BObUfOuZ/z58jeoUT8jJTcNvQG3Pn+1brOk/1t2zVvf7WZA/uhGC6z3ycOncBP9tqYm7PRqg/ej+UtSr4OqEwDwVPz2NfaCJ8fX3RR+s1dA1N0WXGLpiZmVVsWbUYtTOEkKpAyb2IL1riYqOx3G81dm1Zj6tDpXBb2Rl9Z/0JJSUlkcZV0yQlJeH3aaMxQ+M8Ft9Tgd1YP/Tv3/+7e2F8C15UgJRVbRF8Pxbue2Ph5OSEdevWwdTUtNLLrip00VK26tDOlCUgIADCgOHo1EQObMoD1Klbv8KOXXBrK/bv2Ylh665i7ty5WLhwYYUdu6JR/S1bda6/NVVSUhKW+kzCTJWT8AsVQL3HPHh6ekJOTq7Sy87LzUXc8la4/TAKgw5lYty4cVi0aBFUVWlS4B8lbu3M3bt3u0lJSU3nnBsAqL53ZwmpRRhjKUKh8FRRUdEfVlZWUaVuQ8l99bhoef34NlJ2uGHo7ki8QT2s8vfHgIEDq/XTLnHAOcfRg3swfpI3UpKTEeJjB4tRqyDVoIonu+McRfk52LJ9F/b4zYa3VT4imnhgks9vkJGRqdpYKoG4XbRUperUznzozp07aNeuHbq3NcfeVXMha9ajwssQCoUYM2YMzh3eDt+VmzBy9NgKL6MiUP0tW3nq7/Pnz2Fo+J3Dmch7nHMc2LYBv86Yj7S0NPzlbY9WI3+HShO7qg4ESXEx8P1tOU7s3ogV3ZQh2+N39HQbQ9ckP0Cc2pm7d+82kZGR+cvAwKBQQUEhm753QkSPc478/Hyp1NRUpfj4+NSCgoJ+pSX4lf/YkpSLdlNbmC59jo3Hb0BbWxsRm4fh5PimiIl+KerQxNbbt2+x08MaFjfGw8hAB3dCQ2Hre6XqE3sAYAwCGXl4enrir53+aNtIEctW+MPKygr37t2r+nhIrZadnY0F4weiXr262Hzgr0pJ7AFAQkIC87w8ED1FCQ7/TMV///1XKeUQ0Tl+/Dj83Uxx0ccB2Znpog5HbEVHR2PjcHN0fjoTds0b4d69e+i85HLVJ/YAwBjU6+th7dq1uLh7OTo35Jg8wRMuLi6Ij4+v+nhIlZOUlJytpaXFFBUVKbEnpJpgjEFGRqagXr16yfXq1VMVCASlPjGh5L6asbW1xc2bN+HcyQkp8bEwa94C27ZtQ23uYfE9Tpw4ATMzM2w//wipmra4eOFvmJubizosAICK3TBoLIjGrsNBSE5OQvC0tvhj6Wz6jkmV2bJ0Fo51TcL5RS6VvmKHvqktAMCwjgR6dqNJumoaJycn9HVojuzIUJhbWOLatWuiDkmscM6xa+dONG/eHFsuvEC0ugNOnPobzZs3F3VoAIDGPadAcU4Uxs1eiuDgYPgNaoozAVtFHRapZIwxc2Vl5SxRx0EIKZ2qqmqGhIREt9I+o+S+GpKUlITlrNNot+w+LCwssNBrNA6NM0dCXKyoQ6v2srMyccrbDjeWD4Suri42BIbCcs7fkFT4sQnCKpykNJydnfHo2ilMsZfD4+Mr4erqiszMTFFHJlKsmB5jTPrda4kPX5Mfl5ycjPn+W7HjbTM06TurSspMHHUHqr+n4/GzFzU6+auN9VdVVRUdV4RCYdQJFBUJ0btzOwT7dEZeDuUFX5OSnIzgieZIO+gJc3NzHL3yLyxm/AUJ2eo1546kvAqmTZuGf6+fxfw2QtzZ9AvGjBmD7OxsUYdGKgnnXFVKSqpQ1HEQQkonLS1dwDkvNbkR6+T+3YXTFMbYE8ZYLmMshjG2kjGmIOrYKkJjQ0NcuHABO2b2RxfVKHRra4Fz586JOqxq6+HDh7CxtUVqZDh6OVri5o0b1X7SOtWGLSE/7V/U77MQR44cgVsHczy8e13UYYlSHQCRAErWYdP85HWVq2ntzM6dO5GWkQXb8ZsBxbpVUqZGAyNMGj8WKzvLYPmcyVVSpojU2vrr1KETwsPDsXqMEzpK3MSQrrZ48uRJRRZRo9y4cQMtLSwQ8ew57OzscfHCBTRsWL1Xy2li6QDJX28jr9Wv2Lp1K3o7WuDR/VuiDotUDgnqjk9I9fWl/z+/mtwzxhQZY60ZY10YY/aMMa0Kje7H+APwA/AIwK8ADgGYCCCQMSbWNy5KSEhIwGlmAGL7HkeOjCY6d+6MDbNHoKioSNShVSuX1k1ATycbJCYmQdPjKOwX34C0mExUx5S1MX3GDPx97gxW2ychfm0XbN++XdRhidKnLZaorzBqVDsTe+FPLOjTBOYtWlRpuR5DB8DLTgY+ho9r+hO/Wlt/lZSU8POqC7hitgwXH8bD0tIShzf/TkOOPsQ5QtaMhUc/J0hKSqLNgouwnvs3BJKSoo6sXKTrGeF/S5bjzOlTWGEbj/QNHbF92zZRh0UIIeSdMv+wM8ZkGGMbASQAuAYgGMBVALGMsVjG2C7GWHcmolt7jDFTFF+oHOWc9+Ocb+GcewHwAtAewCBRxFVZmrX6CXfu3IHfLz0xXvoolg1tjbS0NFGHJXI5OTmYOsYNtm924bdeuggLC0PHzl1FHdZ3cfqpI5RHBCAg2RQjR47E6FEjkZNNXVtFqaa1MykpKXBQjIKneSFQxU23dsuOOPigAP4383D16tUqLbu2ElX97ejqiX/++QfDOzVH39jfsHmcIzIyMiqjKLGSn5+PmZM9YRyzHwt76iE0NBS2rVqJOqzv0qlzF+iO3oMjScYYOWoURo4ciZyafdOOEELEwpfu2q8A4AHgEoDZALzfvccAyAIYAuAkgAeMsQ6VG2apBr+LZdUn728BkI3i+GoUeXl5TFlzDFeU+2Lh4TDY2triwb//ijoskXnx8C7s7Ozg9+d+7JQYjAGb/kX9+hW3TrcoqLfojPXHrsHHxwdaz/bitpchXj5/KuqwarMa1c48ePAAvQ9k4x/rFSIp/5TiQOx/UIi7d++KpPxaSGT1V1tbG2sPXcZlSQfM2HkN1tbWCA8Pr6ziqr3YR7fg4NAOS9f8gS18IHqsfwg1tWo2F8w3Urfogd8P3YKPjw/4/T24MtEQL54+EHVYhJAvCAoKUmKMWa1Zs0a9Mst5+vSpNGPMysvLS7syyymLjo5Oc1tbW+PKOPaaNWvUGWNWQUFB1WuClHe+lNy7AtjGOe/GOV/KOfcHsOzdZwMANAIwE4AcgDOMsSmVG+pnbAAIAdz+8E3OeS6AsHef1zwSAjh47cCZc3+jICsVWWvscWmDl6ijqnJX9vtBY89PMJZ4ieDgYIz732YIpMSjG/7XCAQCLFq0CK7DPBCdmA3LVnY4e/asqMOqrWpUOxMZGQkAMDCp2i75Jfq1rIN9/eRw/1aISMqvhURafwXSsvhpXhBOnr6A7Mx0RC9ti3PrptS6bvrXj26C2t7OaInHOHz4MGav2ApJqZoxx2LJ3yvvCWMhKMyCjV1b/PXXX6IOi5ByKUl0GWNWK1euLHXpGMaYVfv27Q2rOjYiWkFBQUpeXl7aiYmJAlHH8q2+lNzLAbhR1oec8yjO+XIAxige07eCMdapguP7Em0AiZzzvFI+iwWgUZNnKHZwcMDNK39DVkEZv61cg7FjxyI3N1fUYVW6oqIizJ49G53dp+J8nDJW7D6Nbt1KXQlC7DUftQZ2S0Khra2DkQOcEbxoELhQKOqwapsa085wzjFv2q9Y3kkGdfJfiSQGi8JQDG4uBUHyM5GUXwtVi/rr6OiIe9cvwKi+EnZvWY/hw4cjK6vmDzkSCoVYsGABHAaMx74Xypj+xxm4uLiIOqxKYTpqHRrNvQs9/YYY3K8HAuYPgrAW/L3KzcnBkkluePqUetiJu6VLl2pnZmaKeo6UStetW7eMrKyse+PHj08SdSzV2YULF5T8/f3rJyUlfZbcjx8/PikrK+tet27dquV4sy8l96EoHpP3RZzzAs75NAAnAPhUVGDlIA+gtAsWAMj9YJuPMMbGMsZCGWOhCQkJlRZcVajbyAymy6Ng7TodW7Zsway+LfAyvOaOZU387z5OjTfGymVLMHTkGDhvfIYGpuI5XrG8DJs0wc2bN7FuaAs4ZAdj7OAeSE9PF3VYtUmNaWcYY1BCJrztZSB/balIYnhYpxvW3c5HXJ6cSMqvhapN/dXUbwrD3yPRuJ8Pdu/eDU9nczy7e7lCjl0dJT8PxY3JjeG/xBduPw+B29anaNTCTtRhVapGjQ1x/fp1bPdshX48GB79OyA1NVXUYVWa6OhotHNwwIWgAFw8f0bU4ZAfYGpqmp2QkCC1ePHieqKOpbKkpKRIAMW9beTl5bmkmEziWR1JSkpCXl6eCwTV86H+l5L73wG4fUN3+2AAVj8eUrllAyirH7bsB9t8hHP+B+fcmnNurampWWnBVRVJKSn89ttv+Ov4Ycw0i8e9pT1w7NgxUYdV4a5fv47p7l3RVu0tAtb54o8//oCsrOzXd6wBFBQU0Hv1HRytMx7bj5yFra0tnt6jbs1VpEa1M8+ShDj1rBDRDfqKpPynGfL49VQuNPUrZRgc+Vy1qr8CKRnMnz8fZ08FYYl1Al6u6YHdu3dX2PGrixs3bmCka080lk7C9hU+2LlzJ+TlP7uHUiPJycmhn18IgtQ9sSMwBPb29oiKeCjqsCqWsAgvtnvCp78Fnj59il9WHobnLxNFHRX5AX379k02NTXNXrdunVZcXNxXMzbGmJWLi4vBp++XNhbby8tLmzFmdffuXdmRI0c20NTUbCEnJ2dhZ2dnFB4eLgMAO3fuVG3WrFlTWVlZSx0dneYrVqwodYjA8ePHldq0adNESUmppYyMjKWRkVGzZcuWfdZIl4w3v3btmlzbtm2bKCkptTQzMzMFyh5zLxQKsXLlSo0WLVqYyMvLW8jLy1sYGRk1mzx58vsx8ykpKRITJ07UbtGihYmampq5tLS0pZ6entn48eN1MjIyvnv1lezsbObl5aVtYGBgJicnZ6GkpNTSyMiomYeHh+6n2/r5+WmU/K6UlJRatmnTpsmZM2cUy1NOeb83FxcXA39///oAYGJi0rxk6EbJ/AFljbl/8+aNpLu7u56WllYLKSkpSy0trRbu7u56n9apkv1PnjypNG/evHoNGjQwk5aWtjQwMDBbu3btD8+FUOYXwTk/A2Aairvb32aMDQHwpYkDHFHKRUIleo3iLoWlXbjooLgrYn4VxiNSzr1dUOAehE3RjdGvXz/MmPwL8nMyRR3WD+OF+di7YhocHR1xOV4R0X0D0dtzvqjDqnJMQoCh3r/j/PnzsFZOhO4RZ5zf/puow6oNalQ707CJCZz3ZeNGvGjmp2gYsQW/d5SBnV3NfoJZjVTL+tuxizOkRgRia5wphg4dijEjhyMrQ/xXf+EFOTiyfAIcHBzwT4ocXg88jb4TFn1xPeKaiAkk0WfSMpw9exY6/DWUt9nj3tG1og6rQnDOsXL5UqTc3IOuTWRw+/Zt9OnTR9RhkR/EGMOiRYteZWZmCubMmVMpMzMPGzas4cOHD+UmT54c5+HhER8WFqbg7OxstH79+jre3t56zs7OqfPmzYtRVlYumjZtmv6nCeuKFSs0+vXrZ5SdnS2YPHnymwULFsTo6+vnzZgxQ6+0JPj169fS3bp1M27QoEH+/PnzX40ZM+btl+Lr27dvQ29vb33GGCZNmvRm/vz5r9q0aZMRGBj4fubPqKgo6X379mmam5tne3l5vVmwYEGMmZlZ9qZNm7S6devW+Ht/N8OHD9fz9/evb2lpmblw4cKY2bNnx7Zt2zYjJCTko7xz3LhxOlOnTtWXlJTks2bNeuXh4RH//Plzue7duxsdPHhQ5XvL/9S4ceMSOnXqlAoACxYsiFm/fn3k+vXrI11dXVPK2icpKUlgZ2dnsnfvXk1HR8e0//3vfzFOTk5pe/fu1bS3tzcp6Tnxoblz5+ocPHhQfdiwYQlz5859xRjjEydONDh79qzCj8T/xT4ZnPOVjLFwAKsB7AJQCIADGM8YswGQAUAZQBcADu+2qyp3AHQGYIviJfoAAIwxWQAtAVypwliqBd0W7RB44SamT58Gm9db8HDGEShNuAxDI/F8SpaVlYUrs+zQSyEKQ/p0gf+WPVBVVRV1WCLl5OQEk31/49SSvhiy1Adj7r3BihUrICNTMyYTrIZqVDszZMgQhOzwheHd+YD7EECiCruUCYXopRmDXpoyCLG1rbpya7dqW3/rmTlg918haOzri3p3V+LRjL8g53EGZuaWogrphyQlJeHSHEf01IjG8L4dsWzzPrGfDf9HtW/fHnp7T+L62oEYOmQyvGanYfbs2ZCQ+O4HfCKV8fAsRs5Zi8PHg+A+sA/Wb9kJJWVlUYdVpUaOHNngwYMH1aobipmZWfa2bdtifvQ4ffr0ybC3t0/fvXt33enTp781MjKq0BufdevWLTh//vzzkvqvoaFROHfu3AYzZszQDwsLe2BoaFgAAMOHD09p2LBhi3Xr1ml26dIlEwBevnwp5ePjo9e9e/fkwMDAyJJjzpw5M2HEiBEN/vzzz3qTJk1626xZs/cxx8bGSq9cufKll5dX4tdi+/PPP9VOnjxZp3fv3slHjhyJ/LC7eVFR0ft/N23aNC82NvYfGRmZ97Oizpo1K2HSpEnaa9asqX/x4kX59u3bf/OD3jNnzqg5ODikHT16NKqsbcLDw2U2b96sZWlpmXnt2rUIWVlZDgATJkxIbN68uamXl5eei4vLvxUx3KBjx45ZwcHBOefOnVN1dXVNNTY2/mpd8PX11Xr58qXMkiVLomfOnPl+PJu5uXn27Nmz9Xx9fbVWr179+sN98vPzJcLDwx+XnMuQIUNSjI2Nm69du7Zu586dIz8to7y+2sJyzs8DMAPQHcA+ADEA+gFYAmAdgN9QPOPuWgAzvjeQ73AQxTcaJn/y/hgUjyHcW4WxVBvS0tJYtWo19JynYN8/ubCwssbu3bvFbnbi/549Qdu2beGx6yH+VuqHbQGBtT6xL6FlaI7em57il0le+GPjOlyb1Aixt46LOqyaqka1M7169UJPI0m0qZOC/Hv7qrTsf8Pv4ddTOWi/MwutxHRtbzFUreuvpKQkFi1ahPZDpyEkRghbu7bYu1es/pcCOMfl86fRokULeO6JwCmVofjjYHCtT+xLNLZ0gNPa5+jWdxDmzZ2L4PFGSHxwQdRhfbN/Lh6DQsAANE05j1WrVmHngaO1LrGvDZYtW/aqoKCAzZgxo8KXb/v111/ffnhjq3379hkA0KFDh9SSxB4AtLW1Cw0MDHIjIyPfjz3ds2ePWn5+Phs9enTimzdvJD/86d27d6pQKERwcPBHFVJFRaVo4sSJX03sAWD//v11AGDt2rUxn44j//C1rKwsL0nsCwoKkJCQIHjz5o1k586d0wHg+vXr5eoe/ylFRcWiZ8+eyd25c6fM8baHDh1S5ZzDy8srriQZBgADA4OCgQMHJr1+/Vr6+vXrIrvxFBwcrKqmplY4derUjyaq8fb2TlBTUysMDg7+7I/C6NGj3354Lg0bNiz49Lv/HuW6vcGLM8NT737AGFNH8VJ4igDSATzinOf8SCDfinP+L2NsPYAJjLGjKB7z3xTARACXUXwjotayHb4YWj954NaQIdjkMwKN7i1GsxlnoKalL+rQvogLhfhvZanriN4AACAASURBVGfcvn0bUVEC7N0XCGdnZ1GHVe1ISUlh5cqV6GpjiMa3ZmKKxzD0m7kZgwYNEnVoPyoZQEMAce9eJ3zyukrVtHbGzMwMrc8Vz6OmXvclXK2rruxVS+Zj2+0CDBo0CFJSUlVXcNWi+vsdzAYvhEb78Tju6opFk4eiQdhKWM4MgqK6SJZHLre8vDw8+F8b5L18DGUlXewLCoKFhYWow6p2FBUVsWfPHvRsZw7LZ4uwZMIAdJyxRyxWuhHmpMJ/w1bMmjULo+zUMXzxcbRq+9W5pmusinhCXp21adMmp0ePHsknT55Uv3XrVnyrVq0qLLcxMjL6aHJTDQ2NIgAwMDD4bNJTFRWVotjY2PcrmTx+/FgWAPr06WNU1vHj4+M/+sPaoEGDvPI+xY6KipLV1NQsaNCgQeHXtv399981t23bpvnff//JfboiRkpKynd1B1y6dGmMp6dnQ1tbW1NdXd08e3v7jJ49e6YNHjw4teTmQmRkpAwAtGzZ8rOlwUxNTXMAICIiQsbBwaEqh4i/FxsbK2Nqapr16fWNlJQUGjZsmPvo0aPPbjwYGhp+9t2rqqp+9N1/j+/qu8A5TwJQHZZQmAwgCsBYFPcsSERxD4J5nPOavwbLV+jp6eHixYs4+9tgaLw9BdtWdli1YQu6d+8u6tBKFR8fDw8PD7RIuQp9g4YIDzsDPf3qfTNC1DoNGoeXth3x6tYwDB48GHGX/sSoaYuh1Fg8n4y+u5H48oPXwg9fi0iNaWcYY9i8bTfc3d0hfWYuevZ2gbxO00ov923g/7C1WQjeGkli/vyaO2cG1d/vp6WlhfPnz+Pk/H4wyr+EDg5tsGzDDjg6Ooo6tFLdu3cPw4cPh63kE3Rzao3Q0L+goPilaYlqN8YYBnlOx+MwR5w7Nxp+zs5YPbk/Rk/xgbxeS1GHV6rEkB2QOeWFzZvS0KNHb/y2dSv1yKgFli1bFnv69Gm1adOm6V65cuWb1m0tLCwsc4INSUnJUrvQlmfG9ZLet+vWrYvU0dEpKG2bT28eyMnJVXj77uvrW2/BggW6bdq0Sff09Hyro6NTICMjI4yJiZGeOHGigVAo/K4JRoYMGZLaqVOnf44cOaJy5coVpatXryoHBARorFq1KjMkJCTiw6fbleFL31tlqqzZ9sVz4NM7nPMizvlKzrkx51yGc67DOffinIv/THIVRCAQoNvcAGQPPQdZZXX06tkDJybZIDHqkahDe49nJSFyRQcMad8Up0+fhnLPxRi+7SEl9uWk36gJrly5ggXz56KH9C3c+c0Z169fF3VYNUZNa2fc3NwAANdGKkB+S2sgv3LXGy8qKsLdgBUAAGUTJ5iYmFRqeeRj4lR/paSk4PJbICJ7HEFirgScnJxwYEp7pL357qGHFS47+TUezLXA/MF2SExMRN//HYOL3xVK7MupactWuH37DiZPnoSf8k4hYlkHhFytXkv4cmERduzYgbauk3AyogDzl/jhyJEjlNjXEiYmJvlDhgxJuHr1qvKns6GXUFFRKUpJSfnsAemLFy8qZQKkJk2a5AGApqZmYZ8+fTJK+/lwvP23atiwYW5CQoJUTEzMFx/6Hjx4UF1bWzv/8uXLz7y8vBJdXV3T+vTpk1G/fv1Sbzh8i3r16hWNHz8++cCBAy9jYmL+9fT0jLt7967ivn37VAGgUaNGeQAQFhb2WZf1R48eyQKf3+D41Ld8b4yxb7qhoKurmxcZGSlbUPDxr6KgoACRkZGyurq6VTZ5rVgn96T8LGxaIzQ0FOvnjEFXpaeYPbgt/vzzz48myhCFJ0+eoI9Lf/CY22jfrC7u378Pb2/vSrubVVNJSkpinu9CpPY/jDm3FOHg4IBlvjNQ8OAkIGbzLZDKJSEhgdDQUJx7Udz77uzOZZVXmFCISb/+gp5702G4JgNrth2ovLJIjWHn1Bn//PMPlk8bARfFu1g6xBo7d+7Ep11Aq1pQUBBa2tgjL/4Z+nexx6NHj6ptT7jqTFZWFv7+q5DWZw+mXlVAOwcHTBw3Bpn//iXq0JAa8CuuTGqCESNGoG5jc7Rach8/j51U61Y8qO0WL178RlFRsWjWrFmfzUIPAAYGBrn3799X+HD5t4SEBMHBgwd/eBmz0ri7uydLS0vz//3vfzqZmZmfVcakpCRBTk7Od1dSNze3ZACYNGmS7qd5wYftrkAg4Iyxj+bxKigowLJly757hYHCwkIkJiZ+dNEvISEBCwuLbKD43ACgf//+qYwx+Pn5aeXl5b0/15cvX0oFBARoaGtr59vb23+xS/63fG+KiorCd5+Xq5d7t27dUlNSUiT9/f0/WprQz89PMyUlRdLZ2bnMmfYr2o9PKUjEhoyMDDwX/oGI2wPx+LIvtowZg8fHVmD0mLFo2nsKUIV/vNLDTuLJof+hzbIwKCgo4EyPRZjp/6vYzqJbXVg7dMGpa//gl19+Qc7l1WDCTbhitQ4Ovd1FHRqpRqysrHCx6yJoL5iON5kLcV5REx1cx1Xs7PnCImBhHQwvLMJ2SeDPoxegrl4p1z2kBlJQUID3sm14dLkHrvy9DEuGD8fN/csx3mM0mveZVKV/r+JvHkJMwAz0Wx2JJibNkOm2DcOcfqqy8muqNp374IR9R8ybNw+CWxugeCQAR0OmoY9HFc+oX1SI7Lx8rFixAgUXtkFHRYC1q1dh/AS6Jqmt6tevXzhu3Lj45cuXlzrxh4eHx9vx48c3bNu2rdGgQYOSUlNTBXv27NHU1tbOT0xMrPBJZRo3blywbNmyl15eXgbGxsZm/fv3T9LX189PSEiQfPDggdz58+dVw8LCHpZnVvfSjBw5MuXo0aMpx44dU7e2tpbt1q1bqpqaWmFERITspUuXVJ49e/YQAHr16pWyZMkSHUdHxya9e/dOTU9Plzh8+LB6WUMOyiM1NVWgq6tr3qFDh1Rzc/PsunXrFkRGRsrs2rVLU1lZuWjAgAFpAGBubp7n4eERt2nTJq1WrVoZ9+vXLzkjI0Owe/duzezsbIktW7ZEfm2OgW/53tq0aZMJANOnT9cZNGhQsqysrNDCwiLHxsbmszH/AODr6xsXGBioNmvWLL379+/Lt2zZMjssLEw+ICBAw8DAINfX17fK5t6hVqsWMrLtiCtXrmLvnj0YoBuPpJNzMcR9CP7777/KLZhzpKWmYPHixZg93h2q6U8weeQAREREYNyESfRHtIKoqKhgz549sJ9xFMP+VoVjn6Ho2rUrYo/5Aq/DRB0eqSa8vb3h7DoSjdUYOjz1ARbWAc+pmBvLBQUFmDOmNwCgngLD2o1/wsnJqUKOTWqXZo79cCXkOnbs2IEBOm8geX4OunbtgmvXrlVuwUIh3rx6iSlTpmDc6GGQz0/EmkUzcf/+fThSYl9hFBUV4efnB7dVlzArTA8u4+fCysoK93fPBY9/WOnlF8aGIeu3xnB3aIz58+fjad3u6LnhMSZMpGuS2m7u3LnxmpqapXY3HzduXPKcOXNeJSQkSM2fP7/BoUOH1KdNm/Z61KhRCaVtXxEmTZqUdOrUqSfNmjXL3r17t+aMGTP0tm7dWvft27dS06dPf92gQYMf6hp/4sSJF7/99lt0Xl4e8/f3r+/r69vg8uXLyr169Uou2WbhwoVxM2fOjI2JiZGZM2dOg23bttV1cnJK37Vr13ePnVJUVBSOGjUqPjo6WmbDhg1a06dP1z98+LB6x44d00JCQh4bGBi8P6+NGzfGrlix4mVeXp7E4sWLdTdu3KjVqFGjnKCgoAhXV9e0r5X1Ld9b586ds3x8fF5FR0fLenl56Xt4eDQqWVWgNOrq6kXXr19/Mnjw4IQLFy6o+Pj4NLhw4YKKm5tbwvXr15+qqalVWdczJm5LpFUka2trHhoaKuowRCozPRXrl/li/opNkGEFuPWrLgrbTodpz/EV2g0t+uFtSB8cCJ/TKdh2Jx19evXE//63EGYtqudEOjVFXl4e1q9fj5VLFiJseBFu5uhDZ+QuWFpaAkWFgKBiOu8wxu5yzn9o7vV3s3rbAWiM4mW6EgDcAxAIYD/nPP2HAxWB6tzOFC8rMwUD0rdAT0UCzsF1ERR4EnqGzb7vyahQiDcHJsNjwUYERhTCQksCU5btgLt79e45QvW3bNWp/uZkpGLvht8xe+U2pCQl4Oo4beRZjETrIXMgI1MxQ1055wi/eRlaQW5YcTkVq27mY+hQd8yfOwf6DRtXSBmkdJxzHDhwAAvm+eBirwSEpasi13kNevfuDQnwiutZlBKFgsxk7P37H6z8fRH+1/I1jic1wqh5G9GuXbuKKaMUFdHOVJXw8PAoc3Pzci2jRggRjfDwcA1zc3ODT9+n5L6aXLSI2ps3b7BvjS86pB6AZ2AWMlVNMG6wM1xsGkDLaSQgrfDNx8y4vRd3b9/EksAInDt3DgH95fBcyRZdJvjRckFVLDk5GRtXLcWWTZvwMiEdI7paYYPda8B1D2SNf/wpVAUlR0IA+QBev/uv+rsfAEgB8AvnXOwGbYtDO3PkyBG4DuiPIg4cc5VDHxMpRDmuhUH7oeXanxfm48btUISuGoKJzZIQnSaE/qpM3Lx5UyzWtKf6W7bqWH+zsrIQ8McKtIpcjemnM3AjSRljBveCm70eTHpOgrRSmQ9XSsU5x6uz6/DozlV4H3yMBw8eYFMvRRQ16oguE1agcWNK6qtSfn4+9m1dhz/Wr8aNh9FoY6aH0y4FyHVeDQ3bAd9+QM6BnBRAvg5evXoF2a2OiIpLgc2mFLRs2RILFixAz549K31cPSX3hJCKRMl9KarjRYuoZWVl4cD+/di2fTvaslAs7SgL20N1YG7fEb2bq6C5ehGk23ujnlZ9SKS/Kv6DWd8cWVlZSL2+AynPQ7E7qi4uXbqExcYPICsJDL1UD+7u7hgzZgx0dUudm4RUkbS0NGzbtg3n966Cm14CZl8VoPVPzvjFUQuthKGQHn4cTFETSIkCUqMBg3bleoJbQcmRGYBHHy7PxRhrBKAXgKkA6gPoxTkP/pFyqpq4tDNv376Fm5sbHIUhmOsgg94HsnHyaSEezTJGfWVJxP+0GnX0TSEXew0FOemIljXFfw/uoF/kbACA3OJ0qMkyDGsphazmw7FkuR8UFL79pqAoUP0tW3Wuv8KiIpw9exa7du+G6osT2NBVEtbbhVAzao0BrfXRun4RYDsWdbQaQImnQyLjDbLqmCIhIQF54UfAX96E/8M6CAkJwVKbRBhrSGB8uBmGDx+OQYMGQVVVVdSnWKsVFhbi6NGj+GvnKvRUCMPsC3nQbeGIX7s1Qyfpe5AZsg9S6gZAakzx36sGrYp7oyVEAPH/AmYuyMnJQeq+0VCMuYSu5/Rx48ZNtNaRgLaJNUZMngtnZ+cqmyyPkntCSEWi5L4U1fmipTqIfhmFa0f/wIFLD3HlyhX42ORgtKU01JZmgDGGjT0V4GIsAZ3VucjPz8fG7rJwMhCgxR/5sLGxQZ9ObeDk3A/WNq1optlqRigUIiQkBLt370ZQUBDa1UnEiJbSGH1RGU2bmWJqy0x0VngKP4VZ6Ofi8tUnV5V90cIYUwJwFUAe57z6Pwr+gLi1MxEREZgzxweHDx2GiiyQMkMZAGC6IRMxaUKkzyp+bbIuE68zil9HpghhsyULw8d7YerUqahf/7snzhUJqr9lE5f6m52ZgbtBW3Ew5BmuX7+BboqPsMBJGvKLM1AgBBY4yWCOgzQECzMAAAvby2BIcyk4HlWGnX1bdHFsjc49+0O3QQMRnwkpzbNnz7B3717s378fjYQv4NNOGr0CCqDT0BiTbSUwqkEUJr8dgHxIw0lwDwPVH8P8oAYePnsJJz3AWEMC99ACXbv3xM8//wxDQ8MqPwdK7gkhFYmS+1KIy0VLdcA5R1RUFJ78cxeRsW8RFxcHpZwYKAgzEC1lCFVVVejp6sDQyBjm5uYVNv6RVD6hUIiwsDBcv34dt2/fRkREBAoT/oOCMA1Xogpw+vRpdOnS5YvHqIqLFsbYBADLOOfylVlORRPXdiYvLw/Xr19HcHAwjh7Yg6jYOEgwYEgLKUgLgL3/FKBBYxP8/PPP6Ny5M6ytrcV2Aiqqv2UT1/qbm5uLZw/v49nLN0hKSoIgNQqqPBVxiqbQ1NSEjnZ9GJs0pRUcxNCrV69w9epVhIeH49GjRyhIjoZqQTwuvyxCQRGHgaYCdDWVIV3PGE2MjGFra4vWrVujbt26Io2bkntCSEWi5L4U4nrRQkhV4JwjKysL0tLSkJaW/uK2FX3RwhiTBDAIwFMASQDqAlgKQI9z3rCiyqkK1M5Uf1R/y0b1l5CKQck9IaQilZXc0zr3hJBSMcagqKgoquJlAOwCUHL3MRfAKwC/iiogQr4B1V9CCCGEVDnx7ENJCKnROOdZAIwBeAA4g+LkaCfnPEikgRFSDlR/CSGEECIK9OSeEFItMMaUP1wLnHP+DMAzAH8yxiwBnGCMSXLOF4osSELKQPWXEEIIIaJGT+4JIdXFU8bYcMbYZ+0S5/weiscsj636sAgpF6q/hBBCCBEpSu4JIdVFFIBtACIYY96MMeOSD95NUOYEQE00oRHyVVGg+ksIIYQQEaLknhBSXdgDGAdAHsAyAI8YY9mMsRcAUgD0RfFa4YRUR1R/CSGEECJSlNwTQqoFXmwzgIYARgAIBJAAQBfFs44HAhgluggJKRvVX0IIIYSIGiX3hJBqhXOexznfyTnvwznX55xLc86V372OFXV8hHwJ1V9CCCHfas2aNeqMMaugoCClij62i4uLAWPMqqKP+ykvLy9txpjV06dPpSu7rE8FBQUpMcas1qxZo14Zx7e1tTXW0dFpXhnHrmiU3BNCCCGEEEJqrYSEBIGsrKwlY8xq/fr1dUQdz7das2aN+sKFC+uKOg5xtnDhwrqVdXOgKlFyTwghhBBCCKm1tmzZUic/P5/p6Ojk79q1S0PU8XyrPXv2aGzevLleaZ/t27fvZVZW1r2qjkncbN68ud6ePXtK/e6vXLkS8fz58wdVHdP3oOSeEEIIIYQQUmvt3r1bs1WrVhmenp7xd+7cUXr06FGVdy2vLDIyMlxeXp6LOg5xJisry+Xk5MTid0jJPSGEEEIIIaRWCgkJkX/y5Inczz//nDRq1KhkgUDAN23aVOoTXMaYlYuLi8H58+cVbGxsjOXk5CxUVVVburq66qelpX2UV92/f192yJAheoaGhqYKCgoWcnJyFqampk39/Py+2jNg165dqowxq5UrV5a6raGhoamenp6ZUCiEjo5O8zt37ii+fv1amjFmVfJTMn6/rDH30dHRksOHD2+gq6vbXFpa2rJOnTrm9vb2TY4dO6Zcss3FixflXVxcDAwMDMzk5OQsFBQULCwtLU127dql+rVz+JLQ0FDZbt26Napbt24LaWlpSw0NDfNWrVoZHThwQOXD7d68eSPp7u6up6Wl1UJKSspSS0urhbu7u15cXJzga2V8aR6DT8fQM8asXr9+LX3nzh3FD3+HJfMHlDXm/tSpU4r29vZNlJSUWsrKylo2a9asqb+//2ffWcn+UVFRUj179myorKzcUk5OzqJt27ZN/vnnH5ny/t7KQ7IiD0YIIYQQQggh4mLz5s0a8vLywqFDh6YoKysL27dvnxYQEKDh7+//WiD4PId8+PChfP/+/ZsMHDgwceDAgUlXrlxRCggI0JCQkMD+/ftflmx37tw5pVu3bil16tQptWHDhvlZWVkSx48fV5s6dap+QkKC5JIlS+LKimnw4MGpU6dOLdi9e7fG1KlTEz/87O+//1b477//ZGfMmBErISGB33//PWb+/Pk6KSkpkosXL44p2c7c3DynrOM/ffpUul27dibJyclSffv2TbKyssrKysqSuH37tuLZs2eV+vbtmw4Ahw8fVnv+/Llsr169kvX19fOTkpIkDxw4oD5s2LDG2dnZkZ6ensnf+OtGXFycoEuXLsYAMHTo0AR9ff28xMREyXv37incvHlTYdCgQWkAkJSUJLCzszOJjo6WGTBgQKKFhUV2WFiY/N69ezWvXbumdPfu3cdqamrCby2/NOvXr4/08fFpoKamVujt7f2m5P369esXlrXPvn37VIYOHWqorq5e4OHhEa+kpFR05MiROl5eXvovXryQWbt27UeT6GZnZ0s4ODgYW1hYZPn4+MRGRkbKbNu2rW6fPn0MIyIiHkpKVkxaTsk9IYQQQggh5Ov+aG8Mc9dEtPJMQmE+w7YuRrD4OQE2o5ORlymBnT2bwGr4W1gNS0F2sgB7XAxhOyYeLd1SkREnif2DG8NufByaD0hD2itJHHRvjDaT3sC0TzqSX0jh8KhGcJj6GiY9MpDwVBrHPBvCaWYsjLpkIu5fGZycaIAO816hcfssxN6ThY5l7o+cTnZ2Njtx4kSdrl27pigrKwsBYOjQoUnu7u6qR44cUR44cGD6p/tERETInT9//slPP/2UBQDTpk1LdHJyEhw6dEh906ZNMSoqKkIA8PT0TJo+fXrCh/vOmzcv3s7OznjdunVavr6+8TIyMqV29ZaSkoKrq2vS+vXrte7evStrZWX1/jy3bNmiIRAI4OnpmQQA7u7uqWvXrq2Xl5cnMX78+HIl22PHjtVLSEiQOnz48DMXF5cPzzG+qKjo/YslS5a8UVZW/ihJnTVr1tvmzZs3W758ef3vSe7//vtvxeTkZMktW7a8GD16dEpZ2/n6+mq9fPlSZsmSJdEzZ858/3s0NzfPnj17tp6vr6/W6tWrX39r+aUZP3588uLFi3U0NDQKy/M7LCwshLe3t56cnFzRrVu3HhsYGBQAwIwZMxLs7e2NN2zYoDV27NjE5s2b55Xsk5qaKvnLL7/ELVq0KL7kPU1NzYJFixbpnjhxQvmT7+G7Ubd8QgghhBBCSK2za9cutYyMDMHw4cOTSt4bMGBAmpqaWuH27dtL7RLfsmXLrJLEvoSjo2NGUVERi4iIeD9Wv+RmAVB8EyEuLk7w9u1byZ9++iktMzNTEB4eLvul2CZMmJDAGMOHQwTS09MlgoKC6jg4OKSVJJTfKj4+XnD16lWVdu3apZeWUH7YW+HDc8jIyJCIi4sTZGZmSrRp0yb9xYsXssnJyd+cS6qqqhYBwOnTp1W+tH9wcLCqmppa4dSpUz+6QeLt7Z2gpqZWGBwcrPatZVeUq1evyr9580ba1dU18cPvQVZWlnt5ecUJhUIcOnToo6ELEhISmD179tsP3+vcuXMGADx9+rTCuubTk3tCCCGEEELI1429+PT9vyWl+UevZRSFH72Wr1P00WslrcKPXqvofvy6TqOCj15rGud/9Fqred5Hr3/wqT0A7Ny5U0NNTa3QwMAg/8GDB+8TrHbt2qWfOnVK7c2bN5Kfds3W09PL+/Q46urqhQDw9u3b97lVWlqaxLRp07QDAwPV4uLiPpugLykp6Yvjxk1MTPLt7OzSjxw5or5u3bpYGRkZvn37drWsrCyJkSNHJn5p3y959OiRDOccLVq0yP7atrGxsZLe3t46Z8+eVU1OTv4sb0xKSpKsU6dO/reU371798y+ffsmHTlyRP3EiRN1mjdvnu3o6Jg+ZMiQ5A97KMTGxsqYmppmSUlJfbS/lJQUGjZsmPvo0SP5bym3Ij1//lwGAExNTT+rgy1btswBgBcvXnyUsGtqahZ8OrFh3bp1C4Hi32NFxUbJPSGEEEIIIaRWefLkifStW7eU3iW6ZqVts2XLljrz5s376GmrQCAoc9Z0zjkr+Xffvn0bXbp0SWXQoEEJDg4OmZqamoUCgYAHBQWpbN26tV5RUREr6zglRo8enThy5MhG+/fvVxk+fHjqrl27NDQ0NApcXV1Tv+Vcv4dQKESHDh2MXrx4ITty5Mi31tbWWWpqakUCgYBv27ZNIzAwsI5Q+H1D3o8ePRp1586duJMnT6pcu3ZNafPmzfXWrl1bf+HChdGzZ89O+PoRvo6xsn+9Hw49qCrlrTc/ipJ7QgghhBBCSK2yadMmDc45Vq5c+VJNTe2zbG/hwoXae/bs0fg0uS+PxMREwaVLl1T69OmTtG/fvugPPzt79qxyWft9ys3NLdXb27tw+/btGhYWFjn37t1THDduXNynT7MZY+Vepq1Zs2Z5jDH8+++/cl/a7tatW3JPnz6Vmzx58ht/f/+Pxrb/+eefmuUtryw2Nja5NjY2uQDiExMTBdbW1k0XLVqkO3PmzAQJCQno6urmRUZGyhYUFODD8y0oKEBkZKSsrq7uF3sMlPSmKK2HRExMjIyUlNR3L21nZGSUBwAPHz78bGhFyXCLRo0afdbDoyqI7Zh7xpgHY2wvY+wJY6zoWyo1IYSUB7UzRJxR/SWEkNIVFRXh4MGD6k2aNMnx8vJKHDFiRMqnP/369Ut+9uyZ3OXLl7+5+3fJU1rOP252X758KbV///6vLoVXQkZGhg8cODAxJCREZc6cOdoAMG7cuM+65CsoKAjT09MF5XmSXq9evSIHB4e0K1euqBw/fvyzZeJKjiEpKVnqOdy5c0f27Nmz370UXnx8vODTJ+caGhpFDRo0yMvNzZXIzs5mANCtW7fUlJQUSX9//49uJPj5+WmmpKRIOjs7lzkZH/D/XebPnTv30c2UzZs310lISJD6dHsFBYWi1NTUry6xBwBt2rTJrl+/fn5AQIBGdHT0+4fleXl5zM/PT4sxhgEDBlR674rSiPOT+1kA1AHcB6AAQFe04RBCaiBqZ4g4o/pLCCGlOHbsmHJcXJy0m5tbmbOtDxo0KMXPz0978+bNGo6OjtFlbVcaNTU1YZs2bdJPnDih7ubmxq2trbNevnwpvXv3bk0dHZ381NTUcudgv/zyS+LmzZu1goKC6tjY2GR+OAN7CRsbm8yLFy+qDBs2TM/e3j5TIBDw7t27Z+jo6JS6lNumTZui27VrZ9K/f/8mLi4uSZaWltk5OTkSd+7cUdDT08vbuHFjUmS9cwAAD6dJREFUrIWFRa6hoWHuxo0btbKzsyWMjY1zIyIiZPfu3atpZGSU8/Dhw+8a875582b1TZs21evatWuqoaFhrpSUFL9y5YpSSEiIsrOzc4qioiIHAF9f37jAwEC1WbNm6d2/f1++ZcuW2WFhYfIBAQEaBgYGub6+vmUuJQgA5ubmeXZ2dun79+/X5JyjZP8zZ86o6enp5RUWFn7UFd7S0jIrICBAY9KkSdpNmzbNlZCQ4IMGDUr7cFLBEpKSklixYkX00KFDDW1tbZu5u7snKCkpFR09erROeHi4woQJE+JK+56qgjgn904AojnnQsZYEOiihRBS8ZxA7QwRX06g+ksIIZ/ZunWrBgB8aey6jY1Nrr6+fl5gYGCdzMzMmJKks7wCAgIiJ0+erHP+/HmVI0eOqOvr6+f6+PjESklJ8UmTJhmU9zhmZmZ5rVq1yrh586bSsGHDSh2PPmfOnLeRkZEywcHBavv27dMUCoUIDAyM0NHRyShtexMTk/zbt28/9vHxqX/x4kWVo0ePqisrKxeZmJhkjx07Nh0oTmD/+uuvZ5MmTdI9dOiQem5uroShoWHuhg0bIsPCwuS/N7nv2LFjRlhYmPz58+dV9u/fryEQCKCjo5M3b968VzNnznw/BEJdXb3o+vXrT6ZPn6597tw51UOHDqmrq6sXurm5JSxbtux1eda4P3DgQKSHh4feiRMn1I8dO6ZubW2defbs2aeenp76sbGxH01yuHLlytiUlBTJHTt21M3IyBBwzuHo6PivsrJyqd3/3dzc0lRUVJ4uXry4/saNG7UKCgpYo0aNcv38/F5OmTLluyc8/FHs064W4ujdRUv3b52MwNramoeGhlZSVITUHoyxu5xza1HHUZmonam5qP6WjeovIRVDnNqZ8PDwKHNzc5ElJ+Rzjo6Ohvfv31d8/fp1+LfeZCA1U3h4uIa5ubnBp++L7Zh7QgghhBBCCKnJHjx4IBMSEqLSt2/fJErsydeIc7d8QgghhBBCCKlxLly4oPDgwQPZTZs21ZWSkuKzZ8+OF3VMpPoTaXLPGFMFMPkbdlnDOU/+wTLHAhgLAHp6ej9yKPJ/7d17rGVlecfx70+ZgcBUkRmKMESGS4tYBJopBbEJYKiWUmkskMZbpEatVaGaBhvSizRe0taCcksD0oqKWCQ4JrSVGipj6MUCw9VLjUoHdIAR6gzDiMMMc57+sdahO+fsMzPncPZlnfl+kp119rvevfez1/ue97LXTeoA2xl1mfVXknZPV1555f6rVq1aevDBBz9z1VVXPXjkkUfu8NZvEox+z/2+wIdmkf864HkNWqrqauBqaM4lfD7vJakTbGfUZdZfSdoN3XTTTWuBtSMOQx0z0sl9Va0FZnVxH0maDdsZdZn1V5Ik7SovqCdJkiRJUsc5uZckSZI0aWIh3CpbWqh29P856nPu5yzJ64Fj26dHtGl/2j7fWFVXjCQwSQuG7Yy6zPoraS6SbNy2bdseixcvfnbUsUiabuvWrYuSbOi3rrOTe+As4G1T0j7cLh8CHLRIer5sZ9Rl1l9Js1ZV923atOnXli1b9uSoY5E03caNG39uYmLiH/qt6+xh+VV1blVlhseKUccnqftsZ9Rl1l9Jc/Hss89+7LHHHqvNmzfv7eH50nioKp555plF69ev32/9+vUbt2/ffnW/fNmd/2mTPE6z92JHlgFPDCEczcwyGL2dlcEhVbX/sILpkl1oZ7pYv7sWs/V3juwnO8VyGL0dlUGn2pk1a9b8xqJFiz5YVYfiHTuksZBkw8TExFe2b99+9cqVK9f2zbM7T+53RZK7qupXRh3H7swyGD3LYHC6uG27FnPX4u0at+94sBxGzzKQNGqdPSxfkiRJkiQ1nNxLkiRJktRxTu53ru/FCjRUlsHoWQaD08Vt27WYuxZv17h9x4PlMHqWgaSR8px7SZIkSZI6zj33kiRJkiR1nJN7SZIkSZI6zsl9H0lekOQDSf47yZYkP0xycZJ9Rh3bQpOkZnhs7pP3yCRfTrIhyU+T3J7kNaOIu6uSXJjkxiQPttt57U7yn5Dk1iRPJdmU5JYkx82Q96Akn03yeJKfJbkryTkD+SILWJLfT/L5tv3ZnmTk5051rU2cbT3X7HWtTnSdfeXw2E9K6jLPue8jyaXA+cAq4CvAUcB5wO3AaVU1McLwFpR24nI70y9Cs62qbujJdzhwB/As8EngSeCdwNHA6VV163Ai7rZ2e/8EuBtYCWyqqhUz5D0RWA2sA65ok98H/DxwUlU90JN3P+Cudt0lwI+ANwEnA2+vqk8P4OssSO1AcilwD3AocHBVZcQxdapNnE0919x0rU50nX3l8NhPSuoyJ/dTJPkl4AFgVVWd1ZN+HnAZ8Oaqun5U8S00bSf6mao6dyf5vgicBaysqnvbtCXAt4AtwMvLyrxTSQ6rqgfbv78JLNnBoOUO4OXAUVW1rk1bDnwH+EZVvbYn718DFwBnVtXNbdoLgf8EDgcOqappe5g0XZIVwMNVNZHkH4EzRjm572KbOJt6rtnrYp3oOvvK4bGflNRlHpY/3RuB0Pzi3etTwNPAW4Ye0W4gyeJ2ANJv3T7AmcDqycEKQNsJXgP8InD8UALtuMkBy84kOYJmm944OWBpX78OuBE4LclLe17yJuAHkwOWNu924HJgP+A35yH83UJVrR2zvZ6daxN3tZ5rzjpXJxYK+8rBs5+U1GVO7qc7HpigOaztOVW1BbgXO8ZBOJtmQPhUkh8nuTzJi3vWHwPsSfPr9lTfaJeWy/ya3J4zbfPQHK5IkgOB5fx/WUzN2/t+6h7bRE1lnRgN+8rxYj8paezsMeoAxtBBwBNV9UyfdeuAk5IsrqqtQ45robqD5hfu7wMvovnl+n3AyUlOavc4HNTmXdfn9ZNpywcd6G5mNtvc8lnYbBM1lXVi+Owrx4/9pKSx4+R+ur2BfgMWaM5Xm8zjoGUeVNUJU5I+m+R+4KPAH7bLvdt1/cqlt0w0f2azzS2fKZLsC7x/Fi+5rKp+Mqh4nifbRE1lnRgy+8qxZD8paew4uZ/uaZormfazV08eDc7HgQ8BZ9AMWCa395598lomgzGbbW75TLcvTR3eVdfRXJ15HNkmairrxHiwrxwt+0lJY8dz7qd7BFiWpF8DvJzmUET3RgxQVW2jLYc26ZF22e+Qtcm0foe6ae5ms80tnynai+JlFo/vjzrmHbBN1FTWiTFgXzly9pOSxo6T++nupNkuv9qbmGQv4Diae5RqgNptfTCwvk16gOZQtlf1yX5iu7Rc5ted7XKmbV7AGoCqepRmUHLiDHnB8uky20RNZZ0YA/aVI2c/KWnsOLmf7gaaBnnq+bLvpDkf6vNDj2iBSrJ0hlUfpjll5GZ47jY+NwOnJDm25/VLgHcA32PKVZv1/LR7ku8CzkkyeSEg2r/PAb5WVY/1vOQLwOFJXt+T94XAecBG4J+HErgGwTZRU1knhsi+cjzZT0oaR6mqUccwdpJcTnMV2lU0je1RwPnAvwOvGbN7UHdWkk/Q/GJ9G/AwsITmCsCnAv8FnFpVP2vzHkEzKNkGfALYRDOQfCVwRlX9y9C/QAcleStwSPv0PGAxcHH7/KGq+lxP3pNoyuZHNPfhnXzNAcCrq+q+nrxLafZQLAUuodlD8UbgFOAdVfV3A/pKC0478JscmL8FOBL4s/b5xqq6YgQxdapNnE0919x0rU50mX3lcNlPSuoyJ/d9tL+kvh94F7ACeIJmT8Wft7+Max4k+W3gPcDRNJ3ddpo9C18ELmnvmdyb/yjgL4GTaTrbu4GLqurWYcbdZUlW02y/fr5eVadMyf8q4CPACTR76v4DuLCq7u7z3stpyud0msHnt4G/qqob5iv+3UGSa4G3zbD6oapaMbxoGl1rE2dbzzV7XasTXWZfOVz2k5K6zMm9JEmSJEkd5zn3kiRJkiR1nJN7SZIkSZI6zsm9JEmSJEkd5+RekiRJkqSOc3IvSZIkSVLHObmXJEmSJKnjnNxLkiRJktRxTu41VElOSVJJzh11LJJmJ8nrkqxOsjnJ40muSLLXqOOSFhL7SUnSXDm510AkOS7JRUlWjDoWSc9fkj8CbgEeBT4A3Ay8F7h0lHFJXWU/KUmab6mqUcegBajd4/Bp4NSqWt2T/gJgMbCtqraPJjpJs5HkNOCrwAer6m960m8BTgX2r6pNo4pP6iL7SUnSfHPPvYaqqiaqaosDFqkb2onGpcA9wMVTVq+mmYQcPeSwpAXLflKSNFdO7jXvklxEszcC4Lb23MFKcm2/cwl705K8J8l3k2xJ8kCS32rzvDLJLUk2JfnfJJclWdTns38hyeeSPJpka5K1ST6eZJ9hfHdpAXod8Argspp+qNfWdvni4YYkdZv9pCRpEPYYdQBakL4EHAi8C/gY8J02/QfAnjt43XuBlwDXAFuA84FVSc4BPgV8Afgy8FrgPODHwEcmX5xkJfA1YCNwFbAOOLZ9n1cnObmqts3PV5R2G78LbAduT7JsyroD2uVTww1J6jz7SUnSvPOcew3EDs4lPAW4Dfi9qrp2StojwCuq6sk2/RjgPqCAs6vqSz3vswY4qKoO7Em7j2ZQdHxVPdWT/gaagdRznylp1yR5CHjZTrItr6pHhhGPtFDYT0qS5puH5WucXDs5YAGoqvuBTcAjvQOW1r8BL02yBJrDEYFjgOuBPZMsm3y0eX9KsydD0i5q/39eBqwCfr3PYwPwmBN7aWjsJyVJM/KwfI2TB/ukbQB+OEM6wFJgM3BU+/wv2kc/B8yQLqm/w9rlnVV1a++KJIfSHB58/dCjknZf9pOSpBk5udc4menKwDu6YnCmLC+muRd3PxtmSJfU35J22e+c+rPb5Q1DikWS/aQkaQec3GtQhn0xh++1y+1T9zBKmrPJe9e/qDcxyWLgD4DvAv807KCkBcJ+UpI0rzznXoOyuV3uN6TPuwf4JvDuJIdNXZlkjyTDikVaKL4NPE1zO7xeHwVWAOd7L25pzuwnJUnzyj33GpQ7gQngT5K8hOZCPf8zqA+rqkryVppb/Nyf5O+BbwF7A0cAvwNcCFw7qBikhaaqnk5yDXB+kuuArwOnA28ALqiqr440QKnb7CclSfPKyb0GoqoeTvJ24I+BvwUWAZ9hgIOGqro3yS/TDE7OBN5Nc67w2vZz/3VQny0tYBfQHD78ZppJ/Rrg9Kqa6ZxdSbvAflKSNN+8z70kSZIkSR3nOfeSJEmSJHWck3tJkiRJkjrOyb0kSZIkSR3n5F6SJEmSpI5zci9JkiRJUsc5uZckSZIkqeOc3EuSJEmS1HFO7iVJkiRJ6jgn95IkSZIkdZyTe0mSJEmSOu7/ADK07f4fDu69AAAAAElFTkSuQmCC\n",
         "text/plain": "<Figure size 864x144 with 3 Axes>"
        },
        "metadata": {
         "needs_background": "light"
        },
        "output_type": "display_data"
       }
      ]
     }
    },
    "bc89b6ff6fdb4b13aa51e27994973044": {
     "model_module": "@jupyter-widgets/base",
     "model_module_version": "1.2.0",
     "model_name": "LayoutModel",
     "state": {
      "_model_module": "@jupyter-widgets/base",
      "_model_module_version": "1.2.0",
      "_model_name": "LayoutModel",
      "_view_count": null,
      "_view_module": "@jupyter-widgets/base",
      "_view_module_version": "1.2.0",
      "_view_name": "LayoutView",
      "align_content": null,
      "align_items": null,
      "align_self": null,
      "border": null,
      "bottom": null,
      "display": null,
      "flex": null,
      "flex_flow": null,
      "grid_area": null,
      "grid_auto_columns": null,
      "grid_auto_flow": null,
      "grid_auto_rows": null,
      "grid_column": null,
      "grid_gap": null,
      "grid_row": null,
      "grid_template_areas": null,
      "grid_template_columns": null,
      "grid_template_rows": null,
      "height": null,
      "justify_content": null,
      "justify_items": null,
      "left": null,
      "margin": null,
      "max_height": null,
      "max_width": null,
      "min_height": null,
      "min_width": null,
      "object_fit": null,
      "object_position": null,
      "order": null,
      "overflow": null,
      "overflow_x": null,
      "overflow_y": null,
      "padding": null,
      "right": null,
      "top": null,
      "visibility": null,
      "width": null
     }
    },
    "bcaabba3a76143fea99a45be489862d0": {
     "model_module": "@jupyter-widgets/base",
     "model_module_version": "1.2.0",
     "model_name": "LayoutModel",
     "state": {
      "_model_module": "@jupyter-widgets/base",
      "_model_module_version": "1.2.0",
      "_model_name": "LayoutModel",
      "_view_count": null,
      "_view_module": "@jupyter-widgets/base",
      "_view_module_version": "1.2.0",
      "_view_name": "LayoutView",
      "align_content": null,
      "align_items": null,
      "align_self": null,
      "border": null,
      "bottom": null,
      "display": null,
      "flex": null,
      "flex_flow": null,
      "grid_area": null,
      "grid_auto_columns": null,
      "grid_auto_flow": null,
      "grid_auto_rows": null,
      "grid_column": null,
      "grid_gap": null,
      "grid_row": null,
      "grid_template_areas": null,
      "grid_template_columns": null,
      "grid_template_rows": null,
      "height": null,
      "justify_content": null,
      "justify_items": null,
      "left": null,
      "margin": null,
      "max_height": null,
      "max_width": null,
      "min_height": null,
      "min_width": null,
      "object_fit": null,
      "object_position": null,
      "order": null,
      "overflow": null,
      "overflow_x": null,
      "overflow_y": null,
      "padding": null,
      "right": null,
      "top": null,
      "visibility": null,
      "width": null
     }
    },
    "bd83cf53ebb848dc8caa66e77c52be7c": {
     "model_module": "@jupyter-widgets/controls",
     "model_module_version": "1.5.0",
     "model_name": "SliderStyleModel",
     "state": {
      "_model_module": "@jupyter-widgets/controls",
      "_model_module_version": "1.5.0",
      "_model_name": "SliderStyleModel",
      "_view_count": null,
      "_view_module": "@jupyter-widgets/base",
      "_view_module_version": "1.2.0",
      "_view_name": "StyleView",
      "description_width": "",
      "handle_color": null
     }
    },
    "bffc059c9ad44b59a2fe4aed07b4a24f": {
     "model_module": "@jupyter-widgets/base",
     "model_module_version": "1.2.0",
     "model_name": "LayoutModel",
     "state": {
      "_model_module": "@jupyter-widgets/base",
      "_model_module_version": "1.2.0",
      "_model_name": "LayoutModel",
      "_view_count": null,
      "_view_module": "@jupyter-widgets/base",
      "_view_module_version": "1.2.0",
      "_view_name": "LayoutView",
      "align_content": null,
      "align_items": null,
      "align_self": null,
      "border": null,
      "bottom": null,
      "display": null,
      "flex": null,
      "flex_flow": null,
      "grid_area": null,
      "grid_auto_columns": null,
      "grid_auto_flow": null,
      "grid_auto_rows": null,
      "grid_column": null,
      "grid_gap": null,
      "grid_row": null,
      "grid_template_areas": null,
      "grid_template_columns": null,
      "grid_template_rows": null,
      "height": null,
      "justify_content": null,
      "justify_items": null,
      "left": null,
      "margin": null,
      "max_height": null,
      "max_width": null,
      "min_height": null,
      "min_width": null,
      "object_fit": null,
      "object_position": null,
      "order": null,
      "overflow": null,
      "overflow_x": null,
      "overflow_y": null,
      "padding": null,
      "right": null,
      "top": null,
      "visibility": null,
      "width": null
     }
    },
    "c7c22d334abe427ebee910c70a4c123b": {
     "model_module": "@jupyter-widgets/controls",
     "model_module_version": "1.5.0",
     "model_name": "FloatSliderModel",
     "state": {
      "_dom_classes": [],
      "_model_module": "@jupyter-widgets/controls",
      "_model_module_version": "1.5.0",
      "_model_name": "FloatSliderModel",
      "_view_count": null,
      "_view_module": "@jupyter-widgets/controls",
      "_view_module_version": "1.5.0",
      "_view_name": "FloatSliderView",
      "continuous_update": true,
      "description": "rotate ⤾",
      "description_tooltip": null,
      "disabled": false,
      "layout": "IPY_MODEL_fedf1d603b544099b2b99251723e58f4",
      "max": 90,
      "min": -90,
      "orientation": "horizontal",
      "readout": true,
      "readout_format": ".2f",
      "step": 5,
      "style": "IPY_MODEL_a4a3c0f2f6654ef7964a0f798a5347df",
      "value": 30
     }
    },
    "c808df64e9bb4835b9a1bcb5d19cad16": {
     "model_module": "@jupyter-widgets/controls",
     "model_module_version": "1.5.0",
     "model_name": "VBoxModel",
     "state": {
      "_dom_classes": [
       "widget-interact"
      ],
      "_model_module": "@jupyter-widgets/controls",
      "_model_module_version": "1.5.0",
      "_model_name": "VBoxModel",
      "_view_count": null,
      "_view_module": "@jupyter-widgets/controls",
      "_view_module_version": "1.5.0",
      "_view_name": "VBoxView",
      "box_style": "",
      "children": [
       "IPY_MODEL_3942d2572fdc4f7896290a11b827f38a",
       "IPY_MODEL_af6939ad0d4c4e43b243b1b7f893bb91",
       "IPY_MODEL_25e5763b8e3f449abb6c676c720fcf89",
       "IPY_MODEL_8482dedc1c7f4f479f51aafd9f72ee64"
      ],
      "layout": "IPY_MODEL_6b1b3f91af0d4db783531865d34e22f4"
     }
    },
    "cb5ef1821f47464fb19926f6ef19b1c5": {
     "model_module": "@jupyter-widgets/controls",
     "model_module_version": "1.5.0",
     "model_name": "FloatSliderModel",
     "state": {
      "_dom_classes": [],
      "_model_module": "@jupyter-widgets/controls",
      "_model_module_version": "1.5.0",
      "_model_name": "FloatSliderModel",
      "_view_count": null,
      "_view_module": "@jupyter-widgets/controls",
      "_view_module_version": "1.5.0",
      "_view_name": "FloatSliderView",
      "continuous_update": true,
      "description": "λ1",
      "description_tooltip": null,
      "disabled": false,
      "layout": "IPY_MODEL_f6a29122d2dd48a4b42c353bf78b439d",
      "max": 1,
      "min": -1,
      "orientation": "horizontal",
      "readout": true,
      "readout_format": ".2f",
      "step": 0.1,
      "style": "IPY_MODEL_6b1e848cf5214f289ee017e0214e8dc9",
      "value": 0.4
     }
    },
    "cd8e8256f6274d04b401acdd7ad41f69": {
     "model_module": "@jupyter-widgets/controls",
     "model_module_version": "1.5.0",
     "model_name": "VBoxModel",
     "state": {
      "_dom_classes": [
       "widget-interact"
      ],
      "_model_module": "@jupyter-widgets/controls",
      "_model_module_version": "1.5.0",
      "_model_name": "VBoxModel",
      "_view_count": null,
      "_view_module": "@jupyter-widgets/controls",
      "_view_module_version": "1.5.0",
      "_view_name": "VBoxView",
      "box_style": "",
      "children": [
       "IPY_MODEL_2fb4da1dd8b943b2b690374295585920",
       "IPY_MODEL_f1a7387014174247a3b75be28ae943d1",
       "IPY_MODEL_3f746f4a0dd34463be3bd7e9c1203a15",
       "IPY_MODEL_3f427f86bdf94e77a216553746d34a30"
      ],
      "layout": "IPY_MODEL_3065fb99cc0f48d6bdc4ddcac528badd"
     }
    },
    "d233ff4e48114711903764b525e7bbbb": {
     "model_module": "@jupyter-widgets/base",
     "model_module_version": "1.2.0",
     "model_name": "LayoutModel",
     "state": {
      "_model_module": "@jupyter-widgets/base",
      "_model_module_version": "1.2.0",
      "_model_name": "LayoutModel",
      "_view_count": null,
      "_view_module": "@jupyter-widgets/base",
      "_view_module_version": "1.2.0",
      "_view_name": "LayoutView",
      "align_content": null,
      "align_items": null,
      "align_self": null,
      "border": null,
      "bottom": null,
      "display": null,
      "flex": null,
      "flex_flow": null,
      "grid_area": null,
      "grid_auto_columns": null,
      "grid_auto_flow": null,
      "grid_auto_rows": null,
      "grid_column": null,
      "grid_gap": null,
      "grid_row": null,
      "grid_template_areas": null,
      "grid_template_columns": null,
      "grid_template_rows": null,
      "height": null,
      "justify_content": null,
      "justify_items": null,
      "left": null,
      "margin": null,
      "max_height": null,
      "max_width": null,
      "min_height": null,
      "min_width": null,
      "object_fit": null,
      "object_position": null,
      "order": null,
      "overflow": null,
      "overflow_x": null,
      "overflow_y": null,
      "padding": null,
      "right": null,
      "top": null,
      "visibility": null,
      "width": null
     }
    },
    "d593cdb684a14459a87234dd302af4f5": {
     "model_module": "@jupyter-widgets/controls",
     "model_module_version": "1.5.0",
     "model_name": "FloatSliderModel",
     "state": {
      "_dom_classes": [],
      "_model_module": "@jupyter-widgets/controls",
      "_model_module_version": "1.5.0",
      "_model_name": "FloatSliderModel",
      "_view_count": null,
      "_view_module": "@jupyter-widgets/controls",
      "_view_module_version": "1.5.0",
      "_view_name": "FloatSliderView",
      "continuous_update": true,
      "description": "x0",
      "description_tooltip": null,
      "disabled": false,
      "layout": "IPY_MODEL_a578f7e811e64d6fbf87b6241928f3cc",
      "max": 3,
      "min": -1,
      "orientation": "horizontal",
      "readout": true,
      "readout_format": ".2f",
      "step": 0.1,
      "style": "IPY_MODEL_9207d4e810c945ad9572c25959ad156a",
      "value": 1
     }
    },
    "d85bdb8255814653ab5dc757e5f43c0d": {
     "model_module": "@jupyter-widgets/controls",
     "model_module_version": "1.5.0",
     "model_name": "FloatLogSliderModel",
     "state": {
      "_dom_classes": [],
      "_model_module": "@jupyter-widgets/controls",
      "_model_module_version": "1.5.0",
      "_model_name": "FloatLogSliderModel",
      "_view_count": null,
      "_view_module": "@jupyter-widgets/controls",
      "_view_module_version": "1.5.0",
      "_view_name": "FloatLogSliderView",
      "base": 10,
      "continuous_update": true,
      "description": "stretch ↕",
      "description_tooltip": null,
      "disabled": false,
      "layout": "IPY_MODEL_a9d84608039e47ee953546d5bf11d5b3",
      "max": 1,
      "min": -1,
      "orientation": "horizontal",
      "readout": true,
      "readout_format": ".3g",
      "step": 0.1,
      "style": "IPY_MODEL_7a8cdc67d07f4a2a9d8c845ab2a507a7",
      "value": 1.5848931924611136
     }
    },
    "d8fbf868d4ef4f1aa3b416a9ff2f29d6": {
     "model_module": "@jupyter-widgets/base",
     "model_module_version": "1.2.0",
     "model_name": "LayoutModel",
     "state": {
      "_model_module": "@jupyter-widgets/base",
      "_model_module_version": "1.2.0",
      "_model_name": "LayoutModel",
      "_view_count": null,
      "_view_module": "@jupyter-widgets/base",
      "_view_module_version": "1.2.0",
      "_view_name": "LayoutView",
      "align_content": null,
      "align_items": null,
      "align_self": null,
      "border": null,
      "bottom": null,
      "display": null,
      "flex": null,
      "flex_flow": null,
      "grid_area": null,
      "grid_auto_columns": null,
      "grid_auto_flow": null,
      "grid_auto_rows": null,
      "grid_column": null,
      "grid_gap": null,
      "grid_row": null,
      "grid_template_areas": null,
      "grid_template_columns": null,
      "grid_template_rows": null,
      "height": null,
      "justify_content": null,
      "justify_items": null,
      "left": null,
      "margin": null,
      "max_height": null,
      "max_width": null,
      "min_height": null,
      "min_width": null,
      "object_fit": null,
      "object_position": null,
      "order": null,
      "overflow": null,
      "overflow_x": null,
      "overflow_y": null,
      "padding": null,
      "right": null,
      "top": null,
      "visibility": null,
      "width": null
     }
    },
    "d91ff8de92184531bfa84e1f2ec7379f": {
     "model_module": "@jupyter-widgets/controls",
     "model_module_version": "1.5.0",
     "model_name": "SliderStyleModel",
     "state": {
      "_model_module": "@jupyter-widgets/controls",
      "_model_module_version": "1.5.0",
      "_model_name": "SliderStyleModel",
      "_view_count": null,
      "_view_module": "@jupyter-widgets/base",
      "_view_module_version": "1.2.0",
      "_view_name": "StyleView",
      "description_width": "",
      "handle_color": null
     }
    },
    "dbc66a10616e4a4a9bbbdf13a046300e": {
     "model_module": "@jupyter-widgets/controls",
     "model_module_version": "1.5.0",
     "model_name": "FloatSliderModel",
     "state": {
      "_dom_classes": [],
      "_model_module": "@jupyter-widgets/controls",
      "_model_module_version": "1.5.0",
      "_model_name": "FloatSliderModel",
      "_view_count": null,
      "_view_module": "@jupyter-widgets/controls",
      "_view_module_version": "1.5.0",
      "_view_name": "FloatSliderView",
      "continuous_update": true,
      "description": "phi0",
      "description_tooltip": null,
      "disabled": false,
      "layout": "IPY_MODEL_a5b3311270ae4a848e70b24c6a23ca4f",
      "max": 1,
      "min": -1,
      "orientation": "horizontal",
      "readout": true,
      "readout_format": ".2f",
      "step": 0.1,
      "style": "IPY_MODEL_a741fc2d34f9436db543f28534273635",
      "value": 0.3
     }
    },
    "dd9a2393b26a454896b42187bba6fc95": {
     "model_module": "@jupyter-widgets/controls",
     "model_module_version": "1.5.0",
     "model_name": "SliderStyleModel",
     "state": {
      "_model_module": "@jupyter-widgets/controls",
      "_model_module_version": "1.5.0",
      "_model_name": "SliderStyleModel",
      "_view_count": null,
      "_view_module": "@jupyter-widgets/base",
      "_view_module_version": "1.2.0",
      "_view_name": "StyleView",
      "description_width": "",
      "handle_color": null
     }
    },
    "e3958701a2ce40f7adcec19ba7f1196b": {
     "model_module": "@jupyter-widgets/base",
     "model_module_version": "1.2.0",
     "model_name": "LayoutModel",
     "state": {
      "_model_module": "@jupyter-widgets/base",
      "_model_module_version": "1.2.0",
      "_model_name": "LayoutModel",
      "_view_count": null,
      "_view_module": "@jupyter-widgets/base",
      "_view_module_version": "1.2.0",
      "_view_name": "LayoutView",
      "align_content": null,
      "align_items": null,
      "align_self": null,
      "border": null,
      "bottom": null,
      "display": null,
      "flex": null,
      "flex_flow": null,
      "grid_area": null,
      "grid_auto_columns": null,
      "grid_auto_flow": null,
      "grid_auto_rows": null,
      "grid_column": null,
      "grid_gap": null,
      "grid_row": null,
      "grid_template_areas": null,
      "grid_template_columns": null,
      "grid_template_rows": null,
      "height": null,
      "justify_content": null,
      "justify_items": null,
      "left": null,
      "margin": null,
      "max_height": null,
      "max_width": null,
      "min_height": null,
      "min_width": null,
      "object_fit": null,
      "object_position": null,
      "order": null,
      "overflow": null,
      "overflow_x": null,
      "overflow_y": null,
      "padding": null,
      "right": null,
      "top": null,
      "visibility": null,
      "width": null
     }
    },
    "e559abcdf4a5444eb59a2059d8cc229f": {
     "model_module": "@jupyter-widgets/base",
     "model_module_version": "1.2.0",
     "model_name": "LayoutModel",
     "state": {
      "_model_module": "@jupyter-widgets/base",
      "_model_module_version": "1.2.0",
      "_model_name": "LayoutModel",
      "_view_count": null,
      "_view_module": "@jupyter-widgets/base",
      "_view_module_version": "1.2.0",
      "_view_name": "LayoutView",
      "align_content": null,
      "align_items": null,
      "align_self": null,
      "border": null,
      "bottom": null,
      "display": null,
      "flex": null,
      "flex_flow": null,
      "grid_area": null,
      "grid_auto_columns": null,
      "grid_auto_flow": null,
      "grid_auto_rows": null,
      "grid_column": null,
      "grid_gap": null,
      "grid_row": null,
      "grid_template_areas": null,
      "grid_template_columns": null,
      "grid_template_rows": null,
      "height": null,
      "justify_content": null,
      "justify_items": null,
      "left": null,
      "margin": null,
      "max_height": null,
      "max_width": null,
      "min_height": null,
      "min_width": null,
      "object_fit": null,
      "object_position": null,
      "order": null,
      "overflow": null,
      "overflow_x": null,
      "overflow_y": null,
      "padding": null,
      "right": null,
      "top": null,
      "visibility": null,
      "width": null
     }
    },
    "ec15bc0f68e142ceae681076225da518": {
     "model_module": "@jupyter-widgets/controls",
     "model_module_version": "1.5.0",
     "model_name": "FloatSliderModel",
     "state": {
      "_dom_classes": [],
      "_model_module": "@jupyter-widgets/controls",
      "_model_module_version": "1.5.0",
      "_model_name": "FloatSliderModel",
      "_view_count": null,
      "_view_module": "@jupyter-widgets/controls",
      "_view_module_version": "1.5.0",
      "_view_name": "FloatSliderView",
      "continuous_update": true,
      "description": "i_ext",
      "description_tooltip": null,
      "disabled": false,
      "layout": "IPY_MODEL_91753104456d4873ae89725ddbbef31b",
      "max": 0.3,
      "min": -0.2,
      "orientation": "horizontal",
      "readout": true,
      "readout_format": ".2f",
      "step": 0.01,
      "style": "IPY_MODEL_893d0008d0934cccb12945fdc8aab290",
      "value": 0.04
     }
    },
    "eca71e3132e543708d2500049571d066": {
     "model_module": "@jupyter-widgets/controls",
     "model_module_version": "1.5.0",
     "model_name": "FloatSliderModel",
     "state": {
      "_dom_classes": [],
      "_model_module": "@jupyter-widgets/controls",
      "_model_module_version": "1.5.0",
      "_model_name": "FloatSliderModel",
      "_view_count": null,
      "_view_module": "@jupyter-widgets/controls",
      "_view_module_version": "1.5.0",
      "_view_name": "FloatSliderView",
      "continuous_update": true,
      "description": "a_imag",
      "description_tooltip": null,
      "disabled": false,
      "layout": "IPY_MODEL_1bbd364ad7d143e6b5938e65456ce8bf",
      "max": 5,
      "min": -1,
      "orientation": "horizontal",
      "readout": true,
      "readout_format": ".2f",
      "step": 0.1,
      "style": "IPY_MODEL_715f2ecc64cf4239b794c4e3d108dba7",
      "value": 1
     }
    },
    "ecf7dd95cec14067b873106d4d825d00": {
     "model_module": "@jupyter-widgets/output",
     "model_module_version": "1.0.0",
     "model_name": "OutputModel",
     "state": {
      "_dom_classes": [],
      "_model_module": "@jupyter-widgets/output",
      "_model_module_version": "1.0.0",
      "_model_name": "OutputModel",
      "_view_count": null,
      "_view_module": "@jupyter-widgets/output",
      "_view_module_version": "1.0.0",
      "_view_name": "OutputView",
      "layout": "IPY_MODEL_edd8826288e04c51a0b52b22717dddd9",
      "msg_id": "",
      "outputs": [
       {
        "data": {
         "image/png": "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\n",
         "text/plain": "<Figure size 1080x360 with 2 Axes>"
        },
        "metadata": {
         "needs_background": "light"
        },
        "output_type": "display_data"
       }
      ]
     }
    },
    "edd8826288e04c51a0b52b22717dddd9": {
     "model_module": "@jupyter-widgets/base",
     "model_module_version": "1.2.0",
     "model_name": "LayoutModel",
     "state": {
      "_model_module": "@jupyter-widgets/base",
      "_model_module_version": "1.2.0",
      "_model_name": "LayoutModel",
      "_view_count": null,
      "_view_module": "@jupyter-widgets/base",
      "_view_module_version": "1.2.0",
      "_view_name": "LayoutView",
      "align_content": null,
      "align_items": null,
      "align_self": null,
      "border": null,
      "bottom": null,
      "display": null,
      "flex": null,
      "flex_flow": null,
      "grid_area": null,
      "grid_auto_columns": null,
      "grid_auto_flow": null,
      "grid_auto_rows": null,
      "grid_column": null,
      "grid_gap": null,
      "grid_row": null,
      "grid_template_areas": null,
      "grid_template_columns": null,
      "grid_template_rows": null,
      "height": null,
      "justify_content": null,
      "justify_items": null,
      "left": null,
      "margin": null,
      "max_height": null,
      "max_width": null,
      "min_height": null,
      "min_width": null,
      "object_fit": null,
      "object_position": null,
      "order": null,
      "overflow": null,
      "overflow_x": null,
      "overflow_y": null,
      "padding": null,
      "right": null,
      "top": null,
      "visibility": null,
      "width": null
     }
    },
    "ee537d4f32f44b2fb8849f35c8492540": {
     "model_module": "@jupyter-widgets/base",
     "model_module_version": "1.2.0",
     "model_name": "LayoutModel",
     "state": {
      "_model_module": "@jupyter-widgets/base",
      "_model_module_version": "1.2.0",
      "_model_name": "LayoutModel",
      "_view_count": null,
      "_view_module": "@jupyter-widgets/base",
      "_view_module_version": "1.2.0",
      "_view_name": "LayoutView",
      "align_content": null,
      "align_items": null,
      "align_self": null,
      "border": null,
      "bottom": null,
      "display": null,
      "flex": null,
      "flex_flow": null,
      "grid_area": null,
      "grid_auto_columns": null,
      "grid_auto_flow": null,
      "grid_auto_rows": null,
      "grid_column": null,
      "grid_gap": null,
      "grid_row": null,
      "grid_template_areas": null,
      "grid_template_columns": null,
      "grid_template_rows": null,
      "height": null,
      "justify_content": null,
      "justify_items": null,
      "left": null,
      "margin": null,
      "max_height": null,
      "max_width": null,
      "min_height": null,
      "min_width": null,
      "object_fit": null,
      "object_position": null,
      "order": null,
      "overflow": null,
      "overflow_x": null,
      "overflow_y": null,
      "padding": null,
      "right": null,
      "top": null,
      "visibility": null,
      "width": null
     }
    },
    "f198c196ea2e4852be54f28c53bc1a0c": {
     "model_module": "@jupyter-widgets/base",
     "model_module_version": "1.2.0",
     "model_name": "LayoutModel",
     "state": {
      "_model_module": "@jupyter-widgets/base",
      "_model_module_version": "1.2.0",
      "_model_name": "LayoutModel",
      "_view_count": null,
      "_view_module": "@jupyter-widgets/base",
      "_view_module_version": "1.2.0",
      "_view_name": "LayoutView",
      "align_content": null,
      "align_items": null,
      "align_self": null,
      "border": null,
      "bottom": null,
      "display": null,
      "flex": null,
      "flex_flow": null,
      "grid_area": null,
      "grid_auto_columns": null,
      "grid_auto_flow": null,
      "grid_auto_rows": null,
      "grid_column": null,
      "grid_gap": null,
      "grid_row": null,
      "grid_template_areas": null,
      "grid_template_columns": null,
      "grid_template_rows": null,
      "height": null,
      "justify_content": null,
      "justify_items": null,
      "left": null,
      "margin": null,
      "max_height": null,
      "max_width": null,
      "min_height": null,
      "min_width": null,
      "object_fit": null,
      "object_position": null,
      "order": null,
      "overflow": null,
      "overflow_x": null,
      "overflow_y": null,
      "padding": null,
      "right": null,
      "top": null,
      "visibility": null,
      "width": null
     }
    },
    "f1a7387014174247a3b75be28ae943d1": {
     "model_module": "@jupyter-widgets/controls",
     "model_module_version": "1.5.0",
     "model_name": "FloatSliderModel",
     "state": {
      "_dom_classes": [],
      "_model_module": "@jupyter-widgets/controls",
      "_model_module_version": "1.5.0",
      "_model_name": "FloatSliderModel",
      "_view_count": null,
      "_view_module": "@jupyter-widgets/controls",
      "_view_module_version": "1.5.0",
      "_view_name": "FloatSliderView",
      "continuous_update": true,
      "description": "V_thr",
      "description_tooltip": null,
      "disabled": false,
      "layout": "IPY_MODEL_bc89b6ff6fdb4b13aa51e27994973044",
      "max": 1,
      "min": 0,
      "orientation": "horizontal",
      "readout": true,
      "readout_format": ".2f",
      "step": 0.1,
      "style": "IPY_MODEL_63d6dc4da3184f9d9b1f875392456ab0",
      "value": 0.2
     }
    },
    "f27ea70d68024be582afaee89f3ac415": {
     "model_module": "@jupyter-widgets/controls",
     "model_module_version": "1.5.0",
     "model_name": "SliderStyleModel",
     "state": {
      "_model_module": "@jupyter-widgets/controls",
      "_model_module_version": "1.5.0",
      "_model_name": "SliderStyleModel",
      "_view_count": null,
      "_view_module": "@jupyter-widgets/base",
      "_view_module_version": "1.2.0",
      "_view_name": "StyleView",
      "description_width": "",
      "handle_color": null
     }
    },
    "f64501ee39c743f193f253b25a24c1b6": {
     "model_module": "@jupyter-widgets/base",
     "model_module_version": "1.2.0",
     "model_name": "LayoutModel",
     "state": {
      "_model_module": "@jupyter-widgets/base",
      "_model_module_version": "1.2.0",
      "_model_name": "LayoutModel",
      "_view_count": null,
      "_view_module": "@jupyter-widgets/base",
      "_view_module_version": "1.2.0",
      "_view_name": "LayoutView",
      "align_content": null,
      "align_items": null,
      "align_self": null,
      "border": null,
      "bottom": null,
      "display": null,
      "flex": null,
      "flex_flow": null,
      "grid_area": null,
      "grid_auto_columns": null,
      "grid_auto_flow": null,
      "grid_auto_rows": null,
      "grid_column": null,
      "grid_gap": null,
      "grid_row": null,
      "grid_template_areas": null,
      "grid_template_columns": null,
      "grid_template_rows": null,
      "height": null,
      "justify_content": null,
      "justify_items": null,
      "left": null,
      "margin": null,
      "max_height": null,
      "max_width": null,
      "min_height": null,
      "min_width": null,
      "object_fit": null,
      "object_position": null,
      "order": null,
      "overflow": null,
      "overflow_x": null,
      "overflow_y": null,
      "padding": null,
      "right": null,
      "top": null,
      "visibility": null,
      "width": null
     }
    },
    "f6a29122d2dd48a4b42c353bf78b439d": {
     "model_module": "@jupyter-widgets/base",
     "model_module_version": "1.2.0",
     "model_name": "LayoutModel",
     "state": {
      "_model_module": "@jupyter-widgets/base",
      "_model_module_version": "1.2.0",
      "_model_name": "LayoutModel",
      "_view_count": null,
      "_view_module": "@jupyter-widgets/base",
      "_view_module_version": "1.2.0",
      "_view_name": "LayoutView",
      "align_content": null,
      "align_items": null,
      "align_self": null,
      "border": null,
      "bottom": null,
      "display": null,
      "flex": null,
      "flex_flow": null,
      "grid_area": null,
      "grid_auto_columns": null,
      "grid_auto_flow": null,
      "grid_auto_rows": null,
      "grid_column": null,
      "grid_gap": null,
      "grid_row": null,
      "grid_template_areas": null,
      "grid_template_columns": null,
      "grid_template_rows": null,
      "height": null,
      "justify_content": null,
      "justify_items": null,
      "left": null,
      "margin": null,
      "max_height": null,
      "max_width": null,
      "min_height": null,
      "min_width": null,
      "object_fit": null,
      "object_position": null,
      "order": null,
      "overflow": null,
      "overflow_x": null,
      "overflow_y": null,
      "padding": null,
      "right": null,
      "top": null,
      "visibility": null,
      "width": null
     }
    },
    "f9ab89ec710f4fad96eca86fc9a25354": {
     "model_module": "@jupyter-widgets/base",
     "model_module_version": "1.2.0",
     "model_name": "LayoutModel",
     "state": {
      "_model_module": "@jupyter-widgets/base",
      "_model_module_version": "1.2.0",
      "_model_name": "LayoutModel",
      "_view_count": null,
      "_view_module": "@jupyter-widgets/base",
      "_view_module_version": "1.2.0",
      "_view_name": "LayoutView",
      "align_content": null,
      "align_items": null,
      "align_self": null,
      "border": null,
      "bottom": null,
      "display": null,
      "flex": null,
      "flex_flow": null,
      "grid_area": null,
      "grid_auto_columns": null,
      "grid_auto_flow": null,
      "grid_auto_rows": null,
      "grid_column": null,
      "grid_gap": null,
      "grid_row": null,
      "grid_template_areas": null,
      "grid_template_columns": null,
      "grid_template_rows": null,
      "height": null,
      "justify_content": null,
      "justify_items": null,
      "left": null,
      "margin": null,
      "max_height": null,
      "max_width": null,
      "min_height": null,
      "min_width": null,
      "object_fit": null,
      "object_position": null,
      "order": null,
      "overflow": null,
      "overflow_x": null,
      "overflow_y": null,
      "padding": null,
      "right": null,
      "top": null,
      "visibility": null,
      "width": null
     }
    },
    "fa3c97f1e7174690aae9475214042671": {
     "model_module": "@jupyter-widgets/controls",
     "model_module_version": "1.5.0",
     "model_name": "SliderStyleModel",
     "state": {
      "_model_module": "@jupyter-widgets/controls",
      "_model_module_version": "1.5.0",
      "_model_name": "SliderStyleModel",
      "_view_count": null,
      "_view_module": "@jupyter-widgets/base",
      "_view_module_version": "1.2.0",
      "_view_name": "StyleView",
      "description_width": "",
      "handle_color": null
     }
    },
    "fedf1d603b544099b2b99251723e58f4": {
     "model_module": "@jupyter-widgets/base",
     "model_module_version": "1.2.0",
     "model_name": "LayoutModel",
     "state": {
      "_model_module": "@jupyter-widgets/base",
      "_model_module_version": "1.2.0",
      "_model_name": "LayoutModel",
      "_view_count": null,
      "_view_module": "@jupyter-widgets/base",
      "_view_module_version": "1.2.0",
      "_view_name": "LayoutView",
      "align_content": null,
      "align_items": null,
      "align_self": null,
      "border": null,
      "bottom": null,
      "display": null,
      "flex": null,
      "flex_flow": null,
      "grid_area": null,
      "grid_auto_columns": null,
      "grid_auto_flow": null,
      "grid_auto_rows": null,
      "grid_column": null,
      "grid_gap": null,
      "grid_row": null,
      "grid_template_areas": null,
      "grid_template_columns": null,
      "grid_template_rows": null,
      "height": null,
      "justify_content": null,
      "justify_items": null,
      "left": null,
      "margin": null,
      "max_height": null,
      "max_width": null,
      "min_height": null,
      "min_width": null,
      "object_fit": null,
      "object_position": null,
      "order": null,
      "overflow": null,
      "overflow_x": null,
      "overflow_y": null,
      "padding": null,
      "right": null,
      "top": null,
      "visibility": null,
      "width": null
     }
    }
   }
  }
 },
 "nbformat": 4,
 "nbformat_minor": 4
}
